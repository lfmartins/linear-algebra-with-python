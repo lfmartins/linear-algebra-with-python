{
 "cells": [
  {
   "cell_type": "code",
   "execution_count": null,
   "metadata": {
    "tags": []
   },
   "outputs": [],
   "source": [
    "from latools import *\n",
    "from sympy import *\n",
    "init_printing(use_latex=True)"
   ]
  },
  {
   "cell_type": "markdown",
   "metadata": {},
   "source": [
    "# A Simple Example\n",
    "\n",
    "As an example of the calculations needed to find the Singular Value Decomposition (SVD), let's consider the matrix:\n",
    "$$\n",
    "M=\\left[\\begin{matrix}3 & 2\\\\2 & 3\\\\2 & -2\\end{matrix}\\right]\n",
    "$$\n",
    "Since $M$ a $3\\times 2$ matrix, the associated linear transformation $L(\\mathbf{x})=M\\mathbf{x}$ has domain $\\mathbb{R^3}$ and codomain $\\mathbb{R}^2$. So, the goal of the SVD is to find:\n",
    "\n",
    "- An orthonormal basis $B$ of $\\mathbf{R^3}$. Denote by $P$ the matrix that has the vectors of $B$ as its columns.\n",
    "- An orthonormal basis $C$ of $\\mathbf{R^2}$. Denote by $Q$ the matrix that has the vectors of $C$ as ist columns.\n",
    "- The bases have the property that the matrix of $L$ from basis $B$ to basis $C$ has the form:\n",
    "$$\n",
    "D=Q^TMP\n",
    "$$\n",
    "where:\n",
    "$$\n",
    "D=\\begin{bmatrix}\\sqrt{\\lambda_1}&0\\\\0&\\sqrt{\\lambda_2}\\\\0&0\\end{bmatrix}\n",
    "$$\n",
    "$\\lambda_1$ and $\\lambda_2$ are the eigenvalues of the matrix $M^TM$. The singular values of $M$ are $\\sqrt{\\lambda_1}$ and $\\sqrt{\\lambda_2}$.\n",
    "\n",
    "Let's now see the steps needed to find the SVD:"
   ]
  },
  {
   "cell_type": "code",
   "execution_count": null,
   "metadata": {
    "collapsed": false,
    "jupyter": {
     "outputs_hidden": false
    }
   },
   "outputs": [],
   "source": [
    "M = rational_matrix([[3,2],\n",
    "                     [2,3],\n",
    "                     [2,-2]])\n",
    "M"
   ]
  },
  {
   "cell_type": "markdown",
   "metadata": {},
   "source": [
    "This is a $3\\times 2$ matrix, so we can use the singular value decomposition. \n",
    "\n",
    "__Step 1:__ Compute $A=M^TM$, find its eigenvalues and an orthonormal basis of eigenvectors:"
   ]
  },
  {
   "cell_type": "code",
   "execution_count": null,
   "metadata": {
    "collapsed": false,
    "jupyter": {
     "outputs_hidden": false
    }
   },
   "outputs": [],
   "source": [
    "A = M.T * M\n",
    "A"
   ]
  },
  {
   "cell_type": "markdown",
   "metadata": {},
   "source": [
    "As expected, this is a symmetric $2\\times 2$ matrix. To find an orthonormal basis of $\\mathbb{R}^2$ that consists of eigenvectors of $A$, we start by computing the eigenvalues of $A$:"
   ]
  },
  {
   "cell_type": "code",
   "execution_count": null,
   "metadata": {
    "collapsed": false,
    "jupyter": {
     "outputs_hidden": false
    }
   },
   "outputs": [],
   "source": [
    "lbd = symbols('lambda')\n",
    "p = det(A - lbd * eye(2))\n",
    "p"
   ]
  },
  {
   "cell_type": "code",
   "execution_count": null,
   "metadata": {
    "collapsed": false,
    "jupyter": {
     "outputs_hidden": false
    }
   },
   "outputs": [],
   "source": [
    "factor(p)"
   ]
  },
  {
   "cell_type": "markdown",
   "metadata": {},
   "source": [
    "The eigenvalues are $\\lambda_1=25$ and $\\lambda_2=9$. Notice that all eigenvalues are non-negative real numbers, as will always be the case.\n",
    "\n",
    "__Eigenspace associated to $\\lambda_1=25$:__"
   ]
  },
  {
   "cell_type": "code",
   "execution_count": null,
   "metadata": {
    "collapsed": false,
    "jupyter": {
     "outputs_hidden": false
    }
   },
   "outputs": [],
   "source": [
    "R = reduced_row_echelon_form(A - 25*eye(2))\n",
    "R"
   ]
  },
  {
   "cell_type": "markdown",
   "metadata": {},
   "source": [
    "This yields the system:\n",
    "$$\n",
    "x_1-x_2=0\n",
    "$$\n",
    "Letting $x_2=1$, we get $x_1=1$, and we get the eigenvector:\n",
    "$$\n",
    "\\begin{bmatrix}1\\\\1\\end{bmatrix}\n",
    "$$\n",
    "The first vector of our orthonormal basis is this vector, normalized to length 1, as computed in the next cell:"
   ]
  },
  {
   "cell_type": "code",
   "execution_count": null,
   "metadata": {
    "collapsed": false,
    "jupyter": {
     "outputs_hidden": false
    }
   },
   "outputs": [],
   "source": [
    "v = Matrix([1,1])\n",
    "u1 = v / v.norm()\n",
    "u1"
   ]
  },
  {
   "cell_type": "markdown",
   "metadata": {},
   "source": [
    "__Eigenspace associated to $\\lambda_2=9$:__"
   ]
  },
  {
   "cell_type": "code",
   "execution_count": null,
   "metadata": {
    "collapsed": false,
    "jupyter": {
     "outputs_hidden": false
    }
   },
   "outputs": [],
   "source": [
    "R = reduced_row_echelon_form(A - 9*eye(2))\n",
    "R"
   ]
  },
  {
   "cell_type": "markdown",
   "metadata": {},
   "source": [
    "This yields the system:\n",
    "$$\n",
    "x1+x2=0\n",
    "$$\n",
    "Letting $x2=-1$, we get $x1=1$, and we get the eigenvector:\n",
    "$$\n",
    "\\begin{bmatrix}1\\\\-1\\end{bmatrix}\n",
    "$$\n",
    "The second vector of our orthonormal basis is this vector, normalized to length 1, as computed in the next cell:"
   ]
  },
  {
   "cell_type": "code",
   "execution_count": null,
   "metadata": {
    "collapsed": false,
    "jupyter": {
     "outputs_hidden": false
    }
   },
   "outputs": [],
   "source": [
    "v = Matrix([1,-1])\n",
    "u2 = v / v.norm()\n",
    "u2"
   ]
  },
  {
   "cell_type": "markdown",
   "metadata": {},
   "source": [
    "We conclude that the orthonormal basis of the domain of $\\mathbb{R}^2$ is $B=\\{\\mathbf{u}_1,\\mathbf{u}_2\\}$. The corresponding change of basis matrix is:"
   ]
  },
  {
   "cell_type": "code",
   "execution_count": null,
   "metadata": {
    "collapsed": false,
    "jupyter": {
     "outputs_hidden": false
    }
   },
   "outputs": [],
   "source": [
    "P = Matrix.hstack(u1,u2)\n",
    "P"
   ]
  },
  {
   "cell_type": "markdown",
   "metadata": {},
   "source": [
    "We can check that this is correct by computing:"
   ]
  },
  {
   "cell_type": "code",
   "execution_count": null,
   "metadata": {
    "collapsed": false,
    "jupyter": {
     "outputs_hidden": false
    }
   },
   "outputs": [],
   "source": [
    "P.T * P"
   ]
  },
  {
   "cell_type": "code",
   "execution_count": null,
   "metadata": {
    "collapsed": false,
    "jupyter": {
     "outputs_hidden": false
    }
   },
   "outputs": [],
   "source": [
    "P.T * A * P"
   ]
  },
  {
   "cell_type": "markdown",
   "metadata": {},
   "source": [
    "We now need to find an orthonormal basis of the codomain, $\\mathbb{R}^3$. The starting point is to compute:\n",
    "$$\n",
    "\\mathbf{v}_i=\\frac{M\\mathbf{u}_i}{\\sqrt{\\lambda_i}}\n",
    "$$\n",
    "for all vectors $\\mathbf{u}_i$ of the orthonormal basis $B$:"
   ]
  },
  {
   "cell_type": "code",
   "execution_count": null,
   "metadata": {
    "collapsed": false,
    "jupyter": {
     "outputs_hidden": false
    }
   },
   "outputs": [],
   "source": [
    "v1 = M * u1 / sqrt(25)\n",
    "v2 = M * u2 / sqrt(9)"
   ]
  },
  {
   "cell_type": "code",
   "execution_count": null,
   "metadata": {
    "collapsed": false,
    "jupyter": {
     "outputs_hidden": false
    }
   },
   "outputs": [],
   "source": [
    "v1"
   ]
  },
  {
   "cell_type": "code",
   "execution_count": null,
   "metadata": {
    "collapsed": false,
    "jupyter": {
     "outputs_hidden": false
    }
   },
   "outputs": [],
   "source": [
    "v2"
   ]
  },
  {
   "cell_type": "markdown",
   "metadata": {},
   "source": [
    "The set $\\{\\mathbf{v}_1,\\mathbf{v}_2\\}$ is an orthonormal set, as verified in the following computational cells."
   ]
  },
  {
   "cell_type": "code",
   "execution_count": null,
   "metadata": {
    "collapsed": false,
    "jupyter": {
     "outputs_hidden": false
    }
   },
   "outputs": [],
   "source": [
    "v1.dot(v2)"
   ]
  },
  {
   "cell_type": "code",
   "execution_count": null,
   "metadata": {
    "collapsed": false,
    "jupyter": {
     "outputs_hidden": false
    }
   },
   "outputs": [],
   "source": [
    "v1.norm()"
   ]
  },
  {
   "cell_type": "code",
   "execution_count": null,
   "metadata": {
    "collapsed": false,
    "jupyter": {
     "outputs_hidden": false
    }
   },
   "outputs": [],
   "source": [
    "v2.norm()"
   ]
  },
  {
   "cell_type": "markdown",
   "metadata": {},
   "source": [
    "We now need to complete  $\\{\\mathbf{v}_1,\\mathbf{v}_2\\}$ to an orthonormal basis of $\\mathbb{R}^3$. We need to find one more vector for the basis, which can be done by using the Gram-Schmidt procedure as follows:"
   ]
  },
  {
   "cell_type": "code",
   "execution_count": null,
   "metadata": {
    "collapsed": false,
    "jupyter": {
     "outputs_hidden": false
    }
   },
   "outputs": [],
   "source": [
    "v = Matrix([1,0,0])\n",
    "v3 = v - v.dot(v1) / v1.dot(v1) * v1 - v.dot(v2) / v2.dot(v2) * v2\n",
    "v3 = v3 / v3.norm()\n",
    "v3"
   ]
  },
  {
   "cell_type": "markdown",
   "metadata": {},
   "source": [
    "The following cell finishes the check that $\\{\\mathbf{v}_1,\\mathbf{v}_2,\\mathbf{v}_3\\}$ is an orthonormal basis of $\\mathbb{R}^3$:"
   ]
  },
  {
   "cell_type": "code",
   "execution_count": null,
   "metadata": {
    "collapsed": false,
    "jupyter": {
     "outputs_hidden": false
    }
   },
   "outputs": [],
   "source": [
    "v1.dot(v3), v2.dot(v3), v3.dot(v3)"
   ]
  },
  {
   "cell_type": "markdown",
   "metadata": {},
   "source": [
    "Let's now compute the change of basis matrix for the basis $\\{\\mathbf{v}_1,\\mathbf{v}_2,\\mathbf{v}_3\\}$:"
   ]
  },
  {
   "cell_type": "code",
   "execution_count": null,
   "metadata": {
    "collapsed": false,
    "jupyter": {
     "outputs_hidden": false
    }
   },
   "outputs": [],
   "source": [
    "Q = Matrix.hstack(v1,v2,v3)\n",
    "Q"
   ]
  },
  {
   "cell_type": "markdown",
   "metadata": {},
   "source": [
    "This should be an orthogonal matrix:"
   ]
  },
  {
   "cell_type": "code",
   "execution_count": null,
   "metadata": {
    "collapsed": false,
    "jupyter": {
     "outputs_hidden": false
    }
   },
   "outputs": [],
   "source": [
    "Q.T*Q"
   ]
  },
  {
   "cell_type": "markdown",
   "metadata": {},
   "source": [
    "We can now check that\n",
    "$$\n",
    "Q^TMP=\\begin{bmatrix}\\sqrt{\\lambda_1}&0\\\\0&\\sqrt{\\lambda_2}\\\\0&0\\end{bmatrix}\n",
    "$$"
   ]
  },
  {
   "cell_type": "code",
   "execution_count": null,
   "metadata": {
    "collapsed": false,
    "jupyter": {
     "outputs_hidden": false
    }
   },
   "outputs": [],
   "source": [
    "Q.T * M * P"
   ]
  },
  {
   "cell_type": "code",
   "execution_count": null,
   "metadata": {},
   "outputs": [],
   "source": []
  }
 ],
 "metadata": {
  "anaconda-cloud": {},
  "kernelspec": {
   "display_name": "Python 3",
   "language": "python",
   "name": "python3"
  },
  "language_info": {
   "codemirror_mode": {
    "name": "ipython",
    "version": 3
   },
   "file_extension": ".py",
   "mimetype": "text/x-python",
   "name": "python",
   "nbconvert_exporter": "python",
   "pygments_lexer": "ipython3",
   "version": "3.8.5"
  }
 },
 "nbformat": 4,
 "nbformat_minor": 4
}
