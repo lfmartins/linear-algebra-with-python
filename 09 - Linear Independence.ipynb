{
 "cells": [
  {
   "cell_type": "code",
   "execution_count": null,
   "metadata": {},
   "outputs": [],
   "source": [
    "from latools import *\n",
    "from sympy import *\n",
    "init_printing(use_latex=True)"
   ]
  },
  {
   "cell_type": "markdown",
   "metadata": {},
   "source": [
    "# Linear Independence\n",
    "\n",
    "To determine if the vectors $\\mathbf{v}_1$, $\\mathbf{v}_2$, ..., $\\mathbf{v}_k$ are linearly independent we proceed as follows:\n",
    "\n",
    "- Solve the linear system:\n",
    "$$\n",
    "c_1\\mathbf{v}_1+c_2\\mathbf{v}_2+\\cdots+c_k\\mathbf{v}_k=\\mathbf{0}\n",
    "$$\n",
    "- If the only solution of the system is $c_1=c_2=\\cdots c_k=0$, the vectors are linearly independent. Otherwise, they are linearly dependent.\n",
    "\n",
    "## Example 1\n",
    "\n",
    "Determine if the vectors:\n",
    "$$\n",
    "\\mathbf{v}_1=\\begin{bmatrix} 1\\\\ -2\\\\ 3\\\\ 3\\end{bmatrix},\\quad\n",
    "\\mathbf{v}_2=\\begin{bmatrix} 0\\\\ 2\\\\ -4\\\\ 1\\end{bmatrix},\\quad\n",
    "\\mathbf{v}_3=\\begin{bmatrix} 1\\\\ 1\\\\ -3\\\\ 2\\end{bmatrix}\n",
    "$$\n",
    "\n",
    "### Solution:\n",
    "\n",
    "We write the system:\n",
    "$$\n",
    "c_1\\begin{bmatrix} 1\\\\ -2\\\\ 3\\\\ 3\\end{bmatrix}+\n",
    "c_2\\begin{bmatrix} 0\\\\ 2\\\\ -4\\\\ 1\\end{bmatrix}+\n",
    "c_3\\begin{bmatrix} 1\\\\ 1\\\\ -3\\\\ 2\\end{bmatrix}=\n",
    "\\begin{bmatrix}0\\\\0\\\\0\\\\0\\end{bmatrix}\n",
    "$$\n",
    "Equivalently:\n",
    "$$\n",
    "\\begin{bmatrix}1&0&1\\\\-2&2&1\\\\3&-4&-3\\\\3&1&2\\end{bmatrix}\n",
    "\\begin{bmatrix}c_1\\\\c_2\\\\c_3\\end{bmatrix}=\n",
    "\\begin{bmatrix}0\\\\0\\\\0\\\\0\\end{bmatrix}\n",
    "$$\n",
    "Since this is a homogeneous system, we don't need to keep track of the right-hand side vector, so we work with the matrix $A$ itself, instead of the augmented matrix:"
   ]
  },
  {
   "cell_type": "code",
   "execution_count": null,
   "metadata": {
    "collapsed": false,
    "jupyter": {
     "outputs_hidden": false
    }
   },
   "outputs": [],
   "source": [
    "A = rational_matrix([[ 1,  0,  1],\n",
    "                     [-2,  2,  1],\n",
    "                     [ 3, -4, -3],\n",
    "                     [ 3,  1,  2]])\n",
    "A"
   ]
  },
  {
   "cell_type": "markdown",
   "metadata": {},
   "source": [
    "We now use the function `reduced_row_echelon_form()` to find the RREF matrix equivalent to $A$:"
   ]
  },
  {
   "cell_type": "code",
   "execution_count": null,
   "metadata": {
    "collapsed": false,
    "jupyter": {
     "outputs_hidden": false
    }
   },
   "outputs": [],
   "source": [
    "R = reduced_row_echelon_form(A)\n",
    "R"
   ]
  },
  {
   "cell_type": "markdown",
   "metadata": {},
   "source": [
    "The three columns in this matrix correspond to the variables $c_1$, $c_2$ and $c_3$ (remember, this is _not_ the augmented matrix). So, this matrix corresponds to the solution:\n",
    "\\begin{align*}\n",
    "c_1&=0\\\\\n",
    "c_2&=0\\\\\n",
    "c_3&=0\\\\\n",
    "\\end{align*}\n",
    "Notice that the last row consists only of zeros, and can be ignored.\n",
    "\n",
    "We conclude that, the only solution to:\n",
    "$$\n",
    "c_1\\mathbf{v}_1+c_2\\mathbf{v}_2+c_3\\mathbf{v}_3=\\mathbf{0}\n",
    "$$\n",
    "is\n",
    "$$\n",
    "c_1=0,\\quad c_2=0,\\quad c_3=0\n",
    "$$\n",
    "It follows that the vectors are _linearly independent_."
   ]
  },
  {
   "cell_type": "markdown",
   "metadata": {},
   "source": [
    "## Example 2\n",
    "\n",
    "Determine if the vectors:\n",
    "$$\n",
    "\\mathbf{v}_1=\\begin{bmatrix} -1\\\\ 2\\\\ 0\\\\ 3\\end{bmatrix},\\quad\n",
    "\\mathbf{v}_2=\\begin{bmatrix} 0\\\\ 1\\\\ 2\\\\ 4\\end{bmatrix},\\quad\n",
    "\\mathbf{v}_3=\\begin{bmatrix} 1\\\\ 2\\\\ 1\\\\ 3\\end{bmatrix},\\quad\n",
    "\\mathbf{v}_4=\\begin{bmatrix} 2\\\\ 9\\\\ -2\\\\ -6\\end{bmatrix}\n",
    "$$\n",
    "are linearly independent.\n",
    "\n",
    "### Solution:\n",
    "We need to solve the linear system:\n",
    "$$\n",
    "c_1\\begin{bmatrix} -1\\\\ 2\\\\ 0\\\\ 3\\end{bmatrix}+\n",
    "c_2\\begin{bmatrix} 0\\\\ 1\\\\ 2\\\\ 4\\end{bmatrix}+\n",
    "c_3\\begin{bmatrix} 1\\\\ 2\\\\ 1\\\\ 3\\end{bmatrix}+\n",
    "c_4\\begin{bmatrix} 2\\\\ 9\\\\ -2\\\\ -6\\end{bmatrix}=\n",
    "\\begin{bmatrix}0\\\\0\\\\0\\\\0\\end{bmatrix}\n",
    "$$\n",
    "In matrix form:\n",
    "$$\n",
    "\\begin{bmatrix}-1&0&1&2\\\\2&1&2&9\\\\0&2&1&-2\\\\3&4&3&6\\end{bmatrix}\n",
    "\\begin{bmatrix}c_1\\\\c_2\\\\c_3\\\\c_4\\end{bmatrix}=\n",
    "\\begin{bmatrix}0\\\\0\\\\0\\\\0\\end{bmatrix}\n",
    "$$\n",
    "The matrix of the system is (ignoring the right-hand side, since the system is homogeneous):"
   ]
  },
  {
   "cell_type": "code",
   "execution_count": null,
   "metadata": {
    "collapsed": false,
    "jupyter": {
     "outputs_hidden": false
    }
   },
   "outputs": [],
   "source": [
    "A = rational_matrix([[-1, 0, 1,  2],\n",
    "                     [ 2, 1, 2,  9],\n",
    "                     [ 0, 2, 1, -2],\n",
    "                     [ 3, 4, 3,  6]])\n",
    "A"
   ]
  },
  {
   "cell_type": "markdown",
   "metadata": {},
   "source": [
    "The RREF equivalent matrix is:"
   ]
  },
  {
   "cell_type": "code",
   "execution_count": null,
   "metadata": {
    "collapsed": false,
    "jupyter": {
     "outputs_hidden": false
    }
   },
   "outputs": [],
   "source": [
    "R = reduced_row_echelon_form(A)\n",
    "R"
   ]
  },
  {
   "cell_type": "markdown",
   "metadata": {},
   "source": [
    "Thus, the original system is equivalent to:\n",
    "\\begin{align*}\n",
    "c_1+2c_4&=0\\\\\n",
    "c_2-3c_4&=0\\\\\n",
    "c_3+4c_4&=0\n",
    "\\end{align*}\n",
    "Since there are free variables, this system has infinitely many solutions. For example, we can let $c_4=1$, so that $c_1=-2$, $c_2=3$ and $c_3=-4$, and we get the relation:\n",
    "$$\n",
    "-2\\textbf{v}_1+3\\textbf{v}_2-4\\textbf{v}_3+\\textbf{v}_4=\\textbf{0}\n",
    "$$\n",
    "We conclude that the vectors are _linearly dependent_.\n",
    "\n",
    "Notice that, from the formula above, we can express any of the vectors that appears with a nonzero coefficient in terms of the other. For example:\n",
    "$$\n",
    "-4\\textbf{v}_3=2\\textbf{v}_1-3\\textbf{v}_2-\\textbf{v}_4\n",
    "$$\n",
    "Thus:\n",
    "$$\n",
    "\\textbf{v}_3=-\\frac{1}{2}\\textbf{v}_1-\\frac{3}{4}\\textbf{v}_2+\\frac{1}{4}\\textbf{v}_4\n",
    "$$\n",
    "So, if we remove the vector $\\textbf{v}_3$ from the set, we are removing a \"dependency\", and we may ask if the set of remaining vectors:\n",
    "$$\n",
    "\\mathbf{v}_1=\\begin{bmatrix} -1\\\\ 2\\\\ 0\\\\ 3\\end{bmatrix},\\quad\n",
    "\\mathbf{v}_2=\\begin{bmatrix} 0\\\\ 1\\\\ 2\\\\ 4\\end{bmatrix},\\quad\n",
    "\\mathbf{v}_4=\\begin{bmatrix} 2\\\\ 9\\\\ -2\\\\ -6\\end{bmatrix}\n",
    "$$\n",
    "is linearly independent. Again, we can use this using the definition of linear independence and some algebra. We need to solve the system:\n",
    "$$\n",
    "c_1\\begin{bmatrix} -1\\\\ 2\\\\ 0\\\\ 3\\end{bmatrix}+\n",
    "c_2\\begin{bmatrix} 0\\\\ 1\\\\ 2\\\\ 4\\end{bmatrix}+\n",
    "c_3\\begin{bmatrix} 2\\\\ 9\\\\ -2\\\\ -6\\end{bmatrix}=\n",
    "\\begin{bmatrix}0\\\\0\\\\0\\\\0\\end{bmatrix}\n",
    "$$\n",
    "In matrix form:\n",
    "$$\n",
    "\\begin{bmatrix}-1&0&2\\\\2&1&9\\\\0&2&-2\\\\3&4&6\\end{bmatrix}\n",
    "\\begin{bmatrix}c_1\\\\c_2\\\\c_3\\end{bmatrix}=\n",
    "\\begin{bmatrix}0\\\\0\\\\0\\\\0\\end{bmatrix}\n",
    "$$\n",
    "The solution to the system is as follows:"
   ]
  },
  {
   "cell_type": "code",
   "execution_count": null,
   "metadata": {
    "collapsed": false,
    "jupyter": {
     "outputs_hidden": false
    }
   },
   "outputs": [],
   "source": [
    "A = rational_matrix([[-1, 0,  2],\n",
    "                     [ 2, 1,  9],\n",
    "                     [ 0, 2, -2],\n",
    "                     [ 3, 4,  6]])\n",
    "A"
   ]
  },
  {
   "cell_type": "code",
   "execution_count": null,
   "metadata": {
    "collapsed": false,
    "jupyter": {
     "outputs_hidden": false
    }
   },
   "outputs": [],
   "source": [
    "R = reduced_row_echelon_form(A)\n",
    "R"
   ]
  },
  {
   "cell_type": "markdown",
   "metadata": {},
   "source": [
    "The system now only has the trivial solution, $c_1=0$, $c_2=0$ $c_3=0$. We conclude that $\\mathbf{v}_1$,  $\\mathbf{v}_2$ and  $\\mathbf{v}_4$ are _linearly independent_.\n",
    "\n",
    "The next example demonstrates a streamlined method to obtain a linearly independent subset from a given set of vectors."
   ]
  },
  {
   "cell_type": "markdown",
   "metadata": {},
   "source": [
    "## Example 3\n",
    "\n",
    "Find a subset of $\\{\\mathbf{v}_1,\\mathbf{v}_2,\\mathbf{v}_3,\\mathbf{v}_4,\\mathbf{v}_5\\}$ that is linearly independent, where:\n",
    "$$\n",
    "\\mathbf{v}_1=\\left[\\begin{matrix}1\\\\-2\\\\0\\\\-3\\\\-6\\end{matrix}\\right],\\quad\n",
    "\\mathbf{v}_2=\\left[\\begin{matrix}-2\\\\4\\\\0\\\\6\\\\12\\end{matrix}\\right],\\quad\n",
    "\\mathbf{v}_3=\\left[\\begin{matrix}2\\\\-3\\\\1\\\\-2\\\\-5\\end{matrix}\\right],\\quad\n",
    "\\mathbf{v}_4=\\left[\\begin{matrix}7\\\\-11\\\\3\\\\-9\\\\-21\\end{matrix}\\right],\\quad\n",
    "\\mathbf{v}_5=\\left[\\begin{matrix}-2\\\\2\\\\-1\\\\0\\\\1\\end{matrix}\\right]\n",
    "$$\n",
    "\n",
    "_Solution_:\n",
    "\n",
    "We first solve the system:\n",
    "$$\n",
    "c_1\\mathbf{v}_1+c_2\\mathbf{v}_2+c_3\\mathbf{v}_3+c_4\\mathbf{v}_4+c_5\\mathbf{v}_5=\\mathbf{0}\n",
    "$$\n",
    "In matrix form this becomes:\n",
    "$$\n",
    "\\left[\\begin{matrix}1 & -2 & 2 & 7 & -2\\\\-2 & 4 & -3 & -11 & 2\\\\0 & 0 & 1 & 3 & -1\\\\-3 & 6 & -2 & -9 & 0\\\\-6 & 12 & -5 & -21 & 1\\end{matrix}\\right]\n",
    "\\begin{bmatrix}c_1\\\\c_2\\\\c_3\\\\c_4\\\\c_5\\end{bmatrix}=\n",
    "\\begin{bmatrix}0\\\\0\\\\0\\\\0\\\\0\\end{bmatrix}\n",
    "$$\n",
    "The solution is in the following cells:"
   ]
  },
  {
   "cell_type": "code",
   "execution_count": null,
   "metadata": {
    "collapsed": false,
    "jupyter": {
     "outputs_hidden": false
    }
   },
   "outputs": [],
   "source": [
    "A = rational_matrix([[ 1, -2,  2,   7, -2],\n",
    "                     [-2,  4, -3, -11,  2],\n",
    "                     [ 0,  0,  1,   3, -1],\n",
    "                     [-3,  6, -2,  -9,  0],\n",
    "                     [-6, 12, -5, -21,  1]])\n",
    "A"
   ]
  },
  {
   "cell_type": "markdown",
   "metadata": {},
   "source": [
    "The RREF is:"
   ]
  },
  {
   "cell_type": "code",
   "execution_count": null,
   "metadata": {
    "collapsed": false,
    "jupyter": {
     "outputs_hidden": false
    }
   },
   "outputs": [],
   "source": [
    "R = reduced_row_echelon_form(A)\n",
    "R"
   ]
  },
  {
   "cell_type": "markdown",
   "metadata": {},
   "source": [
    "The original system is equivalent to:\n",
    "\\begin{align*}\n",
    "c_1-2c_2+c_4&=0\\\\\n",
    "c_3+3c_4&=0\\\\\n",
    "c_5&=0\n",
    "\\end{align*}\n",
    "The free variables are $c_2$ and $c_4$, and the privot variables are $c_1$, $c_3$ and $c_5$.\n",
    "\n",
    "Now, notice that _if we set the free variables equal to $0$, then the pivot variables will also be zero_. This means that the only solution of:\n",
    "$$\n",
    "c_1\\mathbf{v}_1+c_3\\mathbf{v}_3+c_5\\mathbf{v}_5=\\mathbf{0}\n",
    "$$\n",
    "is $c_1=c_3=c_5=0$, and the vectors $\\mathbf{v}_1$, $\\mathbf{v}_3$, $\\mathbf{v}_5$ are linearly independent. In fact, this is a _maximal_ linearly independent subset of the given vectors, because the solution of the system above shows that $v_2$ and $v_4$ can be expressed in terms of $v_1$, $v_3$, $v_5$.\n",
    "\n",
    "This principle can be used in general to solve this kind of problem:\n",
    "\n",
    "Suppose that a finite set of vectors $\\{\\mathbf{v}_1,\\mathbf{v}_2,\\ldots,\\mathbf{v}_k\\}$, and we want to find a _maximal linearly independent subset_ of this set. Proceed as follows:\n",
    "\n",
    "- Let $A$ be the matrix that has the given vectors in its columns: $A=\\begin{bmatrix}\\mathbf{v}_1&\\mathbf{v}_2&\\ldots&\\mathbf{v}_k\\end{bmatrix}$\n",
    "\n",
    "- Find the RREF of $A$.\n",
    "\n",
    "- A minimal set of linearly independent vectors is formed by the vectors that correspond to the _pivot columns_ of the RREF."
   ]
  },
  {
   "cell_type": "markdown",
   "metadata": {},
   "source": [
    "## Example 4\n",
    "\n",
    "Find a subset of the vectors that is maximally linearly independent:\n",
    "$$\n",
    "\\mathbf{v}_1=\\begin{bmatrix} 2\\\\ 4\\\\ -1\\end{bmatrix},\\quad\n",
    "\\mathbf{v}_2=\\begin{bmatrix} 4\\\\ -8\\\\ 2\\end{bmatrix},\\quad\n",
    "\\mathbf{v}_3=\\begin{bmatrix} 0\\\\ 2\\\\ 0\\end{bmatrix},\\quad\n",
    "\\mathbf{v}_4=\\begin{bmatrix} 2\\\\ 6\\\\ -1\\end{bmatrix},\\quad\n",
    "$$\n",
    "\n",
    "_Solution_:\n",
    "\n",
    "Form a matrix with the vectors on its columns:"
   ]
  },
  {
   "cell_type": "code",
   "execution_count": null,
   "metadata": {
    "collapsed": false,
    "jupyter": {
     "outputs_hidden": false
    }
   },
   "outputs": [],
   "source": [
    "A = rational_matrix([[ 2,  -4, 0,  2],\n",
    "                     [ 4,  -8, 2,  6],\n",
    "                     [-1,   2, 0, -1]])\n",
    "A"
   ]
  },
  {
   "cell_type": "markdown",
   "metadata": {},
   "source": [
    "Find the RREF equivalent matrix:"
   ]
  },
  {
   "cell_type": "code",
   "execution_count": null,
   "metadata": {
    "collapsed": false,
    "jupyter": {
     "outputs_hidden": false
    }
   },
   "outputs": [],
   "source": [
    "R = reduced_row_echelon_form(A)\n",
    "R"
   ]
  },
  {
   "cell_type": "markdown",
   "metadata": {},
   "source": [
    "Columns 1 and 3 are pivot columns, so a maximal linearly independent set is given by:\n",
    "$$\n",
    "\\mathbf{v}_1=\\begin{bmatrix} 2\\\\ 4\\\\ -1\\end{bmatrix},\\quad\n",
    "\\mathbf{v}_3=\\begin{bmatrix} 0\\\\ 2\\\\ 0\\end{bmatrix},\\quad\n",
    "$$"
   ]
  }
 ],
 "metadata": {
  "anaconda-cloud": {},
  "kernelspec": {
   "display_name": "Python 3",
   "language": "python",
   "name": "python3"
  },
  "language_info": {
   "codemirror_mode": {
    "name": "ipython",
    "version": 3
   },
   "file_extension": ".py",
   "mimetype": "text/x-python",
   "name": "python",
   "nbconvert_exporter": "python",
   "pygments_lexer": "ipython3",
   "version": "3.8.5"
  }
 },
 "nbformat": 4,
 "nbformat_minor": 4
}
