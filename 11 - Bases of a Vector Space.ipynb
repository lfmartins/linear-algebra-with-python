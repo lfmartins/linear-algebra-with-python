{
 "cells": [
  {
   "cell_type": "code",
   "execution_count": null,
   "metadata": {
    "collapsed": false,
    "jupyter": {
     "outputs_hidden": false
    }
   },
   "outputs": [],
   "source": [
    "from latools import *\n",
    "from sympy import *\n",
    "init_printing(use_latex=True)"
   ]
  },
  {
   "cell_type": "markdown",
   "metadata": {},
   "source": [
    "# Bases of a Vector Space\n",
    "## Example 1\n",
    "Determine if the set of vectors:\n",
    "$$\n",
    "\\mathbf{v}_1=\\begin{bmatrix}1\\\\2\\\\4\\end{bmatrix},\\quad\n",
    "\\mathbf{v}_2=\\begin{bmatrix}2\\\\3\\\\-2\\end{bmatrix},\\quad\n",
    "\\mathbf{v}_1=\\begin{bmatrix}1\\\\2\\\\4\\end{bmatrix}\n",
    "$$\n",
    "is a basis of $\\mathbb{R}^3$.\n",
    "\n",
    "_Solution_: We start by checking if the give set spans $\\mathbb{R}^3$, that is, if we can always find $c_1$, $c_2$ and $c_3$ such that\n",
    "$$\n",
    "\\begin{bmatrix}x\\\\y\\\\z\\end{bmatrix}=c_1\\mathbf{v}_1+c_3\\mathbf{v}_2+c_3\\mathbf{v}_3\n",
    "$$\n",
    "To do this, we have to solve the system with augmented matrix:"
   ]
  },
  {
   "cell_type": "code",
   "execution_count": null,
   "metadata": {
    "collapsed": false,
    "jupyter": {
     "outputs_hidden": false
    }
   },
   "outputs": [],
   "source": [
    "x,y,z = symbols('x,y,z')\n",
    "A = rational_matrix([[1,  2, -1, x],\n",
    "                     [2,  3, -2, y],\n",
    "                     [4, -1, -1, z]])\n",
    "A"
   ]
  },
  {
   "cell_type": "markdown",
   "metadata": {},
   "source": [
    "The RREF of the matrix is:"
   ]
  },
  {
   "cell_type": "code",
   "execution_count": null,
   "metadata": {
    "collapsed": false,
    "jupyter": {
     "outputs_hidden": false
    }
   },
   "outputs": [],
   "source": [
    "R = reduced_row_echelon_form(A, extra_cols=1)\n",
    "R"
   ]
  },
  {
   "cell_type": "markdown",
   "metadata": {},
   "source": [
    "From this RREF we see that we can always find $c_1$, $c_2$, $c_3$ for any given values of $x$, $y$, $z$. It follows that this set of vectors spans $\\mathbb{R}^3$. \n",
    "\n",
    "To check that the set of vectors is linearly independent, just notice that, ignoring the last column, there are no free variables in the left three columns of matrix $R$. This implies that the only solution of $c_1\\mathbf{v}_1+c_3\\mathbf{v}_2+c_3\\mathbf{v}_3=\\mathbf{0}$ is $c_1=c_2=c_3=0$, and the vectors are linearly independent."
   ]
  },
  {
   "cell_type": "markdown",
   "metadata": {},
   "source": [
    "## Example 2\n",
    "Determine if the vectors below span $\\mathbf{R}^4$:\n",
    "$$\n",
    "\\mathbf{v}_1=\\begin{bmatrix}1\\\\2\\\\0\\\\-1\\end{bmatrix},\\quad\n",
    "\\mathbf{v}_2=\\begin{bmatrix}3\\\\-1\\\\4\\\\0\\end{bmatrix},\\quad\n",
    "\\mathbf{v}_3=\\begin{bmatrix}1\\\\1\\\\1\\\\2\\end{bmatrix}\n",
    "$$\n",
    "\n",
    "_Solution_: As above, we attempt to solve the system with augmented matrix:"
   ]
  },
  {
   "cell_type": "code",
   "execution_count": null,
   "metadata": {
    "collapsed": false,
    "jupyter": {
     "outputs_hidden": false
    }
   },
   "outputs": [],
   "source": [
    "x,y,z,t = symbols('x,y,z,t')\n",
    "A = rational_matrix([[ 1,  3, 1, x],\n",
    "                     [ 2, -1, 1, y],\n",
    "                     [ 0,  4, 1, z],\n",
    "                     [-1,  0, 2, t]])\n",
    "A"
   ]
  },
  {
   "cell_type": "markdown",
   "metadata": {},
   "source": [
    "The RREF is:"
   ]
  },
  {
   "cell_type": "code",
   "execution_count": null,
   "metadata": {
    "collapsed": false,
    "jupyter": {
     "outputs_hidden": false
    }
   },
   "outputs": [],
   "source": [
    "R = reduced_row_echelon_form(A, extra_cols=1)\n",
    "R"
   ]
  },
  {
   "cell_type": "markdown",
   "metadata": {},
   "source": [
    "Notice the last line, which corresponds to the equation:\n",
    "\\[\n",
    "0=t+7x-3y-6z\n",
    "\\]\n",
    "This equation is impossible if the expression in the right is not zero. We conclude that the given set _does not span $\\mathbb{R}^4$. \n",
    "\n",
    "The procedure above gives the same result for any set of three or fewer vectors in $\\mathbb{R}^4$. This illustrates the general principle:\n",
    "\n",
    "__Proposition__. A set with fewer than $n$ vectors cannot span $\\mathbb{R}^n$"
   ]
  },
  {
   "cell_type": "markdown",
   "metadata": {},
   "source": [
    "## Example 3\n",
    "Determine if the vectors below are linearly independent in $\\mathbb{R}^2$:\n",
    "$$\n",
    "\\mathbf{v}_1=\\begin{bmatrix}1\\\\1\\end{bmatrix},\\quad\n",
    "\\mathbf{v}_2=\\begin{bmatrix}-1\\\\2\\end{bmatrix},\\quad\n",
    "\\mathbf{v}_1=\\begin{bmatrix}-3\\\\0\\end{bmatrix}\n",
    "$$\n",
    "\n",
    "_Solution_: We have to solve the homogeneous system $c_1\\mathbf{v}_1+c_2\\mathbf{v}_2+c_3\\mathbf{v}_3=\\mathbf{0}$. The matrix of the system (not augmented) is:"
   ]
  },
  {
   "cell_type": "code",
   "execution_count": null,
   "metadata": {
    "collapsed": false,
    "jupyter": {
     "outputs_hidden": false
    }
   },
   "outputs": [],
   "source": [
    "A = rational_matrix([[1, -1, -3],\n",
    "                     [1,  2,  0]])\n",
    "A"
   ]
  },
  {
   "cell_type": "markdown",
   "metadata": {},
   "source": [
    "This yields the RREF:"
   ]
  },
  {
   "cell_type": "code",
   "execution_count": null,
   "metadata": {
    "collapsed": false,
    "jupyter": {
     "outputs_hidden": false
    }
   },
   "outputs": [],
   "source": [
    "R = reduced_row_echelon_form(A)\n",
    "R"
   ]
  },
  {
   "cell_type": "markdown",
   "metadata": {},
   "source": [
    "This has a free variable, $c_3$, so there are nonzero solutions, and the vectors are linearly dependent. It is easy to see that this will always be the case if we have 3 or more vectors in $\\mathbf{R}^2$. This illustrated the following general fact:\n",
    "\n",
    "__Proposition__. A set of more than $n$ vectors in $\\mathbf{R}^n$ is always linearly dependent."
   ]
  },
  {
   "cell_type": "markdown",
   "metadata": {},
   "source": [
    "## Example 4\n",
    "\n",
    "Suppose we have an ordered basis of $\\mathbb{R}^3$, $B=(\\mathbf{v}_1, \\mathbf{v}_2, \\mathbf{v}_3)$, where:\n",
    "$$\n",
    "\\mathbf{v}_1=\\left[\\begin{matrix}2\\\\0\\\\1\\end{matrix}\\right],\\quad\n",
    "\\mathbf{v}_2=\\left[\\begin{matrix}1\\\\-3\\\\1\\end{matrix}\\right],\\quad\n",
    "\\mathbf{v}_3=\\left[\\begin{matrix}1\\\\1\\\\1\\end{matrix}\\right]\n",
    "$$\n",
    "\n",
    "Let's define the three vectors in Python"
   ]
  },
  {
   "cell_type": "code",
   "execution_count": null,
   "metadata": {
    "tags": []
   },
   "outputs": [],
   "source": [
    "v1 = rational_matrix([2,  0, 1])\n",
    "v2 = rational_matrix([1, -3, 1])\n",
    "v3 = rational_matrix([1,  1, 1])"
   ]
  },
  {
   "cell_type": "markdown",
   "metadata": {},
   "source": [
    "Construct the matrix $P$ by placing the vectors in its columns:\n",
    "$$\n",
    "P=\\begin{bmatrix}2&1&1\\\\0&-3&1\\\\1&1&1\\end{bmatrix}\n",
    "$$\n",
    "We can construct this matrix in Python with the following code:"
   ]
  },
  {
   "cell_type": "code",
   "execution_count": null,
   "metadata": {
    "collapsed": false,
    "jupyter": {
     "outputs_hidden": false
    }
   },
   "outputs": [],
   "source": [
    "P = Matrix.hstack(v1,v2,v3)\n",
    "P"
   ]
  },
  {
   "cell_type": "markdown",
   "metadata": {},
   "source": [
    "The matrix $P$ is the _change of basis_ matrix from basis $B$ to the standard basis $E$. This means that:\n",
    "$$\n",
    "[u]_E=P[u]_B\n",
    "$$\n",
    "Where:\n",
    "\n",
    "- $[u]_E$ are the coordinates of $u$ in the standard basis.\n",
    "- $[u]_B$ are the coordinates of $u$ in the basis $B$\n",
    "\n",
    "Then, we also have:\n",
    "$$\n",
    "[u]_B=P^{-1}[u]_E\n",
    "$$\n",
    "This means that $P^{-1}$ is the change of basis matrix from basis $E$ to basis $B$. For example, suppose that:\n",
    "$$\n",
    "[\\mathbf{u}]_E=\\begin{bmatrix}2\\\\-1\\\\1\\end{bmatrix}_E\n",
    "$$\n",
    "Then to find the coordinates of $\\mathbf{u}$ in basis $B$ we compute $P^{-1}[\\mathbf{u}]_E$"
   ]
  },
  {
   "cell_type": "code",
   "execution_count": null,
   "metadata": {
    "collapsed": false,
    "jupyter": {
     "outputs_hidden": false
    }
   },
   "outputs": [],
   "source": [
    "u = Matrix([2,-1,1])\n",
    "P**(-1) * u "
   ]
  },
  {
   "cell_type": "markdown",
   "metadata": {},
   "source": [
    "We can verify that this is correct by computing the corresponding linear combination of the vectors in the basis:"
   ]
  },
  {
   "cell_type": "code",
   "execution_count": null,
   "metadata": {
    "collapsed": false,
    "jupyter": {
     "outputs_hidden": false
    }
   },
   "outputs": [],
   "source": [
    "1*v1 + sympify('1/4')*v2 - sympify('1/4')*v3"
   ]
  },
  {
   "cell_type": "markdown",
   "metadata": {},
   "source": [
    "Next suppose that we have a linear transformation $L:\\mathbb{R}^3\\to\\mathbb{R}^3$ given by:\n",
    "$$\n",
    "L\\left(\\begin{bmatrix}x\\\\y\\\\z\\end{bmatrix}_E\\right)=\n",
    "\\left[\\begin{matrix}- \\frac{17}{2} & \\frac{1}{2} & 13\\\\- \\frac{3}{2} & \\frac{7}{2} & 3\\\\- \\frac{13}{2} & \\frac{1}{2} & 11\\end{matrix}\\right]\n",
    "\\begin{bmatrix}x\\\\y\\\\z\\end{bmatrix}_E\n",
    "$$\n",
    "Notice that, in the expression above, all coordinates are in the _standard basis_.\n",
    "\n",
    "Recall that above we defined a basis $\\mathbb{R}^3$, $B=(\\mathbf{v}_1, \\mathbf{v}_2, \\mathbf{v}_3)$.\n",
    "\n",
    "We want to find the matrix that represents the linear transformation $L$ using $B$ as input basis and $E$ as output basis. This is particularly easy, all we have to do is to construct the matrix:\n",
    "$$\n",
    "M=\\begin{bmatrix}[L(\\mathbf{v}_1)]_E&[L(\\mathbf{v}_2)]_E&L([\\mathbf{v}_3)]_E\\end{bmatrix}\n",
    "$$\n",
    "Then, \n",
    "$$\n",
    "[L(\\mathbf{u})]_E = M[\\mathbf{u}]_B\n",
    "$$\n",
    "We do this in the following cells. First, set up the matrix that defines $L$:"
   ]
  },
  {
   "cell_type": "code",
   "execution_count": null,
   "metadata": {
    "collapsed": false,
    "jupyter": {
     "outputs_hidden": false
    }
   },
   "outputs": [],
   "source": [
    "A = rational_matrix([[-17/2, 1/2, 13],\n",
    "                     [ -3/2, 7/2,  3],\n",
    "                     [-13/2, 1/2, 11]])\n",
    "A"
   ]
  },
  {
   "cell_type": "markdown",
   "metadata": {},
   "source": [
    "Then compute $L$ applied to the vectors in the basis $B$:"
   ]
  },
  {
   "cell_type": "code",
   "execution_count": null,
   "metadata": {
    "collapsed": false,
    "jupyter": {
     "outputs_hidden": false
    }
   },
   "outputs": [],
   "source": [
    "Lv1 = A*v1\n",
    "Lv1"
   ]
  },
  {
   "cell_type": "code",
   "execution_count": null,
   "metadata": {
    "collapsed": false,
    "jupyter": {
     "outputs_hidden": false
    }
   },
   "outputs": [],
   "source": [
    "Lv2 = A*v2\n",
    "Lv2"
   ]
  },
  {
   "cell_type": "code",
   "execution_count": null,
   "metadata": {
    "collapsed": false,
    "jupyter": {
     "outputs_hidden": false
    }
   },
   "outputs": [],
   "source": [
    "Lv3 = A*v3\n",
    "Lv3"
   ]
  },
  {
   "cell_type": "markdown",
   "metadata": {},
   "source": [
    "The matrix of the linear transformation has the vectors we computed above on its columns:"
   ]
  },
  {
   "cell_type": "code",
   "execution_count": null,
   "metadata": {
    "collapsed": false,
    "jupyter": {
     "outputs_hidden": false
    }
   },
   "outputs": [],
   "source": [
    "M=Matrix.hstack(Lv1,Lv2,Lv3)\n",
    "M"
   ]
  },
  {
   "cell_type": "markdown",
   "metadata": {},
   "source": [
    "We are now ready to compute the matrix of the linear transformation from the input basis $B$ to the input basis $B$. We just have to put together two formulas that we saw before:\n",
    "$$\n",
    "[L(u)]_E=M[u]_B\n",
    "$$\n",
    "and\n",
    "$$\n",
    "[L (u)]_B=P^{-1}[L(u)]_E\n",
    "$$\n",
    "Putting these two formulas together we have:\n",
    "$$\n",
    "[L (u)]_B=P^{-1}[L(u)]_E=P^{-1}M[u]_B\n",
    "$$\n",
    "So, the matrix we seek is $P^{-1}M$:"
   ]
  },
  {
   "cell_type": "code",
   "execution_count": null,
   "metadata": {
    "collapsed": false,
    "jupyter": {
     "outputs_hidden": false
    }
   },
   "outputs": [],
   "source": [
    "P**(-1)*M"
   ]
  },
  {
   "cell_type": "markdown",
   "metadata": {},
   "source": [
    "We notice the remarkable fact that this matrix is diagonal, that is, the linear transformation $L$ has a specially simple representation in the basis $B$. The next topic we will study is how to find these basis that make the representation of a linear transformation very simple."
   ]
  },
  {
   "cell_type": "code",
   "execution_count": null,
   "metadata": {},
   "outputs": [],
   "source": []
  }
 ],
 "metadata": {
  "anaconda-cloud": {},
  "kernelspec": {
   "display_name": "Python 3",
   "language": "python",
   "name": "python3"
  },
  "language_info": {
   "codemirror_mode": {
    "name": "ipython",
    "version": 3
   },
   "file_extension": ".py",
   "mimetype": "text/x-python",
   "name": "python",
   "nbconvert_exporter": "python",
   "pygments_lexer": "ipython3",
   "version": "3.8.5"
  }
 },
 "nbformat": 4,
 "nbformat_minor": 4
}
