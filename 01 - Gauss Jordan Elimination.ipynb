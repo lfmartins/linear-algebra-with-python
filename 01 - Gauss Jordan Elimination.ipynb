{
 "cells": [
  {
   "cell_type": "markdown",
   "metadata": {},
   "source": [
    "# Gauss-Jordan Elimination\n",
    "\n",
    "## Loading ``latools``\n",
    "\n",
    "This notebook requires the module `latools`. The file `latools.py` must be present in the same folder as this notebook. `latools.py` can be downloaded from the course site.\n",
    "\n",
    "Run the cell below by clicking on it and pressing ``Shift-Enter`` (that is, hold down the ``Shift`` and ``Enter`` keys on the keyboard). "
   ]
  },
  {
   "cell_type": "code",
   "execution_count": 1,
   "metadata": {},
   "outputs": [],
   "source": [
    "from latools import *\n",
    "from sympy import *\n",
    "# If you are getting an error when printing matrices and vectors, \n",
    "# change the following line to use_latex=False\n",
    "init_printing(use_latex=True)"
   ]
  },
  {
   "cell_type": "markdown",
   "metadata": {},
   "source": [
    "__Note__: If you get errors running the code above, you probably don't have the file ``latools.py`` in the same directory as the notebook.\n",
    "\n",
    "Running the cell will not produce any output, it just loads the functions from the module ``latools``. The code in the cell above does the following:\n",
    "\n",
    "- **Line 1**: Load all functions from module ``latools`` into the current notebook.\n",
    "- **Line 2**: Load the function ``init_printing`` from the module ``sympy``. Module ``latools`` uses ``sympy`` in the background.\n",
    "- **Line 3**: Configure printing. The option ``use_latex=True`` tells ``sympy`` to use LaTeX to display matrices, which results in a nicely formatted output. You may need to change this to ``use_latex=False`` if you are getting errors, which may happen if LaTeX is not installed in your computer.\n",
    "\n",
    "You will have to do these steps whenever you create a new notebook where you want to use the `latools` module"
   ]
  },
  {
   "cell_type": "markdown",
   "metadata": {},
   "source": [
    "## Gaussian Elimination \n",
    "\n",
    "The process of *Gaussian Elimination* consists of a systematic series of steps designed to replace the coefficients in a linear system with zeros. This way, we get a simpler system that can be solved by direct inspection. There are two versions of the Gaussian elimination steps:\n",
    "\n",
    "- *Gaussian Elimination*: This is a more efficient algorithm when a computer is used to solve the system, and reduces the system to what is called *row echelon form*. Then a method called *backsubstitution* is used to get the solution of the system.\n",
    "- *Gauss-Jordan Elimination*: This reduces the system to what is called *reduced row echelon form*, and is better suited for solving systems \"by hand\". This is the method illustrated in this notebook.\n",
    "\n",
    "Notice that, when using these algorithms, we operate on the *augmented matrix* of the system, since the variable names are irrelevant for the solution process.\n",
    "\n",
    "To perform Gaussian eliminations, we will use the following two functions from the module ``latools``:\n",
    "\n",
    "- ``rational_matrix(A)``: transforms the entries of matrix ``A`` into rational values. Helpful if we want to do exact computations.\n",
    "- ``rop(A, *rop_seq, inplace=False, symbolic=True)``: performs a sequence of row operations on the matrix ``A``.\n",
    "\n",
    "Each row operation is entered as a string, which must be in one of the following forms:\n",
    "\n",
    "- Swapping: **`Ri<=>Rj`**, where i and j are two integers\n",
    "- Scaling: **`Ri*(c)=>Ri`**, where i is an integer and c is a constant. Notice that the parenthesis are always required.\n",
    "- Scaling-and-adding: **`Ri*(c)+Rj=>Rj`**, where i and j are integers and c is a constant. \n",
    "\n",
    "Notice that in the last two cases the parenthesis around the factor ``c`` are **always** required. By default, the row operations are not done in-place, but a new matrix is returned. Setting ``inplace=True`` causes the operations to be done in-place.\n",
    "\n",
    "Notice that the row and column numbers are adjusted so that indexing starts with $1$, not $0$, as is the Python default convention.\n",
    "\n",
    "Let's now see some examples of how to use Gaussian elimination:\n",
    "\n",
    "### Example 1:\n",
    "\n",
    "Solve the linear system:\n",
    "\n",
    "\\begin{alignat*}{6}\n",
    "2x  &{}+{}& 2y &{}+{}& 5z &{}={}& 11\\\\\n",
    "4x  &{}+{}& 6y &{}+{}& 8z &{}={}& 0\\\\\n",
    " x  &{}+{}&  y &{}+{}&  z &{}={}& 4\n",
    "\\end{alignat*}\n",
    "\n",
    "\n",
    "### Augmented matrix setup\n",
    "\n",
    "To use Gaussian Elimination, we start by entering the _augmented matrix_ for the system:"
   ]
  },
  {
   "cell_type": "code",
   "execution_count": 2,
   "metadata": {},
   "outputs": [
    {
     "data": {
      "image/png": "[encoded data removed]",
      "text/latex": [
       "$\\displaystyle \\left[\\begin{matrix}2 & 2 & 5 & 11\\\\4 & 6 & 8 & 0\\\\1 & 1 & 1 & 4\\end{matrix}\\right]$"
      ],
      "text/plain": [
       "⎡2  2  5  11⎤\n",
       "⎢           ⎥\n",
       "⎢4  6  8  0 ⎥\n",
       "⎢           ⎥\n",
       "⎣1  1  1  4 ⎦"
      ]
     },
     "execution_count": 2,
     "metadata": {},
     "output_type": "execute_result"
    }
   ],
   "source": [
    "A = rational_matrix([[  2, 2, 5, 11],\n",
    "                     [  4, 6, 8,  0],\n",
    "                     [  1, 1, 1,  4]])\n",
    "A"
   ]
  },
  {
   "cell_type": "markdown",
   "metadata": {},
   "source": [
    "### Step 1\n",
    "\n",
    "We start with the first row of the matrix. The first nonzero element of this row is at position $(1,1)$, which is the first pivot. The first step is to multiply this row by $1/2$ to make the pivot equal to 1.\n",
    "\n",
    "We do the operation on matrix `A` and store the result in a new matrix `A1`. Storing each step in a new matrix makes it easier to correct mistakes:"
   ]
  },
  {
   "cell_type": "code",
   "execution_count": 3,
   "metadata": {},
   "outputs": [
    {
     "data": {
      "image/png": "[encoded data removed]",
      "text/latex": [
       "$\\displaystyle \\left[\\begin{matrix}1 & 1 & \\frac{5}{2} & \\frac{11}{2}\\\\4 & 6 & 8 & 0\\\\1 & 1 & 1 & 4\\end{matrix}\\right]$"
      ],
      "text/plain": [
       "⎡1  1  5/2  11/2⎤\n",
       "⎢               ⎥\n",
       "⎢4  6   8    0  ⎥\n",
       "⎢               ⎥\n",
       "⎣1  1   1    4  ⎦"
      ]
     },
     "execution_count": 3,
     "metadata": {},
     "output_type": "execute_result"
    }
   ],
   "source": [
    "A1 = rop(A, 'R1*(1/2)=>R1')\n",
    "A1"
   ]
  },
  {
   "cell_type": "markdown",
   "metadata": {},
   "source": [
    "We now want to use the pivot at position $(1,1)$ to get zeros in all other possitions. To do the eliminations, we multiply row one by the appropriate constant and add to each of the other rows. Notice that we can do two row operations in a single cell:"
   ]
  },
  {
   "cell_type": "code",
   "execution_count": 4,
   "metadata": {},
   "outputs": [
    {
     "data": {
      "image/png": "[encoded data removed]",
      "text/latex": [
       "$\\displaystyle \\left[\\begin{matrix}1 & 1 & \\frac{5}{2} & \\frac{11}{2}\\\\0 & 2 & -2 & -22\\\\0 & 0 & - \\frac{3}{2} & - \\frac{3}{2}\\end{matrix}\\right]$"
      ],
      "text/plain": [
       "⎡1  1  5/2   11/2⎤\n",
       "⎢                ⎥\n",
       "⎢0  2   -2   -22 ⎥\n",
       "⎢                ⎥\n",
       "⎣0  0  -3/2  -3/2⎦"
      ]
     },
     "execution_count": 4,
     "metadata": {},
     "output_type": "execute_result"
    }
   ],
   "source": [
    "A2 = rop(A1, 'R1*(-4)+R2=>R2', 'R1*(-1)+R3=>R3')\n",
    "A2"
   ]
  },
  {
   "cell_type": "markdown",
   "metadata": {},
   "source": [
    "### Step 2\n",
    "\n",
    "We now move to row $2$. The next pivot is at position $(2, 2)$. To get a $1$ in the pivot position, we multiply row $2$ by $1/2$:"
   ]
  },
  {
   "cell_type": "code",
   "execution_count": 5,
   "metadata": {},
   "outputs": [
    {
     "data": {
      "image/png": "[encoded data removed]",
      "text/latex": [
       "$\\displaystyle \\left[\\begin{matrix}1 & 1 & \\frac{5}{2} & \\frac{11}{2}\\\\0 & 1 & -1 & -11\\\\0 & 0 & - \\frac{3}{2} & - \\frac{3}{2}\\end{matrix}\\right]$"
      ],
      "text/plain": [
       "⎡1  1  5/2   11/2⎤\n",
       "⎢                ⎥\n",
       "⎢0  1   -1   -11 ⎥\n",
       "⎢                ⎥\n",
       "⎣0  0  -3/2  -3/2⎦"
      ]
     },
     "execution_count": 5,
     "metadata": {},
     "output_type": "execute_result"
    }
   ],
   "source": [
    "A3 = rop(A2, 'R2*(1/2)=>R2')\n",
    "A3"
   ]
  },
  {
   "cell_type": "markdown",
   "metadata": {},
   "source": [
    "Now use the pivot to get zeros on the other rows on column 2. Notice that we already have a zero at position $(3,2)$, so we only need to eliminate the nonzero element on position $(1,2)$."
   ]
  },
  {
   "cell_type": "code",
   "execution_count": 6,
   "metadata": {},
   "outputs": [
    {
     "data": {
      "image/png": "[encoded data removed]",
      "text/latex": [
       "$\\displaystyle \\left[\\begin{matrix}1 & 0 & \\frac{7}{2} & \\frac{33}{2}\\\\0 & 1 & -1 & -11\\\\0 & 0 & - \\frac{3}{2} & - \\frac{3}{2}\\end{matrix}\\right]$"
      ],
      "text/plain": [
       "⎡1  0  7/2   33/2⎤\n",
       "⎢                ⎥\n",
       "⎢0  1   -1   -11 ⎥\n",
       "⎢                ⎥\n",
       "⎣0  0  -3/2  -3/2⎦"
      ]
     },
     "execution_count": 6,
     "metadata": {},
     "output_type": "execute_result"
    }
   ],
   "source": [
    "A4 = rop(A3, 'R2*(-1)+R1=>R1')\n",
    "A4"
   ]
  },
  {
   "cell_type": "markdown",
   "metadata": {},
   "source": [
    "### Step 3"
   ]
  },
  {
   "cell_type": "markdown",
   "metadata": {},
   "source": [
    "The pivot now is at position $(3,3)$. To get a $1$ in the pivot position, we multiply row $3$ by $-2/3$: "
   ]
  },
  {
   "cell_type": "code",
   "execution_count": 7,
   "metadata": {},
   "outputs": [
    {
     "data": {
      "image/png": "[encoded data removed]",
      "text/latex": [
       "$\\displaystyle \\left[\\begin{matrix}1 & 0 & \\frac{7}{2} & \\frac{33}{2}\\\\0 & 1 & -1 & -11\\\\0 & 0 & 1 & 1\\end{matrix}\\right]$"
      ],
      "text/plain": [
       "⎡1  0  7/2  33/2⎤\n",
       "⎢               ⎥\n",
       "⎢0  1  -1   -11 ⎥\n",
       "⎢               ⎥\n",
       "⎣0  0   1    1  ⎦"
      ]
     },
     "execution_count": 7,
     "metadata": {},
     "output_type": "execute_result"
    }
   ],
   "source": [
    "A5 = rop(A4, 'R3*(-2/3)=>R3')\n",
    "A5"
   ]
  },
  {
   "cell_type": "markdown",
   "metadata": {},
   "source": [
    "Now, to get zeros elswere on column 3 we do the following row operations:"
   ]
  },
  {
   "cell_type": "code",
   "execution_count": 8,
   "metadata": {},
   "outputs": [
    {
     "data": {
      "image/png": "[encoded data removed]",
      "text/latex": [
       "$\\displaystyle \\left[\\begin{matrix}1 & 0 & 0 & 13\\\\0 & 1 & 0 & -10\\\\0 & 0 & 1 & 1\\end{matrix}\\right]$"
      ],
      "text/plain": [
       "⎡1  0  0  13 ⎤\n",
       "⎢            ⎥\n",
       "⎢0  1  0  -10⎥\n",
       "⎢            ⎥\n",
       "⎣0  0  1   1 ⎦"
      ]
     },
     "execution_count": 8,
     "metadata": {},
     "output_type": "execute_result"
    }
   ],
   "source": [
    "A6 = rop(A5, 'R3*(-7/2)+R1=>R1', 'R3*(1)+R2=>R2')\n",
    "A6"
   ]
  },
  {
   "cell_type": "markdown",
   "metadata": {},
   "source": [
    "This matrix is in _reduced row echelon form_ (RREF) (notice the identity matrix on the left. We now translate this matrix back into a system of equations:\n",
    "\n",
    "\\begin{alignat*}{6}\n",
    "1x &{}+{}& 0y &{}+{}& 0z &{}={}& 13\\\\\n",
    "0x &{}+{}& 1y &{}+{}& 0z &{}={}& -10\\\\\n",
    "0x &{}+{}& 0y &{}+{}& 1z &{}={}&  1\\\\\n",
    "\\end{alignat*}\n",
    "\n",
    "This system can be trivially solved, and yields the unique solution $x=13$, $y=-10$, $z=1$. We express this in terms of the solution set for the system:\n",
    "\n",
    "$$\n",
    "\\left\\{\n",
    "\\begin{bmatrix}\n",
    "13\\\\\n",
    "-10\\\\\n",
    "1\\\\\n",
    "\\end{bmatrix}\n",
    "\\right\\}\n",
    "$$\n",
    "\n",
    "Notice that we prefer to represent vectors as _column vectors_.\n"
   ]
  },
  {
   "cell_type": "markdown",
   "metadata": {},
   "source": [
    "### Example 2\n",
    "\n",
    "Find the solution set of the system of linear equations:\n",
    "\n",
    "\\begin{alignat*}{17}\n",
    "- 2 x_{1} &{}-{}& 2 x_{2} &{}+{}& 4 x_{3} &{}-{}& 2 x_{4} &{}+{}& 6 x_{5} &{}+{}& x_{6} &{}+{}& x_{7} &{}={}& 5\\\\ \n",
    "- 2 x_{1} &{}-{}& 3 x_{2} &{}+{}& 7 x_{3} &{}-{}& 3 x_{4} &{}+{}& 9 x_{5} &{}-{}& x_{6} &{}-{}& 3 x_{7} &{}={}&-9\\\\ \n",
    "&{}{}&x_{2} &{}-{}& 3 x_{3} &{}+{}& x_{4} &{}-{}& 3 x_{5} &{}+{}& 2 x_{6} &{}-{}& 2 x_{7} &{}={}&-4\\\\ \n",
    "x_{1} &{}+{}& x_{2} &{}-{}& 2 x_{3} &{}+{}& x_{4} &{}-{}& 3 x_{5} &{}+{}& 2 x_{6} &{}-{}& 2 x_{7} &{}={}&-2\\\\ \n",
    "x_{1} &{}+{}& 2 x_{2} &{}-{}& 5 x_{3} &{}+{}& 2 x_{4} &{}-{}& 6 x_{5} &{}-{}& x_{6} &{}-{}& 2 x_{7} &{}={}&-10\\\\ \n",
    "\\end{alignat*}\n",
    "\n",
    "### Augmented matrix setup"
   ]
  },
  {
   "cell_type": "code",
   "execution_count": 9,
   "metadata": {},
   "outputs": [
    {
     "data": {
      "image/png": "[encoded data removed]",
      "text/latex": [
       "$\\displaystyle \\left[\\begin{matrix}-2 & -2 & 4 & -2 & 6 & 1 & 1 & 5\\\\-2 & -3 & 7 & -3 & 9 & -1 & -3 & -9\\\\0 & 1 & -3 & 1 & -3 & 2 & -2 & -4\\\\1 & 1 & -2 & 1 & -3 & 2 & -2 & -2\\\\1 & 2 & -5 & 2 & -6 & -1 & -2 & -10\\end{matrix}\\right]$"
      ],
      "text/plain": [
       "⎡-2  -2  4   -2  6   1   1    5 ⎤\n",
       "⎢                               ⎥\n",
       "⎢-2  -3  7   -3  9   -1  -3  -9 ⎥\n",
       "⎢                               ⎥\n",
       "⎢0   1   -3  1   -3  2   -2  -4 ⎥\n",
       "⎢                               ⎥\n",
       "⎢1   1   -2  1   -3  2   -2  -2 ⎥\n",
       "⎢                               ⎥\n",
       "⎣1   2   -5  2   -6  -1  -2  -10⎦"
      ]
     },
     "execution_count": 9,
     "metadata": {},
     "output_type": "execute_result"
    }
   ],
   "source": [
    "A = rational_matrix([[-2, -2,  4, -2,  6,  1,  1,   5],\n",
    "                     [-2, -3,  7, -3,  9, -1, -3,  -9],\n",
    "                     [ 0,  1, -3,  1, -3,  2, -2,  -4],\n",
    "                     [ 1,  1, -2,  1, -3,  2, -2,  -2],\n",
    "                     [ 1,  2, -5,  2, -6, -1, -2, -10]])\n",
    "A"
   ]
  },
  {
   "cell_type": "markdown",
   "metadata": {},
   "source": [
    "### Step 1\n",
    "\n",
    "The first pivot is $-2$ at position $(1,1)$"
   ]
  },
  {
   "cell_type": "code",
   "execution_count": 10,
   "metadata": {},
   "outputs": [
    {
     "data": {
      "image/png": "[encoded data removed]",
      "text/latex": [
       "$\\displaystyle \\left[\\begin{matrix}1 & 1 & -2 & 1 & -3 & - \\frac{1}{2} & - \\frac{1}{2} & - \\frac{5}{2}\\\\0 & -1 & 3 & -1 & 3 & -2 & -4 & -14\\\\0 & 1 & -3 & 1 & -3 & 2 & -2 & -4\\\\0 & 0 & 0 & 0 & 0 & \\frac{5}{2} & - \\frac{3}{2} & \\frac{1}{2}\\\\0 & 1 & -3 & 1 & -3 & - \\frac{1}{2} & - \\frac{3}{2} & - \\frac{15}{2}\\end{matrix}\\right]$"
      ],
      "text/plain": [
       "⎡1  1   -2  1   -3  -1/2  -1/2  -5/2 ⎤\n",
       "⎢                                    ⎥\n",
       "⎢0  -1  3   -1  3    -2    -4    -14 ⎥\n",
       "⎢                                    ⎥\n",
       "⎢0  1   -3  1   -3   2     -2    -4  ⎥\n",
       "⎢                                    ⎥\n",
       "⎢0  0   0   0   0   5/2   -3/2   1/2 ⎥\n",
       "⎢                                    ⎥\n",
       "⎣0  1   -3  1   -3  -1/2  -3/2  -15/2⎦"
      ]
     },
     "execution_count": 10,
     "metadata": {},
     "output_type": "execute_result"
    }
   ],
   "source": [
    "A1 = rop(A, 'R1*(-1/2)=>R1', \n",
    "         'R1*(2)+R2=>R2', 'R1*(-1)+R4=>R4', 'R1*(-1)+R5=>R5')\n",
    "A1"
   ]
  },
  {
   "cell_type": "markdown",
   "metadata": {},
   "source": [
    "### Step 2\n",
    "\n",
    "The pivot in Step 2 is $-1$ at position $(2,2)$"
   ]
  },
  {
   "cell_type": "code",
   "execution_count": 11,
   "metadata": {},
   "outputs": [
    {
     "data": {
      "image/png": "[encoded data removed]",
      "text/latex": [
       "$\\displaystyle \\left[\\begin{matrix}1 & 0 & 1 & 0 & 0 & - \\frac{5}{2} & - \\frac{9}{2} & - \\frac{33}{2}\\\\0 & 1 & -3 & 1 & -3 & 2 & 4 & 14\\\\0 & 0 & 0 & 0 & 0 & 0 & -6 & -18\\\\0 & 0 & 0 & 0 & 0 & \\frac{5}{2} & - \\frac{3}{2} & \\frac{1}{2}\\\\0 & 0 & 0 & 0 & 0 & - \\frac{5}{2} & - \\frac{11}{2} & - \\frac{43}{2}\\end{matrix}\\right]$"
      ],
      "text/plain": [
       "⎡1  0  1   0  0   -5/2  -9/2   -33/2⎤\n",
       "⎢                                   ⎥\n",
       "⎢0  1  -3  1  -3   2      4     14  ⎥\n",
       "⎢                                   ⎥\n",
       "⎢0  0  0   0  0    0     -6     -18 ⎥\n",
       "⎢                                   ⎥\n",
       "⎢0  0  0   0  0   5/2   -3/2    1/2 ⎥\n",
       "⎢                                   ⎥\n",
       "⎣0  0  0   0  0   -5/2  -11/2  -43/2⎦"
      ]
     },
     "execution_count": 11,
     "metadata": {},
     "output_type": "execute_result"
    }
   ],
   "source": [
    "A2 = rop(A1, 'R2*(-1)=>R2', \n",
    "         'R2*(-1)+R1=>R1', 'R2*(-1)+R3=>R3', 'R2*(-1)+R5=>R5')\n",
    "A2"
   ]
  },
  {
   "cell_type": "markdown",
   "metadata": {},
   "source": [
    "### Step 3\n",
    "In this step, we move to the third row of the matrix. However, notice that the element at position $(3,3)$ is equal to $0$, so it cannot be used as a pivot. Furthermore, notice that all elements that are _below_ position $(3,3)$ are zero, so they cannot be used as a pivot. The first column that has an element that can be used as pivot is column 6. We can use either $5/2$ (position $(4,6)$) or $-5/2$ (position $(5,6)$) as the next pivot. Let's say we decide to use $5/2$. Since we need the pivot to be in row $3$, we first swap rows $3$ and $4$:"
   ]
  },
  {
   "cell_type": "code",
   "execution_count": 12,
   "metadata": {},
   "outputs": [
    {
     "data": {
      "image/png": "[encoded data removed]",
      "text/latex": [
       "$\\displaystyle \\left[\\begin{matrix}1 & 0 & 1 & 0 & 0 & - \\frac{5}{2} & - \\frac{9}{2} & - \\frac{33}{2}\\\\0 & 1 & -3 & 1 & -3 & 2 & 4 & 14\\\\0 & 0 & 0 & 0 & 0 & \\frac{5}{2} & - \\frac{3}{2} & \\frac{1}{2}\\\\0 & 0 & 0 & 0 & 0 & 0 & -6 & -18\\\\0 & 0 & 0 & 0 & 0 & - \\frac{5}{2} & - \\frac{11}{2} & - \\frac{43}{2}\\end{matrix}\\right]$"
      ],
      "text/plain": [
       "⎡1  0  1   0  0   -5/2  -9/2   -33/2⎤\n",
       "⎢                                   ⎥\n",
       "⎢0  1  -3  1  -3   2      4     14  ⎥\n",
       "⎢                                   ⎥\n",
       "⎢0  0  0   0  0   5/2   -3/2    1/2 ⎥\n",
       "⎢                                   ⎥\n",
       "⎢0  0  0   0  0    0     -6     -18 ⎥\n",
       "⎢                                   ⎥\n",
       "⎣0  0  0   0  0   -5/2  -11/2  -43/2⎦"
      ]
     },
     "execution_count": 12,
     "metadata": {},
     "output_type": "execute_result"
    }
   ],
   "source": [
    "A3 = rop(A2, 'R3<=>R4')\n",
    "A3"
   ]
  },
  {
   "cell_type": "markdown",
   "metadata": {},
   "source": [
    "Now we can do pivoting with the element $5/2$ at position $(3,6)$:"
   ]
  },
  {
   "cell_type": "code",
   "execution_count": 13,
   "metadata": {},
   "outputs": [
    {
     "data": {
      "image/png": "[encoded data removed]",
      "text/latex": [
       "$\\displaystyle \\left[\\begin{matrix}1 & 0 & 1 & 0 & 0 & 0 & -6 & -16\\\\0 & 1 & -3 & 1 & -3 & 0 & \\frac{26}{5} & \\frac{68}{5}\\\\0 & 0 & 0 & 0 & 0 & 1 & - \\frac{3}{5} & \\frac{1}{5}\\\\0 & 0 & 0 & 0 & 0 & 0 & -6 & -18\\\\0 & 0 & 0 & 0 & 0 & 0 & -7 & -21\\end{matrix}\\right]$"
      ],
      "text/plain": [
       "⎡1  0  1   0  0   0   -6   -16 ⎤\n",
       "⎢                              ⎥\n",
       "⎢0  1  -3  1  -3  0  26/5  68/5⎥\n",
       "⎢                              ⎥\n",
       "⎢0  0  0   0  0   1  -3/5  1/5 ⎥\n",
       "⎢                              ⎥\n",
       "⎢0  0  0   0  0   0   -6   -18 ⎥\n",
       "⎢                              ⎥\n",
       "⎣0  0  0   0  0   0   -7   -21 ⎦"
      ]
     },
     "execution_count": 13,
     "metadata": {},
     "output_type": "execute_result"
    }
   ],
   "source": [
    "A4 = rop(A3, 'R3*(2/5)=>R3', \n",
    "         'R3*(5/2)+R1=>R1', 'R3*(-2)+R2=>R2', 'R3*(5/2)+R5=>R5')\n",
    "A4"
   ]
  },
  {
   "cell_type": "markdown",
   "metadata": {},
   "source": [
    "### Step 4\n",
    "\n",
    "The next pivot is $-6$ at position $(4,7)$:"
   ]
  },
  {
   "cell_type": "code",
   "execution_count": 14,
   "metadata": {},
   "outputs": [
    {
     "data": {
      "image/png": "[encoded data removed]",
      "text/latex": [
       "$\\displaystyle \\left[\\begin{matrix}1 & 0 & 1 & 0 & 0 & 0 & 0 & 2\\\\0 & 1 & -3 & 1 & -3 & 0 & 0 & -2\\\\0 & 0 & 0 & 0 & 0 & 1 & 0 & 2\\\\0 & 0 & 0 & 0 & 0 & 0 & 1 & 3\\\\0 & 0 & 0 & 0 & 0 & 0 & 0 & 0\\end{matrix}\\right]$"
      ],
      "text/plain": [
       "⎡1  0  1   0  0   0  0  2 ⎤\n",
       "⎢                         ⎥\n",
       "⎢0  1  -3  1  -3  0  0  -2⎥\n",
       "⎢                         ⎥\n",
       "⎢0  0  0   0  0   1  0  2 ⎥\n",
       "⎢                         ⎥\n",
       "⎢0  0  0   0  0   0  1  3 ⎥\n",
       "⎢                         ⎥\n",
       "⎣0  0  0   0  0   0  0  0 ⎦"
      ]
     },
     "execution_count": 14,
     "metadata": {},
     "output_type": "execute_result"
    }
   ],
   "source": [
    "A5 = rop(A4, 'R4*(-1/6)=>R4', \n",
    "         'R4*(6)+R1=>R1', 'R4*(-26/5)+R2=>R2', \n",
    "         'R4*(3/5)+R3=>R3', 'R4*(7)+R5=>R5')\n",
    "A5"
   ]
  },
  {
   "cell_type": "markdown",
   "metadata": {},
   "source": [
    "Notice that the last row consists of only zeros. So, there can be no more pivots, and the algorithm finishes.\n",
    "\n",
    "To interpret the results, first notice that each of the first seven columns of the final matrix corresponds to one of the variables $x_1,\\ldots,x_7$, and the last column corresponds to the right-hand side of the system. We can thus go back to the following system formulation:\n",
    "\n",
    "\\begin{alignat*}{17}\n",
    "x_{1} &{} {}&        &{}+{}&  x_{3} &{} {}&        &{} {}&        &{} {}&     &{} {}&       &{}={}& 2\\\\ \n",
    "      &{} {}&  x_{2} &{}-{}& 3x_{3} &{}+{}&  x_{4} &{}-{}& 3x_{5} &{} {}&     &{} {}&       &{}={}&-2\\\\ \n",
    "      &{} {}&        &{} {}&        &{} {}&        &{} {}&        &{} {}& x_6 &{} {}&       &{}={}&2\\\\ \n",
    "      &{} {}&        &{} {}&        &{} {}&        &{} {}&        &{} {}&     &{} {}& x_{7} &{}={}&3\\\\ \n",
    "      &{} {}&        &{} {}&        &{} {}&        &{} {}&        &{} {}&     &{} {}& 0     &{}={}&0\\\\ \n",
    "\\end{alignat*}\n",
    "\n",
    "Now we classify the variables in two classes:\n",
    "\n",
    "- Pivot variables: these are the variables that correspond to columns that have pivots: $x_1$, $x_2$, $x_6$ and $x_7$\n",
    "- Free variables: these are the variables that correspond to columns without pivots: $x_3, $x_4$ and $x_5$\n",
    "\n",
    "Notice also that the last equation $0=0$, can be ignored, since it is always true, for any assignment of values to the variables.\n",
    "\n",
    "We can express the pivot variables in terms of the free variables:\n",
    "\n",
    "\\begin{align*}\n",
    "x_1&=2-x_3\\\\\n",
    "x_2&=-2+3x_3-x_4+3x_5\\\\\n",
    "x_6&=2\\\\\n",
    "x_7&=3\n",
    "\\end{align*}\n",
    "\n",
    "This means that we can freely choose the values of the variables $x_3$, $x_4$ and $x_5$, and then compute the corresponding values of the remaining variables. We can thus express the solution set of the system using _set comprehension notation_:\n",
    "\n",
    "$$\n",
    "\\left\\{\n",
    "\\begin{bmatrix}\n",
    "x_1\\\\x_2\\\\x_3\\\\x_4\\\\x_5\\\\x_6\\\\x_7\n",
    "\\end{bmatrix}\n",
    "\\;\n",
    "\\left|\n",
    "\\;\n",
    "\\begin{matrix}\n",
    "x_1=2-x_3,\\\\\n",
    "x_2=-2+3x_3-x_4+3x_5,\\\\\n",
    "x_6=2,\\\\\n",
    "x_7=3,\n",
    "\\end{matrix}\n",
    "\\right.\n",
    "\\right\\}\n",
    "$$\n",
    "Notice that this is a set of 7-dimensional vectors, that is, a subset of $\\mathbb{R}^7$.\n",
    "\n",
    "It is somewhat more concise to \"plug in\" the values of the pivot variables $x_1$, $x_2$, $x_6$ and $x_7$ in the vector to the left:\n",
    "\n",
    "$$\n",
    "\\left\\{\n",
    "\\left.\n",
    "\\begin{bmatrix}\n",
    "2-x_3\\\\-2+3x_3-x_4+3x_5\\\\x_3\\\\x_4\\\\x_5\\\\2\\\\3\n",
    "\\end{bmatrix}\n",
    "\\;\n",
    "\\right|\n",
    "\\;\n",
    "x_3\\in\\mathbb{R},x_4\\in\\mathbb{R},x_5\\in\\mathbb{R}\n",
    "\\right\\}\n",
    "$$\n",
    "\n",
    "We can furthermore write this using vector operations:\n",
    "\n",
    "$$\n",
    "\\left\\{\n",
    "\\left.\n",
    "\\begin{bmatrix}\n",
    "2\\\\-2\\\\0\\\\0\\\\0\\\\2\\\\3\n",
    "\\end{bmatrix}\n",
    "+x_3\n",
    "\\begin{bmatrix}\n",
    "-1\\\\3\\\\1\\\\0\\\\0\\\\0\\\\0\n",
    "\\end{bmatrix}\n",
    "+x_4\n",
    "\\begin{bmatrix}\n",
    "0\\\\-1\\\\0\\\\1\\\\0\\\\0\\\\0\n",
    "\\end{bmatrix}\n",
    "+x_5\n",
    "\\begin{bmatrix}\n",
    "0\\\\3\\\\0\\\\0\\\\1\\\\0\\\\0\n",
    "\\end{bmatrix}\n",
    "\\;\n",
    "\\right|\n",
    "\\;\n",
    "x_3,x_4,x_5\\in\\mathbb{R}\n",
    "\\right\\}\n",
    "$$"
   ]
  },
  {
   "cell_type": "markdown",
   "metadata": {},
   "source": [
    "As we will learn later, this will characterize the solution set as an _affine space of dimension 3_"
   ]
  },
  {
   "cell_type": "markdown",
   "metadata": {},
   "source": [
    "## Exercises:\n",
    "\n",
    "Solve the following systems using Gaussian Elimination. A complete solution should include a representation of the solution set as a combination of vectors.\n",
    "\n",
    "*Note*: To add a computation cell, pres ``Esc`` to enter command mode. The border of the current cell will then change to a blue line. Then, press ``a`` or ``b``. ``a`` adds a cell **a**bove, ``b`` adds a cell **b**elow the current cell."
   ]
  },
  {
   "cell_type": "markdown",
   "metadata": {},
   "source": [
    "#### Exercise 1\n",
    "\n",
    "\\begin{alignat*}{7}\n",
    "     &&        && 6x_3  &&       &+& 19x_5 &+& 11x_6 &=& -27\\\\\n",
    "3x_1 &{}+{}& 12x_2 &{}+{}& 9x_3 &{}-{}& 6x_4 &{}+{}& 26x_5 &{}+{}& 31x_6 &{}={}& -63\\\\\n",
    " x_1 &{}+{}&  4x_2 &{}+{}& 3x_3 &{}-{}& 2x_4 &{}+{}& 10x_5 &{}+{}&  9x_6 &{}={}& -17\\\\\n",
    "-x_1 &{}-{}&  4x_2 &{}-{}& 4x_3 &{}+{}& 2x_4 &{}-{}& 13x_5 &{}-{}& 11x_6 &{}={}& 22\\\\\n",
    "\\end{alignat*}\n"
   ]
  },
  {
   "cell_type": "code",
   "execution_count": null,
   "metadata": {
    "collapsed": true,
    "jupyter": {
     "outputs_hidden": true
    }
   },
   "outputs": [],
   "source": []
  },
  {
   "cell_type": "markdown",
   "metadata": {},
   "source": [
    "#### Exercise 2\n",
    "\n",
    "\\begin{alignat*}{4}\n",
    " x_1 &{}+{}&  4x_2 &{}-{}& 3x_3 &{}={}&  2\\\\\n",
    "3x_1 &{}-{}&  2x_2 &{}-{}&  x_3 &{}={}& -1\\\\\n",
    "-x_1 &{}+{}& 10x_2 &{}-{}& 5x_3 &{}={}&  3\\\\\n",
    "\\end{alignat*}\n",
    "\n",
    "\n"
   ]
  },
  {
   "cell_type": "code",
   "execution_count": null,
   "metadata": {
    "collapsed": true,
    "jupyter": {
     "outputs_hidden": true
    }
   },
   "outputs": [],
   "source": []
  },
  {
   "cell_type": "markdown",
   "metadata": {},
   "source": [
    "#### Exercise 3\n",
    "\n",
    "\\begin{alignat*}{5}\n",
    "32x &{}+{}&  2y &{}+{}& 4z &{}+{}& \\frac{1}{2}t &{}={}&  15\\\\\n",
    "48x &{}+{}& 12y &{}+{}&  z &{}+{}&          27t &{}={}& 100\\\\\n",
    "40x &{}+{}&   y &{}+{}& 8z &{}+{}&            t &{}={}& 10\n",
    "\\end{alignat*}\n",
    "\n",
    "This is the system from the diet problem example. Since food quantities should not be negative, find a solution whith all components positive. Is that a breakfast you would like to have?"
   ]
  },
  {
   "cell_type": "code",
   "execution_count": null,
   "metadata": {
    "collapsed": true,
    "jupyter": {
     "outputs_hidden": true
    }
   },
   "outputs": [],
   "source": []
  },
  {
   "cell_type": "code",
   "execution_count": null,
   "metadata": {
    "collapsed": true,
    "jupyter": {
     "outputs_hidden": true
    }
   },
   "outputs": [],
   "source": []
  }
 ],
 "metadata": {
  "anaconda-cloud": {},
  "kernelspec": {
   "display_name": "Python 3",
   "language": "python",
   "name": "python3"
  },
  "language_info": {
   "codemirror_mode": {
    "name": "ipython",
    "version": 3
   },
   "file_extension": ".py",
   "mimetype": "text/x-python",
   "name": "python",
   "nbconvert_exporter": "python",
   "pygments_lexer": "ipython3",
   "version": "3.7.6"
  }
 },
 "nbformat": 4,
 "nbformat_minor": 4
}
