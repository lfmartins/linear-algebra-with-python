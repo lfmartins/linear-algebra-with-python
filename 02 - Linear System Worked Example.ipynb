{
 "cells": [
  {
   "cell_type": "code",
   "execution_count": null,
   "metadata": {
    "tags": []
   },
   "outputs": [],
   "source": [
    "from latools import *\n",
    "from sympy import *\n",
    "init_printing(use_latex=True)"
   ]
  },
  {
   "cell_type": "markdown",
   "metadata": {},
   "source": [
    "This notebook contains examples of the Gaussian Elimination Algorithm for the solution of linear systems."
   ]
  },
  {
   "cell_type": "markdown",
   "metadata": {},
   "source": [
    "# Example 1\n",
    "\n",
    "## Augmented matrix:"
   ]
  },
  {
   "cell_type": "code",
   "execution_count": null,
   "metadata": {
    "collapsed": false,
    "jupyter": {
     "outputs_hidden": false
    }
   },
   "outputs": [],
   "source": [
    "A = rational_matrix([[-2, -3, -9,  2, 0, -16,  0],\n",
    "                     [-1,  2,  6, -2, 1,  15,  6],\n",
    "                     [-1, -3, -9, -3, 1,  -1, 21],\n",
    "                     [2,   0,  0, -1, 0,   0,  1]])\n",
    "A"
   ]
  },
  {
   "cell_type": "markdown",
   "metadata": {},
   "source": [
    "## Row Operations:"
   ]
  },
  {
   "cell_type": "code",
   "execution_count": null,
   "metadata": {
    "collapsed": false,
    "jupyter": {
     "outputs_hidden": false
    }
   },
   "outputs": [],
   "source": [
    "A1 = rop(A, 'R1*(-1/2)=>R1')\n",
    "A1"
   ]
  },
  {
   "cell_type": "code",
   "execution_count": null,
   "metadata": {
    "collapsed": false,
    "jupyter": {
     "outputs_hidden": false
    }
   },
   "outputs": [],
   "source": [
    "A2 = rop(A1, 'R1*(1)+R2=>R2', 'R1*(1)+R3=>R3', 'R1*(-2)+R4=>R4')\n",
    "A2"
   ]
  },
  {
   "cell_type": "code",
   "execution_count": null,
   "metadata": {
    "collapsed": false,
    "jupyter": {
     "outputs_hidden": false
    }
   },
   "outputs": [],
   "source": [
    "A3 = rop(A2, 'R2*(2/7)=>R2')\n",
    "A3"
   ]
  },
  {
   "cell_type": "code",
   "execution_count": null,
   "metadata": {
    "collapsed": false,
    "jupyter": {
     "outputs_hidden": false
    }
   },
   "outputs": [],
   "source": [
    "A4 = rop(A3, 'R2*(-3/2)+R1=>R1', 'R2*(3/2)+R3=>R3', 'R2*(3)+R4=>R4')\n",
    "A4"
   ]
  },
  {
   "cell_type": "code",
   "execution_count": null,
   "metadata": {
    "collapsed": false,
    "jupyter": {
     "outputs_hidden": false
    }
   },
   "outputs": [],
   "source": [
    "A5 = rop(A4, 'R3*(-7/37)=>R3')\n",
    "A5"
   ]
  },
  {
   "cell_type": "code",
   "execution_count": null,
   "metadata": {
    "collapsed": false,
    "jupyter": {
     "outputs_hidden": false
    }
   },
   "outputs": [],
   "source": [
    "A6 = rop(A5, 'R3*(-2/7)+R1=>R1', 'R3*(6/7)+R2=>R2', 'R3*(11/7)+R4=>R4')\n",
    "A6"
   ]
  },
  {
   "cell_type": "code",
   "execution_count": null,
   "metadata": {
    "collapsed": false,
    "jupyter": {
     "outputs_hidden": false
    }
   },
   "outputs": [],
   "source": [
    "A7 = rop(A6, 'R4*(37/16)=>R4')\n",
    "A7"
   ]
  },
  {
   "cell_type": "code",
   "execution_count": null,
   "metadata": {
    "collapsed": false,
    "jupyter": {
     "outputs_hidden": false
    }
   },
   "outputs": [],
   "source": [
    "A8 = rop(A7, 'R4*(13/37)+R1=>R1', 'R4*(-2/37)+R2=>R2', 'R4*(10/37)+R3=>R3')\n",
    "A8"
   ]
  },
  {
   "cell_type": "markdown",
   "metadata": {},
   "source": [
    "The RREF matrix above represents the equivalent system:\n",
    "$$\n",
    "\\begin{align*}\n",
    "&x_1-2x_6=-2\\\\\n",
    "&x_2+3x_3+4x_6=-2\\\\\n",
    "&x_4-4x_6=-5\\\\\n",
    "&x_5-3x_6=-2\n",
    "\\end{align*}\n",
    "$$\n",
    "By letting $\\lambda_1=x_3$, $\\lambda_2=x_6$, we can represent the solution set as:\n",
    "$$\n",
    "\\left\\{\n",
    "\\begin{bmatrix}\n",
    "-2+2\\lambda_2\\\\\n",
    "-2-3\\lambda_1-4\\lambda_2\\\\\n",
    "\\lambda_1\\\\\n",
    "-5+4\\lambda_2\\\\\n",
    "-2+3\\lambda_2\\\\\n",
    "\\lambda_2\n",
    "\\end{bmatrix}\n",
    ":\n",
    "\\lambda_1\\in\\mathbb{R}, \\lambda_2\\in\\mathbb{R}\n",
    "\\right\\}\n",
    "$$"
   ]
  },
  {
   "cell_type": "markdown",
   "metadata": {},
   "source": [
    "# Example 2\n",
    "\n",
    "## Augmented Matrix"
   ]
  },
  {
   "cell_type": "code",
   "execution_count": null,
   "metadata": {
    "collapsed": false,
    "jupyter": {
     "outputs_hidden": false
    }
   },
   "outputs": [],
   "source": [
    "A = rational_matrix([[ 2, -6, -1, -1,  2,  -4, -9],\n",
    "                        [ 1, -3, -1,  2, -1,   7,  3],\n",
    "                        [ 2, -6, -2,  4, -1,  10,  2],\n",
    "                        [-2,  6,  2, -4,  2, -14, -6]])\n",
    "A"
   ]
  },
  {
   "cell_type": "markdown",
   "metadata": {},
   "source": [
    "## Row Operations"
   ]
  },
  {
   "cell_type": "code",
   "execution_count": null,
   "metadata": {
    "collapsed": false,
    "jupyter": {
     "outputs_hidden": false
    }
   },
   "outputs": [],
   "source": [
    "A1 = rop(A, 'R1*(1/2)=>R1')\n",
    "A1"
   ]
  },
  {
   "cell_type": "code",
   "execution_count": null,
   "metadata": {
    "collapsed": false,
    "jupyter": {
     "outputs_hidden": false
    }
   },
   "outputs": [],
   "source": [
    "A2 = rop(A1, 'R1*(-1)+R2=>R2', 'R1*(-2)+R3=>R3', 'R1*(2)+R4=>R4')\n",
    "A2"
   ]
  },
  {
   "cell_type": "code",
   "execution_count": null,
   "metadata": {
    "collapsed": false,
    "jupyter": {
     "outputs_hidden": false
    }
   },
   "outputs": [],
   "source": [
    "A3 = rop(A2, 'R2*(-2)=>R2')\n",
    "A3"
   ]
  },
  {
   "cell_type": "code",
   "execution_count": null,
   "metadata": {
    "collapsed": false,
    "jupyter": {
     "outputs_hidden": false
    }
   },
   "outputs": [],
   "source": [
    "A4 = rop(A3, 'R2*(1/2)+R1=>R1', 'R2*(1)+R3=>R3', 'R2*(-1)+R4=>R4')\n",
    "A4"
   ]
  },
  {
   "cell_type": "code",
   "execution_count": null,
   "metadata": {
    "collapsed": false,
    "jupyter": {
     "outputs_hidden": false
    }
   },
   "outputs": [],
   "source": [
    "A5 = rop(A4, 'R3*(-3)+R1=>R1', 'R3*(-4)+R2=>R2')\n",
    "A5"
   ]
  },
  {
   "cell_type": "markdown",
   "metadata": {
    "jupyter": {
     "outputs_hidden": true
    }
   },
   "source": [
    "## Exercise\n",
    "\n",
    "Write the solution set for this system, using set comprehension notation."
   ]
  },
  {
   "cell_type": "code",
   "execution_count": null,
   "metadata": {},
   "outputs": [],
   "source": []
  }
 ],
 "metadata": {
  "anaconda-cloud": {},
  "kernelspec": {
   "display_name": "Python 3",
   "language": "python",
   "name": "python3"
  },
  "language_info": {
   "codemirror_mode": {
    "name": "ipython",
    "version": 3
   },
   "file_extension": ".py",
   "mimetype": "text/x-python",
   "name": "python",
   "nbconvert_exporter": "python",
   "pygments_lexer": "ipython3",
   "version": "3.8.5"
  }
 },
 "nbformat": 4,
 "nbformat_minor": 4
}
