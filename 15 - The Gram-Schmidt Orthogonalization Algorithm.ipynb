{
 "cells": [
  {
   "cell_type": "code",
   "execution_count": null,
   "metadata": {
    "tags": []
   },
   "outputs": [],
   "source": [
    "from latools import *\n",
    "from sympy import *\n",
    "init_printing(use_latex=True)"
   ]
  },
  {
   "cell_type": "markdown",
   "metadata": {},
   "source": [
    "# The Gram-Schmit Algorithm\n",
    "\n",
    "The Gram_Schmidt Algorithm takes as input a linearly independent set of vectors and returns an orthogonal basis of the span of these vectors. The idea of the algorithm is to use the projection formula iteractively to build the orthogonal vectors.\n",
    "\n",
    "Here is a description of the algorithm:\n",
    "\n",
    "__Input__: $\\{\\mathbf{u}_1,\\mathbf{u}_2,\\ldots,\\mathbf{u}_k\\}$ a linearly independent set of vectors in $\\mathbb{R}^n$\n",
    "\n",
    "__Output__: $\\{\\mathbf{v}_1,\\mathbf{v}_2,\\ldots,\\mathbf{v}_k\\}$, and orthogonal basis of $\\text{span}\\{\\mathbf{u}_1,\\mathbf{u}_2,\\ldots,\\mathbf{u}_k\\}$.\n",
    "\n",
    "__Algorithm__:\n",
    "\n",
    "- Let $\\mathbf{v}_1=\\mathbf{u}_1$\n",
    "- Let $\\displaystyle \\mathbf{v}_{j}=\\mathbf{u}_j-\n",
    "\\frac{\\mathbf{u}_j\\cdot \\mathbf{v}_1}{\\mathbf{v}_1\\cdot \\mathbf{v}_1}\\mathbf{v}_1-\n",
    "\\frac{\\mathbf{u}_j\\cdot \\mathbf{v}_2}{\\mathbf{v}_2\\cdot \\mathbf{v}_2}\\mathbf{v}_2-\\cdots-\n",
    "\\frac{\\mathbf{u}_j\\cdot \\mathbf{v}_{j-1}}{\\mathbf{v}_{j-1}\\cdot \\mathbf{v}_{j-1}}\\mathbf{v}_{j-1}$ for $j=2,\\ldots,k$"
   ]
  },
  {
   "cell_type": "markdown",
   "metadata": {},
   "source": [
    "# Example\n",
    "\n",
    "Apply the Gram-Schmidt diagonalization procedure to the following vectors in $\\mathbb{R}^3$:\n",
    "\n",
    "$$\n",
    "\\mathbf{u}_1=\\begin{bmatrix} 1\\\\ 1\\\\ 0\\end{bmatrix},\\quad\n",
    "\\mathbf{u}_2=\\begin{bmatrix} -2\\\\ 0\\\\ 1\\end{bmatrix},\\quad\n",
    "\\mathbf{u}_3=\\begin{bmatrix} 1\\\\ 1\\\\ 1\\end{bmatrix}\n",
    "$$\n",
    "\n",
    "Start by defining the vectors:"
   ]
  },
  {
   "cell_type": "code",
   "execution_count": null,
   "metadata": {
    "collapsed": false,
    "jupyter": {
     "outputs_hidden": false
    }
   },
   "outputs": [],
   "source": [
    "u1 = rational_matrix([1,1,0])\n",
    "u2 = rational_matrix([-2,0,1])\n",
    "u3 = rational_matrix([1,1,1])\n",
    "u1, u2, u3"
   ]
  },
  {
   "cell_type": "markdown",
   "metadata": {},
   "source": [
    "### Step 1:"
   ]
  },
  {
   "cell_type": "code",
   "execution_count": null,
   "metadata": {
    "collapsed": false,
    "jupyter": {
     "outputs_hidden": false
    }
   },
   "outputs": [],
   "source": [
    "v1=u1\n",
    "v1"
   ]
  },
  {
   "cell_type": "markdown",
   "metadata": {},
   "source": [
    "### Step 2:\n",
    "\n",
    "Project $\\mathbf{u}_2$ onto the direction of $\\mathbf{v}_1$"
   ]
  },
  {
   "cell_type": "code",
   "execution_count": null,
   "metadata": {
    "collapsed": false,
    "jupyter": {
     "outputs_hidden": false
    }
   },
   "outputs": [],
   "source": [
    "v2 = u2 - (u2.dot(v1))/(v1.dot(v1))*v1\n",
    "v2"
   ]
  },
  {
   "cell_type": "markdown",
   "metadata": {},
   "source": [
    "### Step 3:\n",
    "\n",
    "Project $\\mathbf{u}_3$ onto $\\text{span}\\{\\mathbf{v}_1,\\mathbf{v}_2\\}$"
   ]
  },
  {
   "cell_type": "code",
   "execution_count": null,
   "metadata": {
    "collapsed": false,
    "jupyter": {
     "outputs_hidden": false
    }
   },
   "outputs": [],
   "source": [
    "v3 = u3 - (u3.dot(v1))/(v1.dot(v1))*v1 - (u3.dot(v2))/(v2.dot(v2))*v2\n",
    "v3"
   ]
  },
  {
   "cell_type": "markdown",
   "metadata": {},
   "source": [
    "It is important to check the result:"
   ]
  },
  {
   "cell_type": "code",
   "execution_count": null,
   "metadata": {
    "collapsed": false,
    "jupyter": {
     "outputs_hidden": false
    }
   },
   "outputs": [],
   "source": [
    "v1.dot(v2), v1.dot(v3), v2.dot(v3)"
   ]
  },
  {
   "cell_type": "markdown",
   "metadata": {},
   "source": [
    "## Exercises\n",
    "\n",
    "In each of the problems below, find an orthogonal basis of $\\mathbb{R}^n$ using the Gram-Schmidt algorithm."
   ]
  },
  {
   "cell_type": "markdown",
   "metadata": {},
   "source": [
    "### 1.\n",
    "$$\n",
    " u_1=\\left[\\begin{matrix}2\\\\-3\\\\1\\end{matrix}\\right]\\quad\n",
    " u_2=\\left[\\begin{matrix}1\\\\-2\\\\1\\end{matrix}\\right]\\quad\n",
    " u_3=\\left[\\begin{matrix}2\\\\0\\\\2\\end{matrix}\\right]\n",
    "$$"
   ]
  },
  {
   "cell_type": "code",
   "execution_count": null,
   "metadata": {},
   "outputs": [],
   "source": []
  },
  {
   "cell_type": "markdown",
   "metadata": {},
   "source": [
    "### 2.\n",
    "$$\n",
    " u_1=\\left[\\begin{matrix}1\\\\-2\\\\0\\\\3\\end{matrix}\\right]\\quad\n",
    " u_2=\\left[\\begin{matrix}2\\\\-1\\\\1\\\\0\\end{matrix}\\right]\\quad\n",
    " u_3=\\left[\\begin{matrix}-1\\\\0\\\\-2\\\\1\\end{matrix}\\right]\\quad\n",
    " u_4=\\left[\\begin{matrix}2\\\\-4\\\\\\frac{1}{2}\\\\5\\end{matrix}\\right]\n",
    "$$"
   ]
  },
  {
   "cell_type": "code",
   "execution_count": null,
   "metadata": {},
   "outputs": [],
   "source": []
  },
  {
   "cell_type": "markdown",
   "metadata": {},
   "source": [
    "### 3.\n",
    "$$\n",
    " u_1=\\left[\\begin{matrix}-1\\\\-3\\\\1\\\\2\\end{matrix}\\right]\\quad\n",
    " u_2=\\left[\\begin{matrix}1\\\\-1\\\\1\\\\2\\end{matrix}\\right]\\quad\n",
    " u_3=\\left[\\begin{matrix}4\\\\-2\\\\-2\\\\1\\end{matrix}\\right]\\quad\n",
    " u_4=\\left[\\begin{matrix}\\frac{1}{3}\\\\2\\\\-3\\\\-1\\end{matrix}\\right]\n",
    "$$"
   ]
  },
  {
   "cell_type": "code",
   "execution_count": null,
   "metadata": {},
   "outputs": [],
   "source": []
  },
  {
   "cell_type": "markdown",
   "metadata": {},
   "source": [
    "# Application - Diagonalization of Symmetric Matrices\n",
    "\n",
    "If $A$ is a $n\\times n$ symmetric matrix, it is always possible to find an _orthonormal_ basis of $\\mathbb{R}^n$ consisting of eigenvectors of $A$. This example shows how to proceed to find such basis.\n",
    "\n",
    "As an example, let's find an orthonormal basis of eigenvectors of the matrix:\n",
    "$$\n",
    "A=\\left[\\begin{matrix}\\frac{3}{2} & \\frac{1}{2} & -1\\\\\\frac{1}{2} & \\frac{3}{2} & 1\\\\-1 & 1 & 0\\end{matrix}\\right]\n",
    "$$\n",
    "We start by finding the eigenvalues  and eigenvectors of $A$."
   ]
  },
  {
   "cell_type": "code",
   "execution_count": null,
   "metadata": {
    "collapsed": false,
    "jupyter": {
     "outputs_hidden": false
    }
   },
   "outputs": [],
   "source": [
    "A = rational_matrix([[3/2, 1/2, -1],\n",
    "                        [1/2, 3/2,  1],\n",
    "                        [ -1,   1,  0]])\n",
    "A"
   ]
  },
  {
   "cell_type": "code",
   "execution_count": null,
   "metadata": {
    "collapsed": false,
    "jupyter": {
     "outputs_hidden": false
    }
   },
   "outputs": [],
   "source": [
    "lbd = symbols('lambda')\n",
    "p = det(A - lbd*eye(3))\n",
    "p"
   ]
  },
  {
   "cell_type": "code",
   "execution_count": null,
   "metadata": {
    "collapsed": false,
    "jupyter": {
     "outputs_hidden": false
    }
   },
   "outputs": [],
   "source": [
    "factor(p)"
   ]
  },
  {
   "cell_type": "markdown",
   "metadata": {},
   "source": [
    "The eigenvalues are $\\lambda_1=2$ and $\\lambda_2=1$. We next find a basis for each of the eigenspaces:\n",
    "\n",
    "### Eigenspace of $\\lambda_1=2$"
   ]
  },
  {
   "cell_type": "code",
   "execution_count": null,
   "metadata": {
    "collapsed": false,
    "jupyter": {
     "outputs_hidden": false
    }
   },
   "outputs": [],
   "source": [
    "R = reduced_row_echelon_form(A - 2*eye(3))\n",
    "R"
   ]
  },
  {
   "cell_type": "markdown",
   "metadata": {},
   "source": [
    "The system corresponding to the RREF has a single equation:\n",
    "$$\n",
    "x_1-x_2+2x_3=0\n",
    "$$\n",
    "There are two free variables, $x_2$ and $x_3$. So, the eigenspace $E(2)$ has dimension 2. To find a basis for $E(2)$ we let:\n",
    "\n",
    "$$\n",
    "\\text{$x_2=1$, $x_3=0$, so that $x_1=1-2\\times0=1$, and we let: } \\mathbf{u}_1=\\begin{bmatrix}1\\\\1\\\\0\\end{bmatrix}\n",
    "$$\n",
    "$$\n",
    "\\text{$x_2=0$, $x_3=1$, so that $x_1=0-2\\times1=-2$:, and we let:  } \\mathbf{u}_2=\\begin{bmatrix}-2\\\\0\\\\1\\end{bmatrix}\n",
    "$$\n",
    "\n"
   ]
  },
  {
   "cell_type": "markdown",
   "metadata": {},
   "source": [
    "## Eigenspace of $\\lambda_2=-1$"
   ]
  },
  {
   "cell_type": "code",
   "execution_count": null,
   "metadata": {
    "collapsed": false,
    "jupyter": {
     "outputs_hidden": false
    }
   },
   "outputs": [],
   "source": [
    "R = reduced_row_echelon_form(A - (-1)*eye(3))\n",
    "R"
   ]
  },
  {
   "cell_type": "markdown",
   "metadata": {},
   "source": [
    "We now get the system:\n",
    "\\begin{align*}\n",
    "x_1-\\frac{1}{2}x_3&=0\\\\\n",
    "x_2+\\frac{1}{2}x_3&=0\n",
    "\\end{align*}\n",
    "There is only one free variable, $x_3$, so the eigenspace $E(-1)$ has dimension 1. Letting $x_3=2$ we get $x_1=1$ and $x_2=-1$, which gives us the eigenvector:\n",
    "$$\n",
    "\\mathbf{u}_3=\\begin{bmatrix}1\\\\-1\\\\2\\end{bmatrix}\n",
    "$$\n",
    "\n",
    "Summarizing our findings:\n",
    "\n",
    "$$\n",
    "\\text{Eigenvalue $\\lambda_1=2$};\\quad\\text{Eigenvectors: }\n",
    "\\mathbf{u}_1=\\begin{bmatrix}1\\\\1\\\\0\\end{bmatrix},\\quad\n",
    "\\mathbf{u}_2=\\begin{bmatrix}-2\\\\0\\\\1\\end{bmatrix}\n",
    "$$\n",
    "\n",
    "$$\n",
    "\\text{Eigenvalue $\\lambda_2=-1$};\\quad\\text{Eigenvector: }\n",
    "\\mathbf{u}_3=\\begin{bmatrix}1\\\\-1\\\\2\\end{bmatrix}\n",
    "$$\n",
    "\n",
    "Notice that $\\{\\mathbf{u}_1,\\mathbf{u}_2,\\mathbf{u}_3\\}$ is _not_ orthogonal, since $\\mathbf{u}_1\\cdot\\mathbf{u}_2\\ne0$. However:\n",
    "\n",
    "$$\n",
    "\\text{$\\mathbf{u}_3$ is orthogonal to both $\\mathbf{u}_1$ and $\\mathbf{u}_2$}\n",
    "$$\n",
    "\n",
    "This is because they are eigenvectors that correspond to different eigenvalues.\n",
    "\n",
    "To get an orthogonal basis, we apply the Gram-Schimidt procedure to the set $\\{\\mathbf{u}_1,\\mathbf{u}_2\\}$"
   ]
  },
  {
   "cell_type": "code",
   "execution_count": null,
   "metadata": {
    "collapsed": false,
    "jupyter": {
     "outputs_hidden": false
    }
   },
   "outputs": [],
   "source": [
    "u1 = Matrix([1,1,0])\n",
    "u2 = Matrix([-2,0,1])\n",
    "v1 = u1\n",
    "v2 = u2 - u2.dot(v1)/v1.dot(v1)*v1\n",
    "v2"
   ]
  },
  {
   "cell_type": "markdown",
   "metadata": {},
   "source": [
    "Checking:"
   ]
  },
  {
   "cell_type": "code",
   "execution_count": null,
   "metadata": {
    "collapsed": false,
    "jupyter": {
     "outputs_hidden": false
    }
   },
   "outputs": [],
   "source": [
    "v1.dot(v2)"
   ]
  },
  {
   "cell_type": "markdown",
   "metadata": {},
   "source": [
    "To complete the orthonormal basis, we define:"
   ]
  },
  {
   "cell_type": "code",
   "execution_count": null,
   "metadata": {
    "collapsed": false,
    "jupyter": {
     "outputs_hidden": false
    }
   },
   "outputs": [],
   "source": [
    "v3=Matrix([1,-1,2])\n",
    "v3"
   ]
  },
  {
   "cell_type": "markdown",
   "metadata": {},
   "source": [
    "To check that the three vectors $\\{\\mathbf{v}_1,\\mathbf{v}_2,\\mathbf{v}_3\\}$ are indeed orthogonal we can compute:"
   ]
  },
  {
   "cell_type": "code",
   "execution_count": null,
   "metadata": {
    "collapsed": false,
    "jupyter": {
     "outputs_hidden": false
    }
   },
   "outputs": [],
   "source": [
    "print(v1.dot(v2), v1.dot(v3), v2.dot(v3))"
   ]
  },
  {
   "cell_type": "markdown",
   "metadata": {},
   "source": [
    "To get an orthononormal basis, we simply normalize the basis:"
   ]
  },
  {
   "cell_type": "code",
   "execution_count": null,
   "metadata": {
    "collapsed": false,
    "jupyter": {
     "outputs_hidden": false
    }
   },
   "outputs": [],
   "source": [
    "n1 = v1*1/v1.norm()\n",
    "n1"
   ]
  },
  {
   "cell_type": "code",
   "execution_count": null,
   "metadata": {
    "collapsed": false,
    "jupyter": {
     "outputs_hidden": false
    }
   },
   "outputs": [],
   "source": [
    "n2 = v2*1/v2.norm()\n",
    "n2"
   ]
  },
  {
   "cell_type": "code",
   "execution_count": null,
   "metadata": {
    "collapsed": false,
    "jupyter": {
     "outputs_hidden": false
    }
   },
   "outputs": [],
   "source": [
    "n3 = v3*1/v3.norm()\n",
    "n3"
   ]
  },
  {
   "cell_type": "markdown",
   "metadata": {},
   "source": [
    "Let's now to check our work, build the change of basis matrix:"
   ]
  },
  {
   "cell_type": "code",
   "execution_count": null,
   "metadata": {
    "collapsed": false,
    "jupyter": {
     "outputs_hidden": false
    }
   },
   "outputs": [],
   "source": [
    "P = Matrix.hstack(n1,n2,n3)\n",
    "P"
   ]
  },
  {
   "cell_type": "markdown",
   "metadata": {},
   "source": [
    "$P$ must be an orthogonal matrix, so we compute:"
   ]
  },
  {
   "cell_type": "code",
   "execution_count": null,
   "metadata": {
    "collapsed": false,
    "jupyter": {
     "outputs_hidden": false
    }
   },
   "outputs": [],
   "source": [
    "P.T * P"
   ]
  },
  {
   "cell_type": "markdown",
   "metadata": {},
   "source": [
    "Finally, we can check the diagonalization:"
   ]
  },
  {
   "cell_type": "code",
   "execution_count": null,
   "metadata": {
    "collapsed": false,
    "jupyter": {
     "outputs_hidden": false
    }
   },
   "outputs": [],
   "source": [
    "P.T * A * P"
   ]
  },
  {
   "cell_type": "code",
   "execution_count": null,
   "metadata": {
    "tags": []
   },
   "outputs": [],
   "source": []
  }
 ],
 "metadata": {
  "anaconda-cloud": {},
  "kernelspec": {
   "display_name": "Python 3",
   "language": "python",
   "name": "python3"
  },
  "language_info": {
   "codemirror_mode": {
    "name": "ipython",
    "version": 3
   },
   "file_extension": ".py",
   "mimetype": "text/x-python",
   "name": "python",
   "nbconvert_exporter": "python",
   "pygments_lexer": "ipython3",
   "version": "3.8.5"
  }
 },
 "nbformat": 4,
 "nbformat_minor": 4
}
