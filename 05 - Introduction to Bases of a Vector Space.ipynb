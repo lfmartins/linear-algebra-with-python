{
 "cells": [
  {
   "cell_type": "code",
   "execution_count": null,
   "metadata": {
    "tags": []
   },
   "outputs": [],
   "source": [
    "from latools import *\n",
    "from sympy import *\n",
    "init_printing(use_latex=True)"
   ]
  },
  {
   "cell_type": "markdown",
   "metadata": {},
   "source": [
    "# Examples\n",
    "\n",
    "## Example 1\n",
    "\n",
    "Let:\n",
    "$$\n",
    "\\mathbf{v}_1=\n",
    "\\begin{bmatrix}-1\\\\2\\end{bmatrix}\n",
    "\\quad\n",
    "\\mathbf{v}_1=\n",
    "\\begin{bmatrix}1\\\\2\\end{bmatrix}\n",
    "$$\n",
    "\n",
    "Is it possible to represent any vector in $\\mathbb{R}^2$ in terms of $\\left\\{\\mathbf{v}_1, \\mathbf{v}_2\\right\\}$?\n",
    "\n",
    "We need to be more precise about the question posed above. What we want is to represent an arbitrary vector $\\begin{bmatrix}x\\\\y\\end{bmatrix}$ as a _linear combination_ of $\\mathbb{v}_1$, $\\mathbb{v}_2$.\n",
    "\n",
    "In other words, we ask if it is possible to find scalars $x$ and $y$ such that:\n",
    "$$\n",
    "\\begin{bmatrix}x\\\\y\\end{bmatrix}=\n",
    "a\\begin{bmatrix}-1\\\\2\\end{bmatrix}+\n",
    "b\\begin{bmatrix}1\\\\2\\end{bmatrix}\n",
    "$$\n",
    "In terms of matrices, we get the following formulation:\n",
    "$$\n",
    "\\begin{bmatrix}-1&2\\\\1&2\\end{bmatrix}\n",
    "\\begin{bmatrix}a\\\\b\\end{bmatrix}=\n",
    "\\begin{bmatrix}x\\\\y\\end{bmatrix}\n",
    "$$\n",
    "_Keeping the variables straight_: In the system above, we must interpret the variables as follows:\n",
    "\n",
    "- $x$ and $y$ are given numbers.\n",
    "- $a$ and $b$ are the unknowns in the system, and must be found in terms of $x$ and $y$.\n",
    "\n",
    "We solve the system in the standard way, but use symbols for the right-hand side:"
   ]
  },
  {
   "cell_type": "code",
   "execution_count": null,
   "metadata": {
    "collapsed": false,
    "jupyter": {
     "outputs_hidden": false
    }
   },
   "outputs": [],
   "source": [
    "x, y = symbols('x,y')\n",
    "A = rational_matrix([[ 1,-1, x],\n",
    "                     [ 2, 2, y]])\n",
    "A"
   ]
  },
  {
   "cell_type": "markdown",
   "metadata": {},
   "source": [
    "We now use Gauss-Jordan elimination to solve the system:"
   ]
  },
  {
   "cell_type": "code",
   "execution_count": null,
   "metadata": {
    "collapsed": false,
    "jupyter": {
     "outputs_hidden": false
    }
   },
   "outputs": [],
   "source": [
    "A1 = rop(A, 'R1*(-2)+R2=>R2')\n",
    "A1"
   ]
  },
  {
   "cell_type": "code",
   "execution_count": null,
   "metadata": {
    "collapsed": false,
    "jupyter": {
     "outputs_hidden": false
    }
   },
   "outputs": [],
   "source": [
    "A2 = rop(A1, 'R2*(1/4)=>R2')\n",
    "A2"
   ]
  },
  {
   "cell_type": "code",
   "execution_count": null,
   "metadata": {
    "collapsed": false,
    "jupyter": {
     "outputs_hidden": false
    }
   },
   "outputs": [],
   "source": [
    "A3 = rop(A2, 'R2*(1)+R1=>R1')\n",
    "A3"
   ]
  },
  {
   "cell_type": "code",
   "execution_count": null,
   "metadata": {
    "collapsed": false,
    "jupyter": {
     "outputs_hidden": false
    }
   },
   "outputs": [],
   "source": [
    "A4 = rop(A3, 'R2*(2)+R1=>R1')\n",
    "A4"
   ]
  },
  {
   "cell_type": "markdown",
   "metadata": {},
   "source": [
    "Interpreting the result of the computations, we get:\n",
    "$$\n",
    "a=-\\frac{1}{2}x+\\frac{1}{2}y\\\\\n",
    "b=\\frac{1}{4}x+\\frac{1}{4}y\n",
    "$$\n",
    "Notice that we can write this in terms of matrix multiplication:\n",
    "$$\n",
    "\\begin{bmatrix}a\\\\b\\end{bmatrix}=\n",
    "\\begin{bmatrix}-\\frac{1}{2} & \\frac{1}{2}\\\\\\frac{1}{4} & \\frac{1}{4}\\end{bmatrix}\n",
    "\\begin{bmatrix}x\\\\y\\end{bmatrix}\n",
    "$$\n",
    "Unsurprisingly, the matrix above is the inverse of the original matrix.\n",
    "\n",
    "## Conclusion\n",
    "Given the vectors:\n",
    "\n",
    "$$\n",
    "\\mathbf{v}_1=\n",
    "\\begin{bmatrix}-1\\\\2\\end{bmatrix}\n",
    "\\quad\n",
    "\\mathbf{v}_1=\n",
    "\\begin{bmatrix}1\\\\2\\end{bmatrix}\n",
    "$$\n",
    "\n",
    "any vector in $\\mathbb{R}^2$ can be expressed in terms of $\\left\\{\\mathbf{v}_1, \\mathbf{v}_2\\right\\}$:\n",
    "\n",
    "$$\n",
    "\\begin{bmatrix}x\\\\y\\end{bmatrix}=\n",
    "a\\begin{bmatrix}-1\\\\2\\end{bmatrix}+\n",
    "b\\begin{bmatrix}1\\\\2\\end{bmatrix}=\n",
    "\\begin{bmatrix}-1&2\\\\1&2\\end{bmatrix}\n",
    "\\begin{bmatrix}a\\\\b\\end{bmatrix}=\n",
    "\\begin{bmatrix}x\\\\y\\end{bmatrix}\n",
    "$$\n",
    "\n",
    "where:\n",
    "\n",
    "$$\n",
    "\\begin{bmatrix}a\\\\b\\end{bmatrix}=\n",
    "\\begin{bmatrix}-\\frac{1}{2} & \\frac{1}{2}\\\\\\frac{1}{4} & \\frac{1}{4}\\end{bmatrix}\n",
    "\\begin{bmatrix}x\\\\y\\end{bmatrix}\n",
    "$$\n",
    "\n",
    "When this happens, we say that $\\left\\{\\mathbf{v}_1, \\mathbf{v}_2\\right\\}$ is a _basis_ of $\\mathbb{R}^2$.\n"
   ]
  },
  {
   "cell_type": "markdown",
   "metadata": {},
   "source": [
    "## Example 2\n",
    "\n",
    "Let's now to an example in $\\mathbb{R}^4$. The given vectors are:\n",
    "\n",
    "$$\n",
    "\\mathbf{v}_1=\\begin{bmatrix} 1\\\\ 2\\\\ -1\\\\ 1\\end{bmatrix}\\quad\n",
    "\\mathbf{v}_2=\\begin{bmatrix} 0 \\\\ 1\\\\ 3\\\\ -1\\end{bmatrix}\\quad\n",
    "\\mathbf{v}_3=\\begin{bmatrix} 2\\\\ 0\\\\ 1\\\\ 1\\end{bmatrix}\\quad\n",
    "\\mathbf{v}_4=\\begin{bmatrix} 1\\\\ 1\\\\ 1\\\\ 1\\end{bmatrix}\n",
    "$$\n",
    "\n",
    "We want to express an arbitrary vector in $\\mathbb{R}^4$ as:\n",
    "\n",
    "$$\n",
    "\\begin{bmatrix}x\\\\y\\\\z\\\\t\\end{bmatrix}=\n",
    "a\\begin{bmatrix} 1\\\\ 2\\\\ -1\\\\ 1\\end{bmatrix}+\n",
    "b\\begin{bmatrix} 0 \\\\ 1\\\\ 3\\\\ -1\\end{bmatrix}+\n",
    "c\\begin{bmatrix} 2\\\\ 0\\\\ 1\\\\ 1\\end{bmatrix}+\n",
    "d\\begin{bmatrix} 1\\\\ 1\\\\ 1\\\\ 1\\end{bmatrix}\n",
    "$$\n",
    "\n",
    "This is equivalent to the system:\n",
    "\n",
    "$$\n",
    "\\begin{bmatrix}\n",
    "1&0&2&1\\\\2&1&0&1\\\\-1&3&1&1\\\\1&-1&1&1\n",
    "\\end{bmatrix}\n",
    "\\begin{bmatrix} a\\\\b\\\\c\\\\d\\end{bmatrix}=\n",
    "\\begin{bmatrix}x\\\\y\\\\z\\\\t\\end{bmatrix}\n",
    "$$\n",
    "\n",
    "Let's solve this system using Gaussian Elimination:"
   ]
  },
  {
   "cell_type": "code",
   "execution_count": null,
   "metadata": {
    "collapsed": false,
    "jupyter": {
     "outputs_hidden": false
    }
   },
   "outputs": [],
   "source": [
    "x, y, z, t = symbols('x,y,z,t')\n",
    "A = rational_matrix([[ 1,  0, 2, 1, x],\n",
    "                     [ 2,  1, 0, 1, y],\n",
    "                     [-1,  3, 1, 1, z],\n",
    "                     [ 1, -1, 1, 1, t]])\n",
    "A"
   ]
  },
  {
   "cell_type": "code",
   "execution_count": null,
   "metadata": {
    "collapsed": false,
    "jupyter": {
     "outputs_hidden": false
    }
   },
   "outputs": [],
   "source": [
    "A1 = rop(A, 'R1*(-2)+R2=>R2', 'R1*(1)+R3=>R3', 'R1*(-1)+R4=>R4')\n",
    "A1"
   ]
  },
  {
   "cell_type": "code",
   "execution_count": null,
   "metadata": {
    "collapsed": false,
    "jupyter": {
     "outputs_hidden": false
    }
   },
   "outputs": [],
   "source": [
    "A2 = rop(A1, 'R2*(-3)+R3=>R3', 'R2*(1)+R4=>R4')\n",
    "A2"
   ]
  },
  {
   "cell_type": "code",
   "execution_count": null,
   "metadata": {
    "collapsed": false,
    "jupyter": {
     "outputs_hidden": false
    }
   },
   "outputs": [],
   "source": [
    "A3 = rop(A2, 'R3*(1/15)=>R3')\n",
    "A3"
   ]
  },
  {
   "cell_type": "code",
   "execution_count": null,
   "metadata": {
    "collapsed": false,
    "jupyter": {
     "outputs_hidden": false
    }
   },
   "outputs": [],
   "source": [
    "A4 = rop(A3, 'R3*(-2)+R1=>R1', 'R3*(4)+R2=>R2', 'R3*(5)+R4=>R4')\n",
    "A4"
   ]
  },
  {
   "cell_type": "code",
   "execution_count": null,
   "metadata": {
    "collapsed": false,
    "jupyter": {
     "outputs_hidden": false
    }
   },
   "outputs": [],
   "source": [
    "A5 = rop(A4, 'R4*(3/2)=>R4')\n",
    "A5"
   ]
  },
  {
   "cell_type": "code",
   "execution_count": null,
   "metadata": {
    "collapsed": false,
    "jupyter": {
     "outputs_hidden": false
    }
   },
   "outputs": [],
   "source": [
    "A6 = rop(A5, 'R4*(-1/3)+R1=>R1', 'R4*(-1/3)+R2=>R2', 'R4*(-1/3)+R3=>R3')\n",
    "A6"
   ]
  },
  {
   "cell_type": "markdown",
   "metadata": {},
   "source": [
    "We conclude that it is always possible to find the representation, and:\n",
    "\n",
    "$$\n",
    "\\begin{bmatrix} a\\\\b\\\\c\\\\d\\end{bmatrix}=\n",
    "\\begin{bmatrix}\n",
    "\\frac{2}{5} & \\frac{2}{5} & -\\frac{3}{10} & -\\frac{1}{2}\\\\\n",
    "\\frac{1}{5} & \\frac{1}{5} & \\frac{1}{10} & -\\frac{1}{2}\\\\\n",
    "\\frac{4}{5} & -\\frac{1}{5} & -\\frac{1}{10} & -\\frac{1}{2}\\\\\n",
    "-1 & 0 & \\frac{1}{2} & \\frac{3}{2}\n",
    "\\end{bmatrix}\n",
    "\\begin{bmatrix}x\\\\y\\\\z\\\\t\\end{bmatrix}\n",
    "$$\n",
    "\n",
    "It follows that the given vectors are a basis of $\\mathbb{R}^4$"
   ]
  },
  {
   "cell_type": "markdown",
   "metadata": {},
   "source": [
    "## Example 3\n",
    "\n",
    "Determine if the following vectors form a basis of $\\mathbb{R}^3$:\n",
    "\n",
    "$$\n",
    "\\mathbf{v}_1=\\begin{bmatrix} 1\\\\ -1\\\\ 3\\end{bmatrix}\\quad\n",
    "\\mathbf{v}_2=\\begin{bmatrix} 2\\\\ 0\\\\ 1 \\end{bmatrix}\\quad\n",
    "\\mathbf{v}_3=\\begin{bmatrix} 0\\\\ -2\\\\ 5\\end{bmatrix}\n",
    "$$\n",
    "\n",
    "_Solution_: We need to check if an arbitrary vector can be expressed as:\n",
    "\n",
    "$$\n",
    "\\begin{bmatrix}x\\\\y\\\\z\\end{bmatrix}=\n",
    "a\\begin{bmatrix} 1\\\\ -1\\\\ 3\\end{bmatrix}+\n",
    "b\\begin{bmatrix} 2 \\\\ 0\\\\ 1\\end{bmatrix}+\n",
    "c\\begin{bmatrix} 0\\\\ -2\\\\ 5\\end{bmatrix}\n",
    "$$\n",
    "\n",
    "We set this up as a linear system:\n",
    "\n",
    "$$\n",
    "\\begin{bmatrix}\n",
    "1&2&0\\\\-1&0&-2\\\\3&1&5\n",
    "\\end{bmatrix}\n",
    "\\begin{bmatrix} a\\\\b\\\\c\\end{bmatrix}=\n",
    "\\begin{bmatrix}x\\\\y\\\\z\\end{bmatrix}\n",
    "$$\n",
    "\n",
    "Next, solve the system by Gaussian Elimination:"
   ]
  },
  {
   "cell_type": "code",
   "execution_count": null,
   "metadata": {
    "collapsed": false,
    "jupyter": {
     "outputs_hidden": false
    }
   },
   "outputs": [],
   "source": [
    "x, y, z = symbols('x,y,z')\n",
    "A = rational_matrix([[ 1, 2,  0, x],\n",
    "                     [-1, 0, -2, y],\n",
    "                     [ 3, 1,  5, z]])\n",
    "A"
   ]
  },
  {
   "cell_type": "code",
   "execution_count": null,
   "metadata": {
    "collapsed": false,
    "jupyter": {
     "outputs_hidden": false
    }
   },
   "outputs": [],
   "source": [
    "A1 = rop(A, 'R1*(1)+R2=>R2', 'R1*(-3)+R3=>R3')\n",
    "A1"
   ]
  },
  {
   "cell_type": "code",
   "execution_count": null,
   "metadata": {
    "collapsed": false,
    "jupyter": {
     "outputs_hidden": false
    }
   },
   "outputs": [],
   "source": [
    "A2 = rop(A1, 'R2*(1/2)=>R2')\n",
    "A2"
   ]
  },
  {
   "cell_type": "code",
   "execution_count": null,
   "metadata": {
    "collapsed": false,
    "jupyter": {
     "outputs_hidden": false
    }
   },
   "outputs": [],
   "source": [
    "A3 = rop(A2, 'R2*(-2)+R1=>R1', 'R2*(5)+R3=>R3')\n",
    "A3"
   ]
  },
  {
   "cell_type": "markdown",
   "metadata": {},
   "source": [
    "When we translate this augmented matrix back to system form we get:\n",
    "\n",
    "\\begin{align*}\n",
    "a+2c&=-y\\\\\n",
    "b-c&=\\frac{1}{2}x+\\frac{1}{2}y\\\\\n",
    "0&=-\\frac{1}{2}x+\\frac{5}{2}y+z\n",
    "\\end{align*}\n",
    "\n",
    "\n",
    "The important equation to look here is the third one:\n",
    "\n",
    "$$\n",
    "0=-\\frac{1}{2}x+\\frac{5}{2}y+z\n",
    "$$\n",
    "\n",
    "There are two possibilites:\n",
    "\n",
    "- If $-\\frac{1}{2}x+\\frac{5}{2}y+z=0$, the system has solutions (infinitely many, actually)\n",
    "- If $-\\frac{1}{2}x+\\frac{5}{2}y+z\\ne0$, the system is inconsistent.\n",
    "\n",
    "We conclude that _there are_ values of $x$, $y$ and $z$ for which the system will not have solutions. For example, if:\n",
    "\n",
    "$$\n",
    "\\begin{bmatrix}x\\\\y\\\\z\\end{bmatrix}=\n",
    "\\begin{bmatrix}2\\\\6\\\\0\\end{bmatrix}\n",
    "$$\n",
    "\n",
    "the system has no solutions, since $-\\frac{1}{2}x+\\frac{5}{2}y+z=-\\frac{1}{2}2+\\frac{5}{2}6+0=14\\ne0$. It follows that it is _not_ possible to represent this vector in terms of $\\mathbf{v}_1$, $\\mathbf{v}_2$, $\\mathbf{v}_3$. We conclude that these vectors do not constitute a basis of $\\mathbb{R^3}$"
   ]
  },
  {
   "cell_type": "markdown",
   "metadata": {},
   "source": [
    "# Provisional Definition of Basis\n",
    "\n",
    "We say that a set of $n$ vectors in form a _basis_ of $\\mathbb{R}^n$ if it is possible to represent any vector in $\\mathbb{R}^n$ in terms of the vectors in the given set.\n",
    "\n",
    "In practice, to check if $\\{\\mathbf{v}_1,\\mathbf{v}_2,\\ldots,\\mathbf{v}_n\\}$ is a basis of $\\mathbb{R}^n$, we look at the system:\n",
    "\n",
    "$$\n",
    "\\begin{bmatrix}x_1\\\\x_2\\\\\\vdots\\\\x_n\\end{bmatrix}=\n",
    "a_1\\mathbf{v}_1+a_2\\mathbf{v}_2+\\cdots+a_n\\mathbf{v}_n\n",
    "$$\n",
    "\n",
    "- If it is always possible to solve the system, finding scalars of $a_1,a_2,\\ldots,a_n$ that represent the vector $[x_1,x_2,\\ldots,x_n]$, then the set is a basis.\n",
    "- Otherwise, the set is not a basis."
   ]
  },
  {
   "cell_type": "markdown",
   "metadata": {},
   "source": [
    "## Exercises\n",
    "\n",
    "1. For each set of vectors given below, determine if it is a basis or not.\n",
    "\n",
    "(a)\n",
    "$$\n",
    "\\mathbf{v}_1=\\begin{bmatrix}1\\\\2\\\\1\\end{bmatrix}\\quad\n",
    "\\mathbf{v}_2=\\begin{bmatrix}3\\\\-3\\\\2\\end{bmatrix}\\quad\n",
    "\\mathbf{v}_3=\\begin{bmatrix}4\\\\4\\\\4\\end{bmatrix}\\quad\n",
    "\\text{ in } \\mathbb{R}^3\n",
    "$$\n",
    "\n",
    "(b)\n",
    "$$\n",
    "\\mathbf{v}_1=\\begin{bmatrix}0\\\\3\\\\2\\\\1\\end{bmatrix}\\quad\n",
    "\\mathbf{v}_2=\\begin{bmatrix}-2\\\\4\\\\1\\\\1\\end{bmatrix}\\quad\n",
    "\\mathbf{v}_3=\\begin{bmatrix}3\\\\3\\\\2\\\\0\\end{bmatrix}\\quad\n",
    "\\mathbf{v}_4=\\begin{bmatrix}-1\\\\0\\\\0\\\\2\\end{bmatrix}\\quad\n",
    "\\text{ in } \\mathbb{R}^4\n",
    "$$\n",
    "\n",
    "(c)\n",
    "$$\n",
    "\\mathbf{v}_1=\\begin{bmatrix}2\\\\3\\\\0\\\\-2\\end{bmatrix}\\quad\n",
    "\\mathbf{v}_2=\\begin{bmatrix}1\\\\-1\\\\4\\\\4\\end{bmatrix}\\quad\n",
    "\\mathbf{v}_3=\\begin{bmatrix}0\\\\5\\\\-8\\\\-10\\end{bmatrix}\\quad\n",
    "\\mathbf{v}_4=\\begin{bmatrix}7\\\\8\\\\4\\\\-2\\end{bmatrix}\\quad\n",
    "\\text{ in } \\mathbb{R}^4\n",
    "$$\n",
    "\n",
    "2. Suppose that two vectors in $\\mathbb{R}^2$ are given by:\n",
    "\n",
    "$$\n",
    "\\mathbf{v}_1=\\begin{bmatrix}r\\\\s\\end{bmatrix}\\quad\n",
    "\\mathbf{v}_2=\\begin{bmatrix}t\\\\u\\end{bmatrix}\n",
    "$$\n",
    "\n",
    "When are these vectors a basis of $\\mathbb{R}^2$? Your answer will be in the form of an algebraic relationship for $r$, $s$, $t$, $u$.\n",
    "\n",
    "_Note_: It is possible to do this symbolically using the computer, but you might find it easier to just use pencil and paper.\n",
    "\n"
   ]
  },
  {
   "cell_type": "code",
   "execution_count": null,
   "metadata": {},
   "outputs": [],
   "source": []
  }
 ],
 "metadata": {
  "anaconda-cloud": {},
  "kernelspec": {
   "display_name": "Python 3",
   "language": "python",
   "name": "python3"
  },
  "language_info": {
   "codemirror_mode": {
    "name": "ipython",
    "version": 3
   },
   "file_extension": ".py",
   "mimetype": "text/x-python",
   "name": "python",
   "nbconvert_exporter": "python",
   "pygments_lexer": "ipython3",
   "version": "3.8.5"
  }
 },
 "nbformat": 4,
 "nbformat_minor": 4
}
