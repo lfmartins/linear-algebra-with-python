{
 "cells": [
  {
   "cell_type": "code",
   "execution_count": null,
   "metadata": {
    "tags": []
   },
   "outputs": [],
   "source": [
    "%matplotlib inline\n",
    "import numpy as np\n",
    "import matplotlib.pyplot as plt\n",
    "from mpl_toolkits.mplot3d import Axes3D\n",
    "from latools import *\n",
    "from sympy import *\n",
    "init_printing(use_latex=True)"
   ]
  },
  {
   "cell_type": "markdown",
   "metadata": {},
   "source": [
    "# Solutions of Linear Systems with 2 Variables\n",
    "\n",
    "## Example 1\n",
    "Let's start considering the system:\n",
    "\n",
    "\\begin{align*}\n",
    "2x-3y&=4\\\\\n",
    "4x-6y&=8\\\\\n",
    "-x+\\frac{3}{2}y&=-2\n",
    "\\end{align*}\n",
    "\n",
    "Let's find the solution set of the system by reducing its augmented matrix to RREF."
   ]
  },
  {
   "cell_type": "code",
   "execution_count": null,
   "metadata": {
    "collapsed": false,
    "jupyter": {
     "outputs_hidden": false
    }
   },
   "outputs": [],
   "source": [
    "M = rational_matrix([[ 2, -3,   4],\n",
    "                        [ 4, -6,   8],\n",
    "                        [-1, 3/2, -2]])\n",
    "M"
   ]
  },
  {
   "cell_type": "markdown",
   "metadata": {},
   "source": [
    "The cell below displays the solution process in abbreviated form:"
   ]
  },
  {
   "cell_type": "code",
   "execution_count": null,
   "metadata": {
    "collapsed": false,
    "jupyter": {
     "outputs_hidden": false
    }
   },
   "outputs": [],
   "source": [
    "M1 = rop(M, 'R1*(1/2)=>R1', 'R1*(-4)+R2=>R2', 'R1*(1)+R3=>R3')\n",
    "M1"
   ]
  },
  {
   "cell_type": "markdown",
   "metadata": {},
   "source": [
    "This matrix is the RREF, and we get the system:\n",
    "\n",
    "\\begin{align*}\n",
    "x-\\frac{3}{2}y&=2\\\\\n",
    "0&=0\\\\\n",
    "0&=0\n",
    "\\end{align*}\n",
    "\n",
    "The last two equations ($0=0$) can be ignored, and we get a single equation:\n",
    "$$\n",
    "x-\\frac{3}{2}y=2\n",
    "$$\n",
    "This is the equation of a _line_ on the plane. Written in more familiar form the equation is:\n",
    "$$\n",
    "y=\\frac{2}{3}x-\\frac{4}{3}\n",
    "$$-\n",
    "That is, this is a line with slope $\\frac{2}{3}$ and $y$intercept $-\\frac{4}{3}$. Let's write the vector representation of the solution set corresponding to the equation\n",
    "$$\n",
    "x-\\frac{3}{2}y=2\n",
    "$$\n",
    "The pivot variable is $x$ and the only free variable is $y$. We let $y=\\lambda$ to get:\n",
    "$$\n",
    "\\begin{bmatrix}x\\\\y\\end{bmatrix}=\n",
    "\\begin{bmatrix}2\\\\0\\end{bmatrix}+\n",
    "\\lambda\n",
    "\\begin{bmatrix}\\frac{3}{2}\\\\1\\end{bmatrix}=\n",
    "\\mathbf{p}+\\lambda\\mathbf{v}\n",
    "$$\n",
    "The cell below represents the line geometrically, as well as the vectors used to define the line:"
   ]
  },
  {
   "cell_type": "code",
   "execution_count": null,
   "metadata": {
    "collapsed": false,
    "jupyter": {
     "outputs_hidden": false
    }
   },
   "outputs": [],
   "source": [
    "plt.figure(figsize=(8,8))\n",
    "xmin, xmax = -2, 8\n",
    "npoints = 300\n",
    "xvalues = np.linspace(xmin, xmax, npoints)\n",
    "yvalues = (2/3) * xvalues - 4/3\n",
    "plt.plot(xvalues, yvalues, color='red', lw=2)\n",
    "plt.axhline(0, color='black')\n",
    "plt.axvline(0, color='black')\n",
    "plt.axis([xmin,xmax,xmin,xmax])\n",
    "plt.arrow(0, 0, 2, 0, \n",
    "          width=0.02, length_includes_head=True,\n",
    "          color='blue', lw=3, head_width=0.20)\n",
    "plt.arrow(0, 0, 3/2, 1, \n",
    "          width=0.02, length_includes_head=True,\n",
    "          color='blue', lw=3, head_width=0.20)\n",
    "plt.annotate(r'$\\mathbf{p}$', xy=(0.5,0), \n",
    "             xytext=(0.75,-0.25), fontsize=18)\n",
    "plt.annotate(r'$\\mathbf{v}$', xy=(3/2,1),\n",
    "             xytext=(0.45,0.55),  fontsize=18)\n",
    "yvalues = (2/3) * xvalues\n",
    "plt.plot(xvalues, yvalues, '--', color='purple')\n",
    "lbd = 2.5\n",
    "xx = 2 + lbd * 3/2\n",
    "yy = 0 + lbd * 1\n",
    "plt.arrow(0, 0, xx, yy, \n",
    "          width=0.02, length_includes_head=True, \n",
    "          color='brown', lw=2, head_width=0.20)\n",
    "yvalues = len(xvalues) * [yy]\n",
    "plt.plot(xvalues, yvalues, '--', color='purple')\n",
    "None"
   ]
  },
  {
   "cell_type": "markdown",
   "metadata": {},
   "source": [
    "## Example 2\n",
    "Let's now consider the system:\n",
    "\n",
    "\\begin{align*}\n",
    "4x+6y&=-3\\\\\n",
    "2x- y&=1\\\\\n",
    "\\end{align*}\n",
    "\n",
    "The Gaussian Elimination process for this system is shown below:"
   ]
  },
  {
   "cell_type": "code",
   "execution_count": null,
   "metadata": {
    "collapsed": false,
    "jupyter": {
     "outputs_hidden": false
    }
   },
   "outputs": [],
   "source": [
    "A = rational_matrix([[4,  6, -3],\n",
    "                     [2, -1,  1]])\n",
    "A"
   ]
  },
  {
   "cell_type": "code",
   "execution_count": null,
   "metadata": {
    "collapsed": false,
    "jupyter": {
     "outputs_hidden": false
    }
   },
   "outputs": [],
   "source": [
    "A1 = rop(A, 'R1*(1/4)=>R1', 'R1*(-2)+R2=>R2')\n",
    "A1"
   ]
  },
  {
   "cell_type": "code",
   "execution_count": null,
   "metadata": {
    "collapsed": false,
    "jupyter": {
     "outputs_hidden": false
    }
   },
   "outputs": [],
   "source": [
    "A2 = rop(A1, 'R2*(-1/4)=>R2', 'R2*(-3/2)+R1=>R1')\n",
    "A2"
   ]
  },
  {
   "cell_type": "markdown",
   "metadata": {},
   "source": [
    "We conclude that the system is equivalent to:\n",
    "\n",
    "\\begin{align*}\n",
    "x&=\\frac{3}{16}\\\\\n",
    "y&=-\\frac{5}{8}\n",
    "\\end{align*}\n",
    "\n",
    "The solution is unique, so the solution set contains a single vector:\n",
    "$$\n",
    "\\left\\{\\begin{bmatrix}\\frac{3}{16}\\\\-\\frac{5}{8}\\end{bmatrix}\\right\\}\n",
    "$$\n",
    "Geometrically, this is a single point on the plane:"
   ]
  },
  {
   "cell_type": "code",
   "execution_count": null,
   "metadata": {
    "collapsed": false,
    "jupyter": {
     "outputs_hidden": false
    }
   },
   "outputs": [],
   "source": [
    "plt.figure(figsize=(8,8))\n",
    "xx, yy = 3/16, -5/8\n",
    "plt.plot(xx, yy, 'o', color='red', markersize=12)\n",
    "plt.arrow(0, 0, xx, yy, \n",
    "          width=0.01, length_includes_head=True, \n",
    "          color='brown', lw=2, head_width=0.05)\n",
    "plt.axhline(0, color='black')\n",
    "plt.axvline(0, color='black')\n",
    "plt.axis([-1,1,-1,1])\n",
    "None"
   ]
  },
  {
   "cell_type": "markdown",
   "metadata": {},
   "source": [
    "## Example 3\n",
    "Let's now consider the system:\n",
    "\n",
    "\\begin{align*}\n",
    "4x+6y&=-3\\\\\n",
    "2x+3y&=1\\\\\n",
    "\\end{align*}\n",
    "\n",
    "Gaussian Elimination is shown below:"
   ]
  },
  {
   "cell_type": "code",
   "execution_count": null,
   "metadata": {
    "collapsed": false,
    "jupyter": {
     "outputs_hidden": false
    }
   },
   "outputs": [],
   "source": [
    "A = rational_matrix([[4, 6, -3],\n",
    "                        [2, 3,  1]])\n",
    "A"
   ]
  },
  {
   "cell_type": "code",
   "execution_count": null,
   "metadata": {
    "collapsed": false,
    "jupyter": {
     "outputs_hidden": false
    }
   },
   "outputs": [],
   "source": [
    "A1 = rop(A, 'R1*(1/4)=>R1', 'R1*(-2)+R2=>R2')\n",
    "A1"
   ]
  },
  {
   "cell_type": "markdown",
   "metadata": {},
   "source": [
    "This is already in RREF, and is equivalent to the system:\n",
    "\n",
    "\\begin{align*}\n",
    "x + \\frac{3}{2}=-\\frac{3}{4}\\\\\n",
    "0=\\frac{5}{2}\n",
    "\\end{align*}\n",
    "\n",
    "The second equation is impossible, so the system is impossible. We say that the equations _inconsistent_, and the solution set is the empty set, denoted by:\n",
    "$$\n",
    "\\varnothing\n",
    "$$"
   ]
  },
  {
   "cell_type": "markdown",
   "metadata": {},
   "source": [
    "## Example 4\n",
    "What about the system (with a single equation):\n",
    "$$\n",
    "0x+0y=0\n",
    "$$\n",
    "This seems to be a silly system, and is equivalent to the equation:\n",
    "$$\n",
    "0=0\n",
    "$$\n",
    "This does not impose any conditions on the variables $x$ and $y$, so _any vector is a solution_. Equivalently, the solution set is the whole plane:\n",
    "$$\n",
    "\\text{(Solution set)}=\\mathbb{R}^2\n",
    "$$"
   ]
  },
  {
   "cell_type": "markdown",
   "metadata": {},
   "source": [
    "## Conclusions for Equations in Two Variables\n",
    "\n",
    "The examples show that there are the following posibilites for the solution set of an equation in two variables:\n",
    "\n",
    "- The empty set\n",
    "- A point (dimension 0)\n",
    "- A line (dimension 1)\n",
    "- The whole plane (dimension 2)\n",
    "\n",
    "Notice that it is, in general, not possible to know what kind of solution set a system has from the number of equations alone. A system with 100 equations can still represent a line, a point or the empty set.\n",
    "\n",
    "There are exceptions to this rule. For example, a single equation in which either $x$ or $y$ (or both) appear explicitly is _always a line_."
   ]
  },
  {
   "cell_type": "markdown",
   "metadata": {},
   "source": [
    "# Equations in Three Variables\n",
    "\n",
    "## Example 5\n",
    "\n",
    "Let's consider a single equation in three variables:\n",
    "$$\n",
    "3x-18y+6z=24\n",
    "$$\n",
    "In this case, Gaussian Elimination is very simple: multiply the equation by $1/3$ and isolate $x$ on the right-hand side:\n",
    "$$\n",
    "x = 8+6y-2z\n",
    "$$\n",
    "To write the solution in vector form, notice that the free variables are $y$ and $z$, and introducing parameters $y=\\lambda_1$, $z=\\lambda_2$ we get the solution set:\n",
    "$$\n",
    "\\left\\{\n",
    "\\begin{bmatrix}8\\\\0\\\\0\\end{bmatrix}\n",
    "+\\lambda_1\\begin{bmatrix}6\\\\1\\\\0\\end{bmatrix}\n",
    "+\\lambda_2\\begin{bmatrix}-2\\\\0\\\\1\\end{bmatrix}\n",
    "\\;:\\;\\lambda_1, \\lambda_2 \\in \\mathbb{R}\n",
    "\\right\\}\n",
    "$$\n",
    "The two last vectors are not collinear, which implies that the set is a _plane_. Let's now plot this plane:"
   ]
  },
  {
   "cell_type": "code",
   "execution_count": null,
   "metadata": {
    "collapsed": false,
    "jupyter": {
     "outputs_hidden": false
    }
   },
   "outputs": [],
   "source": [
    "fig = plt.figure(figsize=(8,8))\n",
    "ax = fig.gca(projection='3d')\n",
    "t1 = np.linspace(-2, 2, 10)\n",
    "t2 = np.linspace(-2, 2, 10)\n",
    "t1, t2 = np.meshgrid(t1, t2)\n",
    "x = 8 + 6*t1 - 2*t2\n",
    "y = t1\n",
    "z = t2\n",
    "surf = ax.plot_surface(x, y, z, rstride=1, cstride=1,\n",
    "                       linewidth=0, antialiased=False,\n",
    "                       alpha=0.3, shade=False)"
   ]
  },
  {
   "cell_type": "markdown",
   "metadata": {},
   "source": [
    "By using a similar reasoning, we can show that a single equation in three variables:\n",
    "$$\n",
    "ax+by+cz=d\n",
    "$$\n",
    "represents a plane, unless $a=b=c=0$."
   ]
  },
  {
   "cell_type": "markdown",
   "metadata": {},
   "source": [
    "## Example 6\n",
    "Let's now consider the system:\n",
    "\n",
    "\\begin{align*}\n",
    "2x-3y+2z&=12\\\\\n",
    "3x-4y+z &=20\n",
    "\\end{align*}\n",
    "\n",
    "For this one, let's use Gaussian Elimination:"
   ]
  },
  {
   "cell_type": "code",
   "execution_count": null,
   "metadata": {
    "collapsed": false,
    "jupyter": {
     "outputs_hidden": false
    }
   },
   "outputs": [],
   "source": [
    "A = rational_matrix([[2, -3, 2, 12],\n",
    "                        [3, -4, 1, 20]])\n",
    "A"
   ]
  },
  {
   "cell_type": "code",
   "execution_count": null,
   "metadata": {
    "collapsed": false,
    "jupyter": {
     "outputs_hidden": false
    }
   },
   "outputs": [],
   "source": [
    "A1 = rop(A, 'R1*(1/2)=>R1', 'R1*(-3)+R2=>R2')\n",
    "A1"
   ]
  },
  {
   "cell_type": "code",
   "execution_count": null,
   "metadata": {
    "collapsed": false,
    "jupyter": {
     "outputs_hidden": false
    }
   },
   "outputs": [],
   "source": [
    "A2 = rop(A1, 'R2*(2)=>R2', 'R2*(3/2)+R1=>R1')\n",
    "A2"
   ]
  },
  {
   "cell_type": "markdown",
   "metadata": {},
   "source": [
    "The only free variable is $z$, and introducing the parameter $z=\\lambda$ we can write the system solution in the parametric form:\n",
    "\n",
    "\\begin{align*}\n",
    "x&=12+5\\lambda\\\\\n",
    "y&=4+4\\lambda\\\\\n",
    "z&=\\lambda\n",
    "\\end{align*}\n",
    "\n",
    "The solution set, in vector notation is:\n",
    "$$\n",
    "\\left\\{\n",
    "\\begin{bmatrix}12\\\\4\\\\0\\end{bmatrix}+\\lambda\\begin{bmatrix}5\\\\4\\\\1\\end{bmatrix}\n",
    "\\;:\\;\\lambda\\in\\mathbb{R}\n",
    "\\right\\}\n",
    "$$\n",
    "This set is a line in space, as shown below:"
   ]
  },
  {
   "cell_type": "code",
   "execution_count": null,
   "metadata": {
    "collapsed": false,
    "jupyter": {
     "outputs_hidden": false
    }
   },
   "outputs": [],
   "source": [
    "fig = plt.figure(figsize=(8,8))\n",
    "ax = fig.add_subplot(111, projection='3d')\n",
    "t = np.linspace(-3, 3, 20)\n",
    "x = 12 + 5*t\n",
    "y = 4 + 4*t\n",
    "z = t\n",
    "ax.plot(x, y, z, lw=2, color='red')\n",
    "None"
   ]
  },
  {
   "cell_type": "markdown",
   "metadata": {},
   "source": [
    "## Example 7\n",
    "Let's now solve the system:\n",
    "\n",
    "\\begin{align*}\n",
    "x-z&=42\\\\\n",
    "x+2y&=21\\\\\n",
    "x+y+z&=-8\n",
    "\\end{align*}\n",
    "\n",
    "Using Gaussian Elimination we get:"
   ]
  },
  {
   "cell_type": "code",
   "execution_count": null,
   "metadata": {
    "collapsed": false,
    "jupyter": {
     "outputs_hidden": false
    }
   },
   "outputs": [],
   "source": [
    "A = rational_matrix([[1, 0, 1, 42],\n",
    "                        [1, 2, 0, 21],\n",
    "                        [1, 1, 1, -8]])\n",
    "A"
   ]
  },
  {
   "cell_type": "code",
   "execution_count": null,
   "metadata": {
    "collapsed": false,
    "jupyter": {
     "outputs_hidden": false
    }
   },
   "outputs": [],
   "source": [
    "A1 = rop(A, 'R1*(-1)+R2=>R2', 'R1*(-1)+R3=>R3')\n",
    "A1"
   ]
  },
  {
   "cell_type": "code",
   "execution_count": null,
   "metadata": {
    "collapsed": false,
    "jupyter": {
     "outputs_hidden": false
    }
   },
   "outputs": [],
   "source": [
    "A2 = rop(A1, 'R2<=>R3')\n",
    "A2"
   ]
  },
  {
   "cell_type": "code",
   "execution_count": null,
   "metadata": {
    "collapsed": false,
    "jupyter": {
     "outputs_hidden": false
    }
   },
   "outputs": [],
   "source": [
    "A3 = rop(A2, 'R2*(-2)+R3=>R3')\n",
    "A3"
   ]
  },
  {
   "cell_type": "code",
   "execution_count": null,
   "metadata": {
    "collapsed": false,
    "jupyter": {
     "outputs_hidden": false
    }
   },
   "outputs": [],
   "source": [
    "A4 = rop(A3, 'R3*(-1)=>R3','R3*(-1)+R1=>R1')\n",
    "A4"
   ]
  },
  {
   "cell_type": "markdown",
   "metadata": {},
   "source": [
    "The system has a single solution:\n",
    "\n",
    "\\begin{align*}\n",
    "x&=121\\\\y&=-50\\\\z&=-79\n",
    "\\end{align*}\n",
    "\n",
    "Geometrically, the solution set is a single point:\n",
    "$$\n",
    "\\left\\{\\begin{bmatrix}121\\\\-50\\\\-79\\end{bmatrix}\\right\\}\n",
    "$$"
   ]
  },
  {
   "cell_type": "markdown",
   "metadata": {},
   "source": [
    "## Example 8\n",
    "In this example we consider the system:\n",
    "\n",
    "\\begin{align*}\n",
    "3x+5y+z&=8\\\\\n",
    "2x+6y-4z&=4\\\\\n",
    "x-y+5z&=-2\n",
    "\\end{align*}\n",
    "\n",
    "Let's solve it using Gaussian Elimination:"
   ]
  },
  {
   "cell_type": "code",
   "execution_count": null,
   "metadata": {
    "collapsed": false,
    "jupyter": {
     "outputs_hidden": false
    }
   },
   "outputs": [],
   "source": [
    "A=rational_matrix([[3,  5,  1,  8],\n",
    "                   [2,  6, -4,  4],\n",
    "                   [1, -1,  5, -2]])\n",
    "A"
   ]
  },
  {
   "cell_type": "code",
   "execution_count": null,
   "metadata": {
    "collapsed": false,
    "jupyter": {
     "outputs_hidden": false
    }
   },
   "outputs": [],
   "source": [
    "A1 = rop(A, 'R1*(1/3)=>R1', 'R1*(-2)+R2=>R2', 'R1*(-1)+R3=>R3')\n",
    "A1"
   ]
  },
  {
   "cell_type": "code",
   "execution_count": null,
   "metadata": {
    "collapsed": false,
    "jupyter": {
     "outputs_hidden": false
    }
   },
   "outputs": [],
   "source": [
    "A2 = rop(A1, 'R2*(3/8)=>R2', 'R2*(-5/3)+R1=>R1', 'R2*(8/3)+R3=>R3')\n",
    "A2"
   ]
  },
  {
   "cell_type": "markdown",
   "metadata": {},
   "source": [
    "Whe we write the equations corresponding to the RREF, the last equation will be:\n",
    "$$\n",
    "0=-6\n",
    "$$\n",
    "which is impossible. So the system is inconsistent and the solution set is the empty set, $\\varnothing$."
   ]
  },
  {
   "cell_type": "markdown",
   "metadata": {},
   "source": [
    "## Example 9\n",
    "Finally, we can have a system like:\n",
    "$$\n",
    "0x+0y+0z=0\n",
    "$$\n",
    "This is equivalent to $0=0$, and any values of $x$, $y$, $z$ are acceptable, so the solution set it the whole 3-dimensional space, $\\mathbb{R}^3$"
   ]
  },
  {
   "cell_type": "markdown",
   "metadata": {},
   "source": [
    "## Conclusions for Equations in Three Variables\n",
    "The solution system of a linear system in three variables can be one of the following:\n",
    "\n",
    "- The empty set\n",
    "- A point (dimension 0)\n",
    "- A line (dimension 1)\n",
    "- A plane (dimention 2)\n",
    "- The whole 3-dimensional space (dimension 3)\n",
    "\n",
    "Again, notice that, execpt in certain special cases, it is not possible to conclude what kind of set we have without actually solving the system (using Gaussian Elimination, for example)."
   ]
  },
  {
   "cell_type": "markdown",
   "metadata": {},
   "source": [
    "# Linear Systems in $n$ variables\n",
    "By analogy, the solution set of a linear system with $n$ variables can be one of the following:\n",
    "\n",
    "- The empty set\n",
    "- A hyperspace with dimension $1$ (a line).\n",
    "- A hyperspace with dimension $2$ (a plane).\n",
    "- A hyperspace with dimension $3$ (a space of dimension 3 embedded in a higher-dimensional space)\n",
    "- ...\n",
    "- The whole $n$-dimensional euclidean space, $\\mathbb{R}^n$.\n",
    "\n",
    "That is, we have the following theorem (which we will prove later):\n",
    "\n",
    "__Theorem__. The solution of a system of linear equations in $n$ variables that is consistent is a hyperspace with dimension $k$, where $0\\le k\\le n$.\n",
    "\n",
    "We will actually have a theorem that describes the solutions set in much more detail."
   ]
  },
  {
   "cell_type": "code",
   "execution_count": null,
   "metadata": {
    "tags": []
   },
   "outputs": [],
   "source": []
  }
 ],
 "metadata": {
  "anaconda-cloud": {},
  "kernelspec": {
   "display_name": "Python 3",
   "language": "python",
   "name": "python3"
  },
  "language_info": {
   "codemirror_mode": {
    "name": "ipython",
    "version": 3
   },
   "file_extension": ".py",
   "mimetype": "text/x-python",
   "name": "python",
   "nbconvert_exporter": "python",
   "pygments_lexer": "ipython3",
   "version": "3.8.5"
  }
 },
 "nbformat": 4,
 "nbformat_minor": 4
}
