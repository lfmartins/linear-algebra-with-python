{
 "cells": [
  {
   "cell_type": "code",
   "execution_count": 3,
   "id": "d6c50290-13cc-4550-ab66-0b1daaf82e86",
   "metadata": {},
   "outputs": [],
   "source": [
    "from latools import *\n",
    "from sympy import *\n",
    "init_printing(use_latex=True)\n",
    "from itertools import permutations\n",
    "from math import prod"
   ]
  },
  {
   "cell_type": "markdown",
   "id": "89a3c620-156d-4256-82bc-bb4ff63fc9b1",
   "metadata": {},
   "source": [
    "In this notebook we explore the combinatorial definition of determinant. This requires a little more programming than the previous notebooks, but it will help us getting a good grasp of the concept of a determinant.\n",
    "\n",
    "Here is the definition of determinant of a $n\\times n$ matrix $A$:\n",
    "$$\n",
    "\\det(A)=\\sum_{\\sigma\\in S_n}\\text{sgn}(\\sigma)a_{1,\\sigma(a)}a_{2,\\sigma(2)},\\ldots,a_{n,\\sigma(n)}\n",
    "$$\n",
    "where $S_n$ is the set of all permuations of the set $\\{1,2,\\ldots,n\\}$. Recall that the _sign_ of a permutation $\\sigma$ is:\n",
    "$$\n",
    "\\text{sgn}(\\sigma)=\n",
    "\\begin{cases}\n",
    "1 &\\text{if $\\sigma$ contains an even number of inversions};\\\\\n",
    "-1 &\\text{if $\\sigma$ contains an odd number of inversions}.\n",
    "\\end{cases}\n",
    "$$\n",
    "\n",
    "This formula leads to the following algorithmic description:\n",
    "\n",
    "1. Enumerate all permutations of $S_n=\\{1,2,\\ldots,n\\}$\n",
    "2. For each permutation $\\sigma$:\n",
    "\n",
    "    a. Compute the sign of $\\sigma$\n",
    "    \n",
    "    b. Compute the product $a_{1,\\sigma(a)}a_{2,\\sigma(2)},\\ldots,a_{n,\\sigma(n)}$\n",
    "\n",
    "3. Add all the products multiplied by the corresponding sign\n",
    "\n",
    "_Note_: One important detail is that sequence types in Python start at the index 0, so we must adjust the notation above. Following the Python convention, the products in the determinant must be written as:\n",
    "$$\n",
    "\\text{sgn}(\\sigma)a_{0,\\sigma(0)}a_{1,\\sigma(1)},\\ldots,a_{n-1,\\sigma(n-1)}\n",
    "$$\n",
    "where $\\sigma$ is a permutation of $\\{0,1,\\ldots,n-1\\}$\n",
    "\n",
    "In the next sections we break down the code in several steps"
   ]
  },
  {
   "cell_type": "markdown",
   "id": "01430b2a-2229-455e-80ef-da1febef9535",
   "metadata": {},
   "source": [
    "# Permutations\n",
    "\n",
    "The Python standard library contains a function `permutations` that enumerates all permutations of a set. To generate all permutations of the set $\\{0,1,\\ldots,n-1\\}$, we can use the following code:"
   ]
  },
  {
   "cell_type": "code",
   "execution_count": 16,
   "id": "d79620f5-0e64-46da-880d-dafc5f0280b2",
   "metadata": {},
   "outputs": [
    {
     "name": "stdout",
     "output_type": "stream",
     "text": [
      "(0, 1, 2)\n",
      "(0, 2, 1)\n",
      "(1, 0, 2)\n",
      "(1, 2, 0)\n",
      "(2, 0, 1)\n",
      "(2, 1, 0)\n"
     ]
    }
   ],
   "source": [
    "n = 3\n",
    "for sigma in permutations(range(n)):\n",
    "    print(sigma)"
   ]
  },
  {
   "cell_type": "markdown",
   "id": "16030816-656c-4802-bdd1-ede3984569be",
   "metadata": {},
   "source": [
    "Notice that indexes start at zero in python sequence types.\n",
    "\n",
    "Now we need to compute the sign of a permutation. We do this by keeping to indexes $i$ and $j$, with $i<j$. Whenever $\\sigma_i>\\sigma_j$, we flip a variable the records the sign of the permutation. The cell below illustrates the code:"
   ]
  },
  {
   "cell_type": "code",
   "execution_count": 19,
   "id": "30e20a23-16ca-4b89-bb69-d78f31cbbffd",
   "metadata": {},
   "outputs": [
    {
     "name": "stdout",
     "output_type": "stream",
     "text": [
      "-1\n"
     ]
    }
   ],
   "source": [
    "sigma = (1, 0, 2, 3)\n",
    "n = len(sigma)\n",
    "sign = 1\n",
    "for i in range(n-1):\n",
    "    for j in range(i+1, n):\n",
    "        if sigma[i] > sigma[j]:\n",
    "            sign = -sign\n",
    "print(sign)"
   ]
  },
  {
   "cell_type": "markdown",
   "id": "4430154f-1d0a-4a7b-8feb-ca8d92a1e4cc",
   "metadata": {},
   "source": [
    "In the code above we use two nested `for` loops to iterate over the indexes. Then we compare the values of `sigma[i]` and `sigma[j]` and change the variable `sign` accordingly."
   ]
  },
  {
   "cell_type": "markdown",
   "id": "b180ceb4-673f-4afd-bd97-e295d6f7203b",
   "metadata": {},
   "source": [
    "## Exercise\n",
    "\n",
    "To check the correctness of our code, let's compute the signs of all permutations of a given order.\n",
    "\n",
    "1. Complete the cell below with the code necessary to compute the sign of each permutation. Then, check if the signs are being correctly computed.\n",
    "\n",
    "2. Repeat the exercise for $n=5$. (It is not necessary to check correctness of the sign for all permutations, just verify correctness of a subset of permutations."
   ]
  },
  {
   "cell_type": "code",
   "execution_count": null,
   "id": "9e69da4f-c709-4dff-b0c8-c2979067c15e",
   "metadata": {},
   "outputs": [],
   "source": [
    "n = 5\n",
    "for sigma in permutations(range(n)):\n",
    "    # Include code to compute the sign of sigma\n",
    "    print(sigma, sign)"
   ]
  },
  {
   "cell_type": "code",
   "execution_count": null,
   "id": "f64de79c-a9bf-4f2c-8bad-f72e4c4d1545",
   "metadata": {},
   "outputs": [],
   "source": [
    "# Write code here to compute the signs of permutations of order 5."
   ]
  },
  {
   "cell_type": "markdown",
   "id": "4834fbc4-6f9d-4451-b68a-eed6677d5483",
   "metadata": {},
   "source": [
    "For convenience, we want to define a function that computes the sign of a permutation. The cell below wraps the code in a function definition."
   ]
  },
  {
   "cell_type": "code",
   "execution_count": 32,
   "id": "ab648f58-fed6-440f-919e-d5e5dd6b1f43",
   "metadata": {},
   "outputs": [],
   "source": [
    "def sign(sigma):\n",
    "    s = 1\n",
    "    n = len(sigma)\n",
    "    for i in range(n-1):\n",
    "        for j in range(i+1, n):\n",
    "            if sigma[i] > sigma[j]:\n",
    "                s = -s\n",
    "    return s"
   ]
  },
  {
   "cell_type": "markdown",
   "id": "5f501e25-10ad-4fc7-9b1c-1200e8a56f62",
   "metadata": {},
   "source": [
    "## Exercise\n",
    "\n",
    "Repeat the previous exercise using the function `sign` defined above."
   ]
  },
  {
   "cell_type": "markdown",
   "id": "12771548-f0f9-4231-a50c-466ea44d5319",
   "metadata": {},
   "source": [
    "# Computing the determinant\n",
    "\n",
    "We are now ready to compute determinants. One last Python command we need is `prod`, which computes the product of a sequence. `prod` is part of the `math` module, which is part of the standard library\n",
    "\n",
    "_Note_: there also is a `prod` function in the `sympy` module, which one we use, in this case, is not important.\n",
    "\n",
    "Here is an example of use of `prod`:"
   ]
  },
  {
   "cell_type": "code",
   "execution_count": 33,
   "id": "7a063e0e-5fd0-4048-ae4e-8a1b8b5b4d1b",
   "metadata": {},
   "outputs": [
    {
     "data": {
      "image/png": "[encoded data removed]",
      "text/latex": [
       "$\\displaystyle 120$"
      ],
      "text/plain": [
       "120"
      ]
     },
     "execution_count": 33,
     "metadata": {},
     "output_type": "execute_result"
    }
   ],
   "source": [
    "prod([1,2,3,4,5])"
   ]
  },
  {
   "cell_type": "markdown",
   "id": "d4f2ad22-ac18-4d7e-9757-5d789a1524cc",
   "metadata": {},
   "source": [
    "The cells below shows how to compute the product associated to a permutation, that is, how to compute\n",
    "$$\n",
    "\\text{sgn}(\\sigma) a_{0,\\sigma(0)}a_{1,\\sigma(1)}\\cdots a_{n-1,\\sigma(n-1)}\n",
    "$$\n",
    "\n",
    "Start by defining a matrix and a specific permutation:"
   ]
  },
  {
   "cell_type": "code",
   "execution_count": 34,
   "id": "530b0294-692f-44a2-99c3-191adacead95",
   "metadata": {},
   "outputs": [
    {
     "data": {
      "image/png": "[encoded data removed]",
      "text/latex": [
       "$\\displaystyle \\left[\\begin{matrix}\\frac{1}{2} & 2 & -3 & -2\\\\3 & -1 & \\frac{1}{3} & 4\\\\1 & 4 & 5 & -1\\\\2 & -3 & -1 & 3\\end{matrix}\\right]$"
      ],
      "text/plain": [
       "⎡1/2  2   -3   -2⎤\n",
       "⎢                ⎥\n",
       "⎢ 3   -1  1/3  4 ⎥\n",
       "⎢                ⎥\n",
       "⎢ 1   4    5   -1⎥\n",
       "⎢                ⎥\n",
       "⎣ 2   -3  -1   3 ⎦"
      ]
     },
     "execution_count": 34,
     "metadata": {},
     "output_type": "execute_result"
    }
   ],
   "source": [
    "A = rational_matrix([[1/2,  2, -3, -2],\n",
    "                     [3, -1, 1/3, 4],\n",
    "                     [1,  4, 5, -1],\n",
    "                     [2, -3, -1, 3]])\n",
    "A"
   ]
  },
  {
   "cell_type": "code",
   "execution_count": 35,
   "id": "379e3fd8-da82-4f56-ac8f-ff79434e5e3a",
   "metadata": {},
   "outputs": [
    {
     "data": {
      "image/png": "[encoded data removed]",
      "text/latex": [
       "$\\displaystyle \\left( 3, \\  0, \\  1, \\  2\\right)$"
      ],
      "text/plain": [
       "(3, 0, 1, 2)"
      ]
     },
     "execution_count": 35,
     "metadata": {},
     "output_type": "execute_result"
    }
   ],
   "source": [
    "sigma = (3,0,1,2)\n",
    "sigma"
   ]
  },
  {
   "cell_type": "markdown",
   "id": "40fa58f2-cb31-41db-b8dd-d6c3bcbe97b4",
   "metadata": {},
   "source": [
    "For this example, we have:\n",
    "$$\n",
    "\\text{sgn}(\\sigma)  =\n",
    "(-1)1\\cdot a_{0,\\sigma(0)}a_{1,\\sigma(1)}\\cdots a_{n-1,\\sigma(n-1)}=\n",
    "(-1)\\cdot(-2)\\cdot 3\\cdot 4\\cdot(-1)=-24\n",
    "$$\n",
    "\n",
    "Here is the product computation in Python. The expression `A.rows` returns the number of rows of matrix `A`:"
   ]
  },
  {
   "cell_type": "code",
   "execution_count": 46,
   "id": "27d5532d-3caf-475e-8412-d30371fe7dcd",
   "metadata": {},
   "outputs": [
    {
     "data": {
      "image/png": "[encoded data removed]",
      "text/latex": [
       "$\\displaystyle -24$"
      ],
      "text/plain": [
       "-24"
      ]
     },
     "execution_count": 46,
     "metadata": {},
     "output_type": "execute_result"
    }
   ],
   "source": [
    "n = A.rows\n",
    "prod((A[i,sigma[i]] for i in range(n)), start=sign(sigma))"
   ]
  },
  {
   "cell_type": "markdown",
   "id": "ad2b1fae-f8b6-4112-bf41-beb1ac9fa623",
   "metadata": {},
   "source": [
    "We can now compute the determinant, which is a \"sum of products\":"
   ]
  },
  {
   "cell_type": "code",
   "execution_count": 51,
   "id": "8e8c9bda-2e9b-45d8-a16e-942b2f85ba00",
   "metadata": {},
   "outputs": [
    {
     "data": {
      "image/png": "[encoded data removed]",
      "text/latex": [
       "$\\displaystyle \\frac{187}{2}$"
      ],
      "text/plain": [
       "187/2"
      ]
     },
     "execution_count": 51,
     "metadata": {},
     "output_type": "execute_result"
    }
   ],
   "source": [
    "n = A.rows\n",
    "Adet = sum(prod((A[i,sigma[i]] for i in range(n)), start=sign(sigma)) \n",
    "           for sigma in permutations(range(n)))\n",
    "Adet"
   ]
  },
  {
   "cell_type": "markdown",
   "id": "e24e2287-1866-4450-9d5c-66b769e59bfb",
   "metadata": {},
   "source": [
    "## Exercises\n",
    "\n",
    "1. Use the code above to compute the determinant of the matrix\n",
    "$$\n",
    "B=\\begin{bmatrix}\n",
    "2&-1&3\\\\0&4&-2\\\\1&1&5\n",
    "\\end{bmatrix}\n",
    "$$\n",
    "\n",
    "2. Define a function `determinant` that computes the determinant of a square matrix $A$. Here is a skeleton of the code:\n",
    "```python\n",
    "def determinant(A):\n",
    "    # Write your code here\n",
    "    return Adet\n",
    "```\n",
    "\n",
    "Test your code with at least 3 matrices, with diferent sizes.\n",
    "\n",
    "3. Our code can also be used to compute symbolic determinants. For $3\\times3$ matrices we can use the following code to create a generic matrix:\n",
    "```python\n",
    "n = 3\n",
    "A = Matrix([symbols(','.join(['a_{i+1}{j+1}' for j in range(n)])) \n",
    "            for i in range(n)])\n",
    "```\n",
    "\n",
    "Use the `determinant` function you defined above to compute the determinant of a generic $3\\times3$ matrix $A$. Then, repeat the exercise with $4\\times4$ matrices.\n",
    "\n",
    "4. We can use our code to verify the properties of the determinant. Define a generic $3\\times3$ generic matrix and use it to verify the following properties of the determinant:\n",
    "\n",
    "    a. Swapping two rows/columns changes the sign of the determinant.\n",
    "    \n",
    "    b. Multiplying a row/column by a scalar multiplies the determinant by the same scalar.\n",
    "    \n",
    "    c. Adding the product of a row by a scalar to another row does not change the determinant.\n",
    "\n",
    "5. Using generic symbolic matrices, verify that $\\det(AB)=\\det(A)\\det(B)$ for $3\\times3$ matrices.\n",
    "\n",
    "6. A famous formula that appears in problems related to polynomial interpolation is the *Vandermonde determinant*:\n",
    "\n",
    "$$\n",
    "\\begin{bmatrix}\n",
    "1 & x_1 & x_1^2 & \\cdots & x_1^{n-1}\\\\\n",
    "1 & x_2 & x_2^2 & \\cdots & x_2^{n-1}\\\\\n",
    "\\vdots & \\vdots & \\vdots & \\ddots & \\vdots\\\\\n",
    "1 & x_n & x_n^2 &\\cdots & x_n^{n-1}\n",
    "\\end{bmatrix}\n",
    "=\n",
    "\\prod_{1\\le i < j \\le n}(x_j-x_i)\n",
    "$$\n",
    "\n",
    "Use the `determinant` function you defined above to verify this formula for $3\\times3$ matrices. You can use the following code to create a generic Vandermonde matrix:\n",
    "\n",
    "```python\n",
    "xvars = symbols(','.join(f'x_{i+1}' for i in range(n)))\n",
    "A = Matrix([ [xvars[i]**j for j in range(n)] for i in range(n)])\n",
    "```\n",
    "\n",
    "*Optional*: Do the same for $4\\times4$ matrices"
   ]
  },
  {
   "cell_type": "code",
   "execution_count": null,
   "id": "de2a5dba-0468-470f-85f8-170363bb8646",
   "metadata": {},
   "outputs": [],
   "source": []
  }
 ],
 "metadata": {
  "kernelspec": {
   "display_name": "Python 3",
   "language": "python",
   "name": "python3"
  },
  "language_info": {
   "codemirror_mode": {
    "name": "ipython",
    "version": 3
   },
   "file_extension": ".py",
   "mimetype": "text/x-python",
   "name": "python",
   "nbconvert_exporter": "python",
   "pygments_lexer": "ipython3",
   "version": "3.8.5"
  }
 },
 "nbformat": 4,
 "nbformat_minor": 5
}
