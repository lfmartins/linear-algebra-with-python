{
 "cells": [
  {
   "cell_type": "code",
   "execution_count": null,
   "metadata": {
    "tags": []
   },
   "outputs": [],
   "source": [
    "from latools import *\n",
    "from sympy import *\n",
    "init_printing(use_latex=True)"
   ]
  },
  {
   "cell_type": "markdown",
   "metadata": {},
   "source": [
    "## Determine if a Set of Vectors is a Basis\n",
    "\n",
    "### Example 1\n",
    "\n",
    "Determine if the vectors below form a basis of $\\mathbb{R}^3$:\n",
    "$$\n",
    "\\mathbf{v}_1=\\begin{bmatrix} 1  \\\\ 3 \\\\ 0 \\end{bmatrix}\\quad\n",
    "\\mathbf{v}_2=\\begin{bmatrix} 2  \\\\ 2 \\\\ 1 \\end{bmatrix}\\quad\n",
    "\\mathbf{v}_3=\\begin{bmatrix} -1 \\\\ 4 \\\\ 1 \\end{bmatrix}\n",
    "$$\n",
    "\n",
    "#### Solution\n",
    "\n",
    "We want to find $c_1$, $c_2$, $c_3$ such that:\n",
    "\n",
    "$$\n",
    "\\begin{bmatrix} x \\\\ y \\\\ z \\end{bmatrix} = \n",
    "c_1\\begin{bmatrix} 1  \\\\ 3 \\\\ 0 \\end{bmatrix}+\n",
    "c_2\\begin{bmatrix} 2  \\\\ 2 \\\\ 1 \\end{bmatrix}+\n",
    "c_3\\begin{bmatrix} -1 \\\\ 4 \\\\ 1 \\end{bmatrix}\n",
    "$$\n",
    "\n",
    "Equivalently, we need to solve the system:\n",
    "\n",
    "$$\n",
    "\\begin{bmatrix} 1 & 2 & -1 \\\\ 3 & 2 & 4 \\\\ 0 & 1 & 1 \\end{bmatrix}\n",
    "\\begin{bmatrix} c_1\\\\c_2\\\\c_3 \\end{bmatrix} = \n",
    "\\begin{bmatrix} x \\\\ y \\\\ z \\\\ \\end{bmatrix}\n",
    "$$\n",
    "\n",
    "We solve the system using Gaussian Elimination:"
   ]
  },
  {
   "cell_type": "code",
   "execution_count": null,
   "metadata": {
    "collapsed": false,
    "jupyter": {
     "outputs_hidden": false
    }
   },
   "outputs": [],
   "source": [
    "x, y, z = symbols('x, y, z')\n",
    "A = rational_matrix([[1,  2, -1, x],\n",
    "                     [3,  2,  4, y],\n",
    "                     [0, -1,  1, z]])\n",
    "A"
   ]
  },
  {
   "cell_type": "code",
   "execution_count": null,
   "metadata": {
    "collapsed": false,
    "jupyter": {
     "outputs_hidden": false
    }
   },
   "outputs": [],
   "source": [
    "A1 = rop(A, 'R1*(-3)+R2=>R2')\n",
    "A1"
   ]
  },
  {
   "cell_type": "code",
   "execution_count": null,
   "metadata": {
    "collapsed": false,
    "jupyter": {
     "outputs_hidden": false
    }
   },
   "outputs": [],
   "source": [
    "A2 = rop(A1, 'R2<=>R3')\n",
    "A2"
   ]
  },
  {
   "cell_type": "code",
   "execution_count": null,
   "metadata": {
    "collapsed": false,
    "jupyter": {
     "outputs_hidden": false
    }
   },
   "outputs": [],
   "source": [
    "A3 = rop(A2, 'R2*(-1)=>R2')\n",
    "A3"
   ]
  },
  {
   "cell_type": "code",
   "execution_count": null,
   "metadata": {
    "collapsed": false,
    "jupyter": {
     "outputs_hidden": false
    }
   },
   "outputs": [],
   "source": [
    "A4 = rop(A3, 'R2*(-2)+R1=>R1', 'R2*(4)+R3=>R3')\n",
    "A4"
   ]
  },
  {
   "cell_type": "code",
   "execution_count": null,
   "metadata": {
    "collapsed": false,
    "jupyter": {
     "outputs_hidden": false
    }
   },
   "outputs": [],
   "source": [
    "A5 = rop(A4, 'R3*(1/3)=>R3')\n",
    "A5"
   ]
  },
  {
   "cell_type": "code",
   "execution_count": null,
   "metadata": {
    "collapsed": false,
    "jupyter": {
     "outputs_hidden": false
    }
   },
   "outputs": [],
   "source": [
    "A6 = rop(A5, 'R3*(-1)+R1=>R1', 'R3*(1)+R2=>R2')\n",
    "A6"
   ]
  },
  {
   "cell_type": "markdown",
   "metadata": {},
   "source": [
    "This is in RREF, so we get the solution:\n",
    "$$\n",
    "c_1=2x-\\frac{1}{3}y+\\frac{10}{3}z\n",
    "$$\n",
    "$$\n",
    "c_2=-x+\\frac{1}{3}y-\\frac{7}{3}z\n",
    "$$\n",
    "$$\n",
    "c_3=-x+\\frac{1}{3}y-\\frac{4}{3}z\n",
    "$$\n",
    "This can also be written in matrix form:\n",
    "\n",
    "$$\n",
    "\\begin{bmatrix} c_1 \\\\ c_2 \\\\ c_3 \\end{bmatrix} = \n",
    "\\begin{bmatrix} \n",
    "2  & -\\frac{1}{3} &  \\frac{10}{3}\\\\\n",
    "-1 &  \\frac{1}{3} & -\\frac{7}{3}\\\\\n",
    "-1 &  \\frac{1}{3} & -\\frac{4}{3}\n",
    "\\end{bmatrix}\n",
    "\\begin{bmatrix}x \\\\ y \\\\ z \\end{bmatrix}\n",
    "$$\n",
    "\n",
    "\n",
    "Since we can find a solution for any given $x$, $y$ and $z$, we conclude that the given set of vectors is a basis."
   ]
  },
  {
   "cell_type": "markdown",
   "metadata": {},
   "source": [
    "### Example 2\n",
    "\n",
    "Determine if the vectors below form a basis of $\\mathbb{R}^4$:\n",
    "$$\n",
    "\\mathbf{v}_1=\\begin{bmatrix} 0  \\\\ 2 \\\\ 1 \\\\    1 \\end{bmatrix}\\quad\n",
    "\\mathbf{v}_2=\\begin{bmatrix} 0  \\\\ 3 \\\\ 0 \\\\    3 \\end{bmatrix}\\quad\n",
    "\\mathbf{v}_3=\\begin{bmatrix} -2 \\\\ 1 \\\\ -2  \\\\  1 \\end{bmatrix}\\quad\n",
    "\\mathbf{v}_3=\\begin{bmatrix}  0 \\\\ 0 \\\\  1  \\\\ -1 \\end{bmatrix}\n",
    "$$\n",
    "\n",
    "#### Solution\n",
    "\n",
    "We want to find $c_1$, $c_2$, $c_3$ such that:\n",
    "\n",
    "$$\n",
    "\\begin{bmatrix} r \\\\ s \\\\ t \\\\ u \\end{bmatrix} = \n",
    "c_1\\begin{bmatrix} 0  \\\\ 2 \\\\ 1 \\\\ 1 \\end{bmatrix}+\n",
    "c_2\\begin{bmatrix} 0  \\\\ 3 \\\\ 0 \\\\ 3 \\end{bmatrix}+\n",
    "c_3\\begin{bmatrix} -2 \\\\ 1 \\\\ -2  \\\\  1 \\end{bmatrix}+\n",
    "c_4\\begin{bmatrix}  0 \\\\ 0 \\\\  1  \\\\ -1 \\end{bmatrix}\n",
    "$$\n",
    "\n",
    "Equivalently, we need to solve the system:\n",
    "\n",
    "$$\n",
    "\\begin{bmatrix} \n",
    "0 & 0 & -2 & 0 \\\\ \n",
    "2 & 3 & 1 & 0 \\\\ \n",
    "1 & 0 & -2 & 1 \\\\\n",
    "1 & 3 & 1 & -1\n",
    "\\end{bmatrix}\n",
    "\\begin{bmatrix} c_1\\\\c_2\\\\c_3 \\\\ c_4\\end{bmatrix} = \n",
    "\\begin{bmatrix} r \\\\ s \\\\ t \\\\ u\\end{bmatrix}\n",
    "$$\n",
    "\n",
    "We solve the system using Gaussian Elimination:"
   ]
  },
  {
   "cell_type": "code",
   "execution_count": null,
   "metadata": {
    "collapsed": false,
    "jupyter": {
     "outputs_hidden": false
    }
   },
   "outputs": [],
   "source": [
    "r, s, t, u = symbols('r,s,t,u')\n",
    "A = rational_matrix([[0,  0, -2,  0, r],\n",
    "                     [2,  3,  1,  0, s],\n",
    "                     [1,  0, -2,  1, t],\n",
    "                     [1,  3,  1, -1, u]])\n",
    "A"
   ]
  },
  {
   "cell_type": "code",
   "execution_count": null,
   "metadata": {
    "collapsed": false,
    "jupyter": {
     "outputs_hidden": false
    }
   },
   "outputs": [],
   "source": [
    "A1 = rop(A, 'R1<=>R3')\n",
    "A1"
   ]
  },
  {
   "cell_type": "code",
   "execution_count": null,
   "metadata": {
    "collapsed": false,
    "jupyter": {
     "outputs_hidden": false
    }
   },
   "outputs": [],
   "source": [
    "A2 = rop(A1, 'R1*(-2)+R2=>R2', 'R1*(-1)+R4=>R4')\n",
    "A2"
   ]
  },
  {
   "cell_type": "code",
   "execution_count": null,
   "metadata": {
    "collapsed": false,
    "jupyter": {
     "outputs_hidden": false
    }
   },
   "outputs": [],
   "source": [
    "A3 = rop(A2, 'R2*(1/3)=>R2')\n",
    "A3"
   ]
  },
  {
   "cell_type": "code",
   "execution_count": null,
   "metadata": {
    "collapsed": false,
    "jupyter": {
     "outputs_hidden": false
    }
   },
   "outputs": [],
   "source": [
    "A4 = rop(A3, 'R2*(-3)+R4=>R4')\n",
    "A4"
   ]
  },
  {
   "cell_type": "code",
   "execution_count": null,
   "metadata": {
    "collapsed": false,
    "jupyter": {
     "outputs_hidden": false
    }
   },
   "outputs": [],
   "source": [
    "A5 = rop(A4, 'R3*(-1/2)=>R3')\n",
    "A5"
   ]
  },
  {
   "cell_type": "code",
   "execution_count": null,
   "metadata": {
    "collapsed": false,
    "jupyter": {
     "outputs_hidden": false
    }
   },
   "outputs": [],
   "source": [
    "A6 = rop(A5, 'R3*(2)+R1=>R1', 'R3*(-5/3)+R2=>R2', 'R3*(2)+R4=>R4')\n",
    "A6"
   ]
  },
  {
   "cell_type": "markdown",
   "metadata": {},
   "source": [
    "Thus, the system is equivalent to:\n",
    "\n",
    "$$\n",
    "c_1 + c_4 = -r + t \n",
    "$$\n",
    "\n",
    "$$\n",
    "c_2-\\frac{2}{3}c_4 = \\frac{5}{6}r + \\frac{1}{3}s - \\frac{2}{3}t\n",
    "$$\n",
    "\n",
    "$$\n",
    "c_3 = -\\frac{1}{2}r\n",
    "$$\n",
    "\n",
    "$$\n",
    "0 = -r-s+t+u\n",
    "$$\n",
    "\n",
    "The last equation is impossible if $-r-w+t+u\\ne0$, so the given set is not a basis."
   ]
  },
  {
   "cell_type": "markdown",
   "metadata": {},
   "source": [
    "## Matrix Inversion\n",
    "\n",
    "### Example 1\n",
    "\n",
    "Determine if the matrix below is invertible and, if so, find its inverse.\n",
    "\n",
    "$$\n",
    "\\begin{bmatrix}\n",
    "2 &  3 &  1 & -2 \\\\\n",
    "3 & -1 &  2 &  2 \\\\\n",
    "1 &  5 & -2 & -3 \\\\\n",
    "1 &  2 &  1 &  1\n",
    "\\end{bmatrix}\n",
    "$$\n",
    "\n",
    "#### Solution:"
   ]
  },
  {
   "cell_type": "code",
   "execution_count": null,
   "metadata": {
    "collapsed": false,
    "jupyter": {
     "outputs_hidden": false
    }
   },
   "outputs": [],
   "source": [
    "A = rational_matrix([[2,  3,  1, -2, 1, 0, 0, 0],\n",
    "                     [3, -1,  2,  2, 0, 1, 0, 0],\n",
    "                     [1,  5, -2, -3, 0, 0, 1, 0],\n",
    "                     [1,  2,  1,  1, 0, 0, 0, 1]])\n",
    "A"
   ]
  },
  {
   "cell_type": "code",
   "execution_count": null,
   "metadata": {
    "collapsed": false,
    "jupyter": {
     "outputs_hidden": false
    }
   },
   "outputs": [],
   "source": [
    "A1 = rop(A, 'R1<=>R3')\n",
    "A1"
   ]
  },
  {
   "cell_type": "code",
   "execution_count": null,
   "metadata": {
    "collapsed": false,
    "jupyter": {
     "outputs_hidden": false
    }
   },
   "outputs": [],
   "source": [
    "A2 = rop(A1, 'R1*(-3)+R2=>R2', 'R1*(-2)+R3=>R3', 'R1*(-1)+R4=>R4')\n",
    "A2"
   ]
  },
  {
   "cell_type": "code",
   "execution_count": null,
   "metadata": {
    "collapsed": false,
    "jupyter": {
     "outputs_hidden": false
    }
   },
   "outputs": [],
   "source": [
    "A3 = rop(A2, 'R2*(-1/16)=>R2')\n",
    "A3"
   ]
  },
  {
   "cell_type": "code",
   "execution_count": null,
   "metadata": {
    "collapsed": false,
    "jupyter": {
     "outputs_hidden": false
    }
   },
   "outputs": [],
   "source": [
    "A4 = rop(A3, 'R2*(-5)+R1=>R1', 'R2*(7)+R3=>R3', 'R2*(3)+R4=>R4')\n",
    "A4"
   ]
  },
  {
   "cell_type": "code",
   "execution_count": null,
   "metadata": {
    "collapsed": false,
    "jupyter": {
     "outputs_hidden": false
    }
   },
   "outputs": [],
   "source": [
    "A5 = rop(A4, 'R3*(2/3)=>R3')\n",
    "A5"
   ]
  },
  {
   "cell_type": "code",
   "execution_count": null,
   "metadata": {
    "collapsed": false,
    "jupyter": {
     "outputs_hidden": false
    }
   },
   "outputs": [],
   "source": [
    "A6 = rop(A5, 'R3*(-1/2)+R1=>R1', 'R3*(1/2)+R2=>R2', 'R3*(-3/2)+R4=>R4')\n",
    "A6"
   ]
  },
  {
   "cell_type": "code",
   "execution_count": null,
   "metadata": {
    "collapsed": false,
    "jupyter": {
     "outputs_hidden": false
    }
   },
   "outputs": [],
   "source": [
    "A7 = rop(A6, 'R4*(4/11)=>R4')\n",
    "A7"
   ]
  },
  {
   "cell_type": "code",
   "execution_count": null,
   "metadata": {
    "collapsed": false,
    "jupyter": {
     "outputs_hidden": false
    }
   },
   "outputs": [],
   "source": [
    "A8 = rop(A7, 'R4*(-17/24)+R1=>R1', 'R4*(23/24)+R2=>R2', 'R4*(13/24)+R3=>R3')\n",
    "A8"
   ]
  },
  {
   "cell_type": "markdown",
   "metadata": {},
   "source": [
    "Since the RREF of the augmented matrix has the identity matrix on its left half, the given matrix is invertible. Its inverse can be found on the right half of the augmented matrix:\n",
    "\n",
    "$$\n",
    "\\left[\\begin{matrix} - \\frac{5}{66} & \\frac{13}{33} & \\frac{5}{22} & - \\frac{17}{66}\\\\\n",
    " - \\frac{1}{66} & - \\frac{4}{33} & \\frac{1}{22} & \\frac{23}{66}\\\\\n",
    "  \\frac{31}{66} & - \\frac{8}{33} & - \\frac{9}{22} & \\frac{13}{66}\\\\\n",
    "   - \\frac{4}{11} & \\frac{1}{11} & \\frac{1}{11} & \\frac{4}{11}\\end{matrix}\\right]\n",
    "$$"
   ]
  },
  {
   "cell_type": "markdown",
   "metadata": {},
   "source": [
    "### Example 2\n",
    "\n",
    "Determine if the matrix below is invertible and, if so, find its inverse.\n",
    "\n",
    "$$\n",
    "\\begin{bmatrix}\n",
    " 1 &  2 &  0 & -2 \\\\\n",
    "-1 &  2 & -6 & -8 \\\\\n",
    "-1 &  0 &  3 &  3 \\\\\n",
    " 0 &  2 & -3 & -5\n",
    "\\end{bmatrix}\n",
    "$$\n",
    "\n",
    "#### Solution:"
   ]
  },
  {
   "cell_type": "code",
   "execution_count": null,
   "metadata": {
    "collapsed": false,
    "jupyter": {
     "outputs_hidden": false
    }
   },
   "outputs": [],
   "source": [
    "A = rational_matrix([[ 1, 2,  0, -2, 1, 0, 0, 0],\n",
    "                     [-1, 2, -6, -8, 0, 1, 0, 0],\n",
    "                     [-1, 0,  3,  3, 0, 0, 1, 0],\n",
    "                     [ 0, 2, -3, -5, 0, 0, 0, 1]])\n",
    "A"
   ]
  },
  {
   "cell_type": "code",
   "execution_count": null,
   "metadata": {
    "collapsed": false,
    "jupyter": {
     "outputs_hidden": false
    }
   },
   "outputs": [],
   "source": [
    "A1 = rop(A, 'R1*(1)+R2=>R2', 'R1*(1)+R3=>R3')\n",
    "A1"
   ]
  },
  {
   "cell_type": "code",
   "execution_count": null,
   "metadata": {
    "collapsed": false,
    "jupyter": {
     "outputs_hidden": false
    }
   },
   "outputs": [],
   "source": [
    "A2 = rop(A1, 'R2*(1/4)=>R2')\n",
    "A2"
   ]
  },
  {
   "cell_type": "code",
   "execution_count": null,
   "metadata": {
    "collapsed": false,
    "jupyter": {
     "outputs_hidden": false
    }
   },
   "outputs": [],
   "source": [
    "A3 = rop(A2, 'R2*(-2)+R1=>R1', 'R2*(-2)+R3=>R3', 'R2*(-2)+R4=>R4')\n",
    "A3"
   ]
  },
  {
   "cell_type": "markdown",
   "metadata": {},
   "source": [
    "Since we got a row of zeros in the half of the augmented matrix corresponding to $A$, we can stop here, and the matrix will not be invertible."
   ]
  },
  {
   "cell_type": "markdown",
   "metadata": {
    "jupyter": {
     "outputs_hidden": true
    }
   },
   "source": [
    "# Exercises\n",
    "\n",
    "Compute, if possible, the inverse of each of the following matrices. If it is not possible to invert the matrix, explain why:\n",
    "\n",
    "1.\n",
    "$$\n",
    "\\left[\\begin{matrix}44 & -18 & -5 & 1\\\\-46 & 19 & 4 & -2\\\\-22 & 9 & 2 & -1\\\\13 & -5 & -1 & 1\\end{matrix}\\right]\n",
    "$$\n",
    "\n",
    "2.\n",
    "$$\\left[\\begin{matrix}19 & - \\frac{5}{2} & 1\\\\16 & - \\frac{5}{2} & 2\\\\10 & - \\frac{3}{2} & 1\\end{matrix}\\right]$$\n",
    "\n",
    "3.\n",
    "$$\\left[\\begin{matrix}-1 & 1 & 3 & 1 & 1\\\\1 & -2 & 1 & 1 & 1\\\\-1 & 1 & -2 & -1 & -1\\\\-3 & 3 & 5 & 0 & 1\\\\-1 & 1 & 3 & 1 & 1\\end{matrix}\\right]$$\n",
    "\n",
    "4.\n",
    "$$\\left[\\begin{matrix}1 & -1 & 1\\\\-1 & -2 & 1\\\\-1 & -1 & 0\\end{matrix}\\right]$$\n",
    "\n",
    "5.\n",
    "$$\\left[\\begin{matrix}0 & 0 & -3 & 2\\\\-1 & 0 & -2 & 1\\\\0 & 1 & 0 & 1\\\\0 & 0 & -1 & 1\\end{matrix}\\right]$$\n",
    "\n",
    "6.\n",
    "$$\\left[\\begin{matrix}-4 & -14 & 8\\\\-1 & -8 & 5\\\\-1 & -5 & 3\\end{matrix}\\right]$$\n",
    "\n"
   ]
  },
  {
   "cell_type": "code",
   "execution_count": null,
   "metadata": {},
   "outputs": [],
   "source": []
  }
 ],
 "metadata": {
  "anaconda-cloud": {},
  "kernelspec": {
   "display_name": "Python 3",
   "language": "python",
   "name": "python3"
  },
  "language_info": {
   "codemirror_mode": {
    "name": "ipython",
    "version": 3
   },
   "file_extension": ".py",
   "mimetype": "text/x-python",
   "name": "python",
   "nbconvert_exporter": "python",
   "pygments_lexer": "ipython3",
   "version": "3.8.5"
  }
 },
 "nbformat": 4,
 "nbformat_minor": 4
}
