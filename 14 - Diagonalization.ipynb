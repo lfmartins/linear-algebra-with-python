{
 "cells": [
  {
   "cell_type": "code",
   "execution_count": null,
   "metadata": {},
   "outputs": [],
   "source": [
    "from latools import *\n",
    "from sympy import *\n",
    "init_printing(use_latex=True)"
   ]
  },
  {
   "cell_type": "markdown",
   "metadata": {},
   "source": [
    "# Diagonalization\n",
    "\n",
    "## Example 1\n",
    "\n",
    "Let $L:\\mathbb{R}^3\\to\\mathbb{R}^3$ be the linear transformation given by:\n",
    "$$\n",
    "L\\left(\\begin{bmatrix}x\\\\y\\\\z\\end{bmatrix}\\right)=\n",
    "\\begin{bmatrix}9x-18y+6z\\\\6x-11y+2z\\\\2x-6y+5z\\end{bmatrix}\n",
    "$$\n",
    "Find, if possible, a basis of $\\mathbf{R^3}$ that diagonalizes $L$, and the diagonalization of $L$.\n",
    "\n",
    "_Solution_: We start by writing the matrix of $L$ on the standard basis:\n",
    "$$\n",
    "M=\\left[\\begin{matrix}9 & -18 & 6\\\\6 & -11 & 2\\\\2 & -6 & 5\\end{matrix}\\right]\n",
    "$$\n",
    "\n",
    "We have to determine if it is possible to find a basis of eigenvectors of $M$. We start by finding the eigenvalues:"
   ]
  },
  {
   "cell_type": "code",
   "execution_count": null,
   "metadata": {
    "collapsed": false,
    "jupyter": {
     "outputs_hidden": false
    }
   },
   "outputs": [],
   "source": [
    "M = rational_matrix([[9, -18, 6],\n",
    "                     [6, -11, 2],\n",
    "                     [2,  -6, 5]])\n",
    "M"
   ]
  },
  {
   "cell_type": "code",
   "execution_count": null,
   "metadata": {
    "collapsed": false,
    "jupyter": {
     "outputs_hidden": false
    }
   },
   "outputs": [],
   "source": [
    "lbd = symbols('lambda')\n",
    "p = det(M - lbd*eye(3))\n",
    "p"
   ]
  },
  {
   "cell_type": "code",
   "execution_count": null,
   "metadata": {
    "collapsed": false,
    "jupyter": {
     "outputs_hidden": false
    }
   },
   "outputs": [],
   "source": [
    "factor(p)"
   ]
  },
  {
   "cell_type": "markdown",
   "metadata": {},
   "source": [
    "The eigenvalues of $M$ are $\\lambda_1=-1$, $\\lambda_2=1$ and $\\lambda_3=3$. Next, we find a basis for each eigenspace:\n",
    "\n",
    "##### Eigenspace of $\\lambda_1=-1$:"
   ]
  },
  {
   "cell_type": "code",
   "execution_count": null,
   "metadata": {
    "collapsed": false,
    "jupyter": {
     "outputs_hidden": false
    }
   },
   "outputs": [],
   "source": [
    "R = reduced_row_echelon_form(M - (-1)*eye(3))\n",
    "R"
   ]
  },
  {
   "cell_type": "markdown",
   "metadata": {},
   "source": [
    "The system for the RREF matrix is:\n",
    "\n",
    "\\begin{align*}\n",
    "x_1-3x_3&=0\\\\\n",
    "x_2-2x_3&=0\n",
    "\\end{align*}\n",
    "\n",
    "Letting the free variable $x_3=1$ we get $x_1=3$ and $x_2=2$, so we get following basis for the eigenspace $E(-1)$:\n",
    "\n",
    "$$\n",
    "\\left\\{\\begin{bmatrix}3\\\\2\\\\1\\end{bmatrix}\\right\\}\n",
    "$$\n",
    "\n",
    "##### Eigenspace of $\\lambda_2=1$:"
   ]
  },
  {
   "cell_type": "code",
   "execution_count": null,
   "metadata": {
    "collapsed": false,
    "jupyter": {
     "outputs_hidden": false
    }
   },
   "outputs": [],
   "source": [
    "R = reduced_row_echelon_form(M - (1)*eye(3))\n",
    "R"
   ]
  },
  {
   "cell_type": "markdown",
   "metadata": {},
   "source": [
    "The system for the RREF matrix is:\n",
    "\n",
    "\\begin{align*}\n",
    "x_1-3x_3&=0\\\\\n",
    "x_2-\\frac{5}{3}x_3&=0\n",
    "\\end{align*}\n",
    "\n",
    "Letting $x_3=3$ we get $x_1=9$ and $x_2=5$, and the following basis for the eigenspace $E(1)$:\n",
    "\n",
    "$$\n",
    "\\left\\{\\begin{bmatrix}9\\\\5\\\\3\\end{bmatrix}\\right\\}\n",
    "$$\n",
    "\n",
    "##### Eigenspace of $\\lambda_3=3$:"
   ]
  },
  {
   "cell_type": "code",
   "execution_count": null,
   "metadata": {
    "collapsed": false,
    "jupyter": {
     "outputs_hidden": false
    }
   },
   "outputs": [],
   "source": [
    "R = reduced_row_echelon_form(M - (3)*eye(3))\n",
    "R"
   ]
  },
  {
   "cell_type": "markdown",
   "metadata": {},
   "source": [
    "The system for the RREF matrix is:\n",
    "\n",
    "\\begin{align*}\n",
    "x_1-2x_3&=0\\\\\n",
    "x_2-x_3&=0\n",
    "\\end{align*}\n",
    "\n",
    "Letting $x_3=1$ we get $x_1=2$ and $x_2=1$, and the following basis for the eigenspace $E(1)$:\n",
    "\n",
    "$$\n",
    "\\left\\{\\begin{bmatrix}2\\\\1\\\\1\\end{bmatrix}\\right\\}\n",
    "$$\n",
    "\n",
    "#### Summary:\n",
    "$$\n",
    "\\begin{array}{c|c}\n",
    "\\text{Eigenvalue} & \\text{Basis of Eigenspace}\\\\\\hline\n",
    "\\lambda_1=-1 & \\left\\{\\begin{bmatrix}3\\\\2\\\\1\\end{bmatrix}\\right\\}\\\\\n",
    "\\lambda_2=1  & \\left\\{\\begin{bmatrix}9\\\\5\\\\3\\end{bmatrix}\\right\\}\\\\\n",
    "\\lambda_3=3  & \\left\\{\\begin{bmatrix}2\\\\1\\\\1\\end{bmatrix}\\right\\}\n",
    "\\end{array}\n",
    "$$\n",
    "\n",
    "The sum of the dimensions of the eigenspaces is $1+1+1=3$, so we get a basis of $\\mathbb{R}^3$:\n",
    "\n",
    "$$\n",
    "B=\\left\\{\n",
    "\\begin{bmatrix}3\\\\2\\\\1\\end{bmatrix},\n",
    "\\begin{bmatrix}9\\\\5\\\\3\\end{bmatrix},\n",
    "\\begin{bmatrix}2\\\\1\\\\1\\end{bmatrix}\n",
    "\\right\\}\n",
    "$$\n",
    "\n",
    "It is guaranteed that these three vectors form a basis, because:\n",
    "\n",
    "- They are linearly independent, since they are eigenvectors corresponding to different eigenvalues.\n",
    "- Since the dimension of $\\mathbb{R}^3$ is 3, any set of three linearly independent vectors is a basis.\n",
    "\n",
    "We conclude that the matrix is diagonalizable. To find the matrix of the linear transformation on basis $B$, we define the change of basis matrix:"
   ]
  },
  {
   "cell_type": "code",
   "execution_count": null,
   "metadata": {
    "collapsed": false,
    "jupyter": {
     "outputs_hidden": false
    }
   },
   "outputs": [],
   "source": [
    "P = rational_matrix([[3, 9, 2],\n",
    "                        [2, 5, 1],\n",
    "                        [1, 3, 1]])\n",
    "P"
   ]
  },
  {
   "cell_type": "markdown",
   "metadata": {},
   "source": [
    "The matrix of the linear transformation on the new basis is:"
   ]
  },
  {
   "cell_type": "code",
   "execution_count": null,
   "metadata": {
    "collapsed": false,
    "jupyter": {
     "outputs_hidden": false
    }
   },
   "outputs": [],
   "source": [
    "D = P**(-1) * M * P\n",
    "D"
   ]
  },
  {
   "cell_type": "markdown",
   "metadata": {},
   "source": [
    "We get a diagonal matrix with the eigenvalues at the diagonal, as expected."
   ]
  },
  {
   "cell_type": "code",
   "execution_count": null,
   "metadata": {
    "collapsed": false,
    "jupyter": {
     "outputs_hidden": false
    }
   },
   "outputs": [],
   "source": [
    "D = rational_matrix([[1,0,0],[0,-1,0],[0,0,3]])\n",
    "D"
   ]
  },
  {
   "cell_type": "markdown",
   "metadata": {},
   "source": [
    "## Example 2\n",
    "\n",
    "Let $L:\\mathbb{R}^2\\to\\mathbb{R}^2$ be the linear transformation given by:\n",
    "$$\n",
    "L\\left(\\begin{bmatrix}x\\\\y\\end{bmatrix}\\right)=\n",
    "\\begin{bmatrix}-8x+25y\\\\-4x+12y\\end{bmatrix}\n",
    "$$\n",
    "Find, if possible, a basis of $\\mathbf{R^3}$ that diagonalizes $L$, and the diagonalization of $L$.\n",
    "\n",
    "_Solution_: We start by writing the matrix of $L$ on the standard basis:\n",
    "$$\n",
    "M=\\left[\\begin{matrix}-8 & 25\\\\-4 & 12\\end{matrix}\\right]\n",
    "$$\n",
    "\n",
    "We have to determine if it is possible to find a basis of eigenvectors of $M$. We start by finding the eigenvalues:"
   ]
  },
  {
   "cell_type": "code",
   "execution_count": null,
   "metadata": {
    "collapsed": false,
    "jupyter": {
     "outputs_hidden": false
    }
   },
   "outputs": [],
   "source": [
    "M = rational_matrix([[-8, 25],\n",
    "                        [-4, 12]])\n",
    "M"
   ]
  },
  {
   "cell_type": "code",
   "execution_count": null,
   "metadata": {
    "collapsed": false,
    "jupyter": {
     "outputs_hidden": false
    }
   },
   "outputs": [],
   "source": [
    "lbd = symbols('lambda')\n",
    "p = det(M - lbd*eye(2))\n",
    "factor(p)"
   ]
  },
  {
   "cell_type": "markdown",
   "metadata": {},
   "source": [
    "The matrix has only one eigenvalue, $\\lambda_1=2$. We next find a basis for the eigenspace of the eigenvalue:"
   ]
  },
  {
   "cell_type": "code",
   "execution_count": null,
   "metadata": {
    "collapsed": false,
    "jupyter": {
     "outputs_hidden": false
    }
   },
   "outputs": [],
   "source": [
    "R = reduced_row_echelon_form(M - 2*eye(2))\n",
    "R"
   ]
  },
  {
   "cell_type": "markdown",
   "metadata": {},
   "source": [
    "The system corresponding to the RREF has a single equation:\n",
    "\n",
    "$$\n",
    "x_1-\\frac{5}{2}x_2=0\n",
    "$$\n",
    "\n",
    "Letting $x_2=2$ we get $x_1=5$, which yields the following basis for the eigenspace $E(2)$:\n",
    "\n",
    "$$\n",
    "\\left\\{\\begin{bmatrix}5\\\\2\\end{bmatrix}\\right\\}\n",
    "$$\n",
    "\n",
    "This means that we have _at most one_ linearly independent eigenvector, so it is not possible to have a basis of eigenvectors (because the dimension of $\\mathbb{R}^2$ is 2). We conclude that _this matrix is not diagonalizable_."
   ]
  },
  {
   "cell_type": "code",
   "execution_count": null,
   "metadata": {
    "tags": []
   },
   "outputs": [],
   "source": []
  }
 ],
 "metadata": {
  "anaconda-cloud": {},
  "kernelspec": {
   "display_name": "Python 3",
   "language": "python",
   "name": "python3"
  },
  "language_info": {
   "codemirror_mode": {
    "name": "ipython",
    "version": 3
   },
   "file_extension": ".py",
   "mimetype": "text/x-python",
   "name": "python",
   "nbconvert_exporter": "python",
   "pygments_lexer": "ipython3",
   "version": "3.8.5"
  }
 },
 "nbformat": 4,
 "nbformat_minor": 4
}
