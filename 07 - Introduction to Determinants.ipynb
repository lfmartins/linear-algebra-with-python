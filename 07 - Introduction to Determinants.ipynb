{
 "cells": [
  {
   "cell_type": "code",
   "execution_count": null,
   "metadata": {
    "collapsed": false,
    "jupyter": {
     "outputs_hidden": false
    }
   },
   "outputs": [],
   "source": [
    "from latools import *\n",
    "from sympy import *\n",
    "init_printing(use_latex=True)"
   ]
  },
  {
   "cell_type": "markdown",
   "metadata": {
    "tags": []
   },
   "source": [
    "# The determinant of a 2 x 2 matrix\n",
    "\n",
    "Let's examine more closely the process of invertint a $2\\times2$ matrix. In the next cell, we define a matrix $A$ with symbolic entries, and the corresponding augmented matrix $M$."
   ]
  },
  {
   "cell_type": "code",
   "execution_count": null,
   "metadata": {
    "collapsed": false,
    "jupyter": {
     "outputs_hidden": false
    }
   },
   "outputs": [],
   "source": [
    "a, b, c, d = symbols('a, b, c, d')\n",
    "A = rational_matrix([[a, b],[c, d]])\n",
    "M = Matrix.row_join(A,eye(2))\n",
    "M"
   ]
  },
  {
   "cell_type": "markdown",
   "metadata": {},
   "source": [
    "Next, compute the RREF of $M$:"
   ]
  },
  {
   "cell_type": "code",
   "execution_count": null,
   "metadata": {},
   "outputs": [],
   "source": [
    "N = reduced_row_echelon_form(M)\n",
    "N"
   ]
  },
  {
   "cell_type": "markdown",
   "metadata": {},
   "source": [
    "So, we can get the inverse of $A$, but the expressions in $A^{-1}$ are not very nice. In the next cell we apply the function `simplify` to all entries of $A$."
   ]
  },
  {
   "cell_type": "code",
   "execution_count": null,
   "metadata": {
    "collapsed": false,
    "jupyter": {
     "outputs_hidden": false
    }
   },
   "outputs": [],
   "source": [
    "N = simplify(N)\n",
    "N"
   ]
  },
  {
   "cell_type": "markdown",
   "metadata": {},
   "source": [
    "This is much better. We can now extract the inverse of $A$ from the RREF of the augmented matrix:"
   ]
  },
  {
   "cell_type": "code",
   "execution_count": null,
   "metadata": {
    "collapsed": false,
    "jupyter": {
     "outputs_hidden": false
    }
   },
   "outputs": [],
   "source": [
    "Ainv = N[:, 2:]\n",
    "Ainv"
   ]
  },
  {
   "cell_type": "markdown",
   "metadata": {},
   "source": [
    "We now look for patterns. All entries of $A^{-1}$ have the same denominator. This denominator is what we call the _determinant_ of $A$. In the next cell we extract it:"
   ]
  },
  {
   "cell_type": "code",
   "execution_count": null,
   "metadata": {
    "collapsed": false,
    "jupyter": {
     "outputs_hidden": false
    }
   },
   "outputs": [],
   "source": [
    "Adet = denom(Ainv[0,0])\n",
    "Adet"
   ]
  },
  {
   "cell_type": "markdown",
   "metadata": {},
   "source": [
    "Next, let's multipy $A^{-1}$ by the determinant. The resulting matrix has a simple form, and is called the _adjoint_ of $A$."
   ]
  },
  {
   "cell_type": "code",
   "execution_count": null,
   "metadata": {
    "collapsed": false,
    "jupyter": {
     "outputs_hidden": false
    }
   },
   "outputs": [],
   "source": [
    "Aadj = Adet*Ainv\n",
    "Aadj"
   ]
  },
  {
   "cell_type": "markdown",
   "metadata": {},
   "source": [
    "These observations provide a way to compute the inverse of matrix that is easy to memorize:\n",
    "\n",
    "- Compute $\\det{A}=ad-bc$\n",
    "- Define the matrix $A_{\\text{adj}}=\\begin{bmatrix}d&-b\\\\-c&a\\end{bmatrix}$\n",
    "- Then, $$A^{-1}=\\frac{1}{\\det{A}}A_{\\text{adj}}$$\n",
    "\n",
    "Of course, this is only possible if $\\det(A)=ad-bc$ is not zero. As we will see later, if $\\det(A)=0$, the matrix $A$ is not invertible.\n",
    "\n",
    "To streamline this computation, we put all the code above in a single code cell. Notice that we added a line to create a symbolic matrix $A=[a_{ij}]_{0\\le i,j\\le n-1}$"
   ]
  },
  {
   "cell_type": "code",
   "execution_count": null,
   "metadata": {
    "collapsed": false,
    "jupyter": {
     "outputs_hidden": false
    }
   },
   "outputs": [],
   "source": [
    "n = 2\n",
    "A = Matrix([symbols(','.join([f'a_{i+1}{j+1}' for j in range(n)])) \n",
    "            for i in range(n)])\n",
    "M = A.row_join(eye(n))\n",
    "N = simplify(reduced_row_echelon_form(M))\n",
    "Ainv = N[:, n:]\n",
    "Adet = denom(Ainv[0,0])\n",
    "Aadj = Adet * Ainv\n",
    "Ainv"
   ]
  },
  {
   "cell_type": "code",
   "execution_count": null,
   "metadata": {
    "collapsed": false,
    "jupyter": {
     "outputs_hidden": false
    }
   },
   "outputs": [],
   "source": [
    "Adet"
   ]
  },
  {
   "cell_type": "code",
   "execution_count": null,
   "metadata": {
    "collapsed": false,
    "jupyter": {
     "outputs_hidden": false
    }
   },
   "outputs": [],
   "source": [
    "Aadj"
   ]
  },
  {
   "cell_type": "markdown",
   "metadata": {},
   "source": [
    "Based on this example, we can define:\n",
    "$$\n",
    "\\det{A}=a_{11}a_{22}-a_{12}a_{21}\n",
    "$$\n",
    "$$\n",
    "A_{\\text{adj}}=\\begin{bmatrix}a_{22}&-a_{12}\\\\-a_{21}&a_{11}\\end{bmatrix}\n",
    "$$\n",
    "If $\\det(A)\\ne0$, then $A$ is invertible and:\n",
    "$$\n",
    "A^{-1}=\\frac{1}{\\det{A}}A_{\\text{adj}}\n",
    "$$"
   ]
  },
  {
   "cell_type": "markdown",
   "metadata": {},
   "source": [
    "## Exercises:\n",
    "\n",
    "1. Use the formulas above to compute inverse of the matrix $\\begin{bmatrix}2&1\\\\3&-2\\end{bmatrix}$\n",
    "\n",
    "2. Write a verbal description of how to compute the determinant and the adjoint of a matrix. Pretend you ,live in the 18th century and you need a mnemonic to quickly compute the inverse of a $2\\times2$ matrix."
   ]
  },
  {
   "cell_type": "markdown",
   "metadata": {},
   "source": [
    "# The determinant of a 3 x 3 matrix\n",
    "\n",
    "Let's now use the same method with a $3\\times3$ matrix. This is very similar to what Leibniz wrote to L'Hospital in a 1693 letter, where he introduced index notation for the coefficients of a linear system."
   ]
  },
  {
   "cell_type": "code",
   "execution_count": null,
   "metadata": {
    "collapsed": false,
    "jupyter": {
     "outputs_hidden": false
    }
   },
   "outputs": [],
   "source": [
    "n = 3\n",
    "A = Matrix([symbols(','.join([f'a_{i+1}{j+1}' for j in range(n)])) \n",
    "            for i in range(n)])\n",
    "M = A.row_join(eye(n))\n",
    "N = simplify(reduced_row_echelon_form(M))\n",
    "Ainv = N[:, n:]\n",
    "Adet = denom(Ainv[0,0])\n",
    "Aadj = Adet * Ainv\n",
    "Ainv"
   ]
  },
  {
   "cell_type": "markdown",
   "metadata": {
    "jupyter": {
     "outputs_hidden": false
    }
   },
   "source": [
    "Notice that the formula for the inverse is much more complicated. Things become simpler if we isolate the determinant, which is the denominator of the entries in $A^{-1}$:"
   ]
  },
  {
   "cell_type": "code",
   "execution_count": null,
   "metadata": {
    "collapsed": false,
    "jupyter": {
     "outputs_hidden": false
    }
   },
   "outputs": [],
   "source": [
    "Adet"
   ]
  },
  {
   "cell_type": "markdown",
   "metadata": {
    "jupyter": {
     "outputs_hidden": false
    }
   },
   "source": [
    "The adjoint matrix $A_{\\text{adj}}$ is also not as simple as the $2\\times2$ case:"
   ]
  },
  {
   "cell_type": "code",
   "execution_count": null,
   "metadata": {},
   "outputs": [],
   "source": [
    "Aadj"
   ]
  },
  {
   "cell_type": "markdown",
   "metadata": {},
   "source": [
    "Although not as easily in the $2\\times2$, we can still find useful patterns in the formulas for $\\det(A)$ and $A_{\\text{adj}}$.\n",
    "\n",
    "## Exercises\n",
    "\n",
    "1. Notice that the expression for $\\det(A)$ consists of six products. Can you see any patterns indices of each of the terms in these products? For now, ingnore the sign of each product.\n",
    "\n",
    "2. Can you find the pattern in the signs of each product? This is not an easy question, so it is not necessary to have a completely general answer.\n",
    "\n",
    "3. Write each entry of the matrix $A_{\\text{adj}}$ as a $2\\times2$ determinant. \n",
    "\n",
    "4. Find a pattern relating the determinants you identified in the previous item to the original entries in the matrix $A$. Again, a partial solution without a general statement about the pattern is acceptable."
   ]
  },
  {
   "cell_type": "markdown",
   "metadata": {},
   "source": [
    "# Determinants of 4 x 4 matrices\n",
    "\n",
    "The next cell does the same computation for $4\\times4$ matrices. Be aware that the computation now takes a somewhat longer time"
   ]
  },
  {
   "cell_type": "code",
   "execution_count": null,
   "metadata": {
    "collapsed": false,
    "jupyter": {
     "outputs_hidden": false
    }
   },
   "outputs": [],
   "source": [
    "n = 4\n",
    "A = A = Matrix([symbols(','.join([f'a_{i+1}{j+1}' for j in range(n)])) \n",
    "            for i in range(n)])\n",
    "M = A.row_join(eye(n))\n",
    "N = simplify(reduced_row_echelon_form(M))\n",
    "Ainv = N[:, n:]\n",
    "Adet = denom(Ainv[0,0])\n",
    "Aadj = Adet * Ainv\n",
    "Ainv"
   ]
  },
  {
   "cell_type": "markdown",
   "metadata": {},
   "source": [
    "The determinant now is quite a long formula, as are the entries of $A_{\\text{adj}}$. You may have to scroll the screen horizontally to see the whole formulas."
   ]
  },
  {
   "cell_type": "code",
   "execution_count": null,
   "metadata": {
    "collapsed": false,
    "jupyter": {
     "outputs_hidden": false
    }
   },
   "outputs": [],
   "source": [
    "Adet"
   ]
  },
  {
   "cell_type": "code",
   "execution_count": null,
   "metadata": {
    "collapsed": false,
    "jupyter": {
     "outputs_hidden": false
    }
   },
   "outputs": [],
   "source": [
    "Aadj"
   ]
  },
  {
   "cell_type": "markdown",
   "metadata": {
    "jupyter": {
     "outputs_hidden": true
    }
   },
   "source": [
    "## Exercises\n",
    "\n",
    "Let's now see if we can identify useful patterns. As in the case of $3\\times3$ determinants, complete answers are not required. \n",
    "\n",
    "1. Do the patterns you identified for $3\\times3$ determinants hold in the $4\\times4$ case?\n",
    "\n",
    "2. Can you identify the entries in $A_{\\text{adj}}$ as determinants of $3\\times3$ matrices?\n"
   ]
  },
  {
   "cell_type": "code",
   "execution_count": null,
   "metadata": {},
   "outputs": [],
   "source": []
  }
 ],
 "metadata": {
  "anaconda-cloud": {},
  "kernelspec": {
   "display_name": "Python 3",
   "language": "python",
   "name": "python3"
  },
  "language_info": {
   "codemirror_mode": {
    "name": "ipython",
    "version": 3
   },
   "file_extension": ".py",
   "mimetype": "text/x-python",
   "name": "python",
   "nbconvert_exporter": "python",
   "pygments_lexer": "ipython3",
   "version": "3.8.5"
  }
 },
 "nbformat": 4,
 "nbformat_minor": 4
}
